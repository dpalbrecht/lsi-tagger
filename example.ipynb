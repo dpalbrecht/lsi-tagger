{
 "cells": [
  {
   "cell_type": "code",
   "execution_count": 1,
   "id": "6845d714-1fe0-43b0-8b7d-9ab583b3d016",
   "metadata": {},
   "outputs": [],
   "source": [
    "from gensim import corpora, models\n",
    "import pandas as pd\n",
    "import numpy as np\n",
    "import sys\n",
    "from collections import Counter\n",
    "sys.path.append(\"c:/users/david/desktop/sandbox/lsi-tagger\")\n",
    "from model.tag_extractor import TagExtractor\n",
    "from model.text_cleaner import TextCleaner\n",
    "import itertools\n",
    "\n",
    "%load_ext autoreload\n",
    "%autoreload 2"
   ]
  },
  {
   "cell_type": "code",
   "execution_count": 2,
   "id": "76b076de-bf48-4685-b0c3-34ca8f9fc35f",
   "metadata": {},
   "outputs": [
    {
     "name": "stdout",
     "output_type": "stream",
     "text": [
      "(105126, 25)\n"
     ]
    },
    {
     "data": {
      "text/html": [
       "<div>\n",
       "<style scoped>\n",
       "    .dataframe tbody tr th:only-of-type {\n",
       "        vertical-align: middle;\n",
       "    }\n",
       "\n",
       "    .dataframe tbody tr th {\n",
       "        vertical-align: top;\n",
       "    }\n",
       "\n",
       "    .dataframe thead th {\n",
       "        text-align: right;\n",
       "    }\n",
       "</style>\n",
       "<table border=\"1\" class=\"dataframe\">\n",
       "  <thead>\n",
       "    <tr style=\"text-align: right;\">\n",
       "      <th></th>\n",
       "      <th>article_id</th>\n",
       "      <th>product_code</th>\n",
       "      <th>prod_name</th>\n",
       "      <th>product_type_no</th>\n",
       "      <th>product_type_name</th>\n",
       "      <th>product_group_name</th>\n",
       "      <th>graphical_appearance_no</th>\n",
       "      <th>graphical_appearance_name</th>\n",
       "      <th>colour_group_code</th>\n",
       "      <th>colour_group_name</th>\n",
       "      <th>...</th>\n",
       "      <th>department_name</th>\n",
       "      <th>index_code</th>\n",
       "      <th>index_name</th>\n",
       "      <th>index_group_no</th>\n",
       "      <th>index_group_name</th>\n",
       "      <th>section_no</th>\n",
       "      <th>section_name</th>\n",
       "      <th>garment_group_no</th>\n",
       "      <th>garment_group_name</th>\n",
       "      <th>detail_desc</th>\n",
       "    </tr>\n",
       "  </thead>\n",
       "  <tbody>\n",
       "    <tr>\n",
       "      <th>0</th>\n",
       "      <td>108775015</td>\n",
       "      <td>108775</td>\n",
       "      <td>Strap top</td>\n",
       "      <td>253</td>\n",
       "      <td>Vest top</td>\n",
       "      <td>Garment Upper body</td>\n",
       "      <td>1010016</td>\n",
       "      <td>Solid</td>\n",
       "      <td>9</td>\n",
       "      <td>Black</td>\n",
       "      <td>...</td>\n",
       "      <td>Jersey Basic</td>\n",
       "      <td>A</td>\n",
       "      <td>Ladieswear</td>\n",
       "      <td>1</td>\n",
       "      <td>Ladieswear</td>\n",
       "      <td>16</td>\n",
       "      <td>Womens Everyday Basics</td>\n",
       "      <td>1002</td>\n",
       "      <td>Jersey Basic</td>\n",
       "      <td>Jersey top with narrow shoulder straps.</td>\n",
       "    </tr>\n",
       "    <tr>\n",
       "      <th>1</th>\n",
       "      <td>108775044</td>\n",
       "      <td>108775</td>\n",
       "      <td>Strap top</td>\n",
       "      <td>253</td>\n",
       "      <td>Vest top</td>\n",
       "      <td>Garment Upper body</td>\n",
       "      <td>1010016</td>\n",
       "      <td>Solid</td>\n",
       "      <td>10</td>\n",
       "      <td>White</td>\n",
       "      <td>...</td>\n",
       "      <td>Jersey Basic</td>\n",
       "      <td>A</td>\n",
       "      <td>Ladieswear</td>\n",
       "      <td>1</td>\n",
       "      <td>Ladieswear</td>\n",
       "      <td>16</td>\n",
       "      <td>Womens Everyday Basics</td>\n",
       "      <td>1002</td>\n",
       "      <td>Jersey Basic</td>\n",
       "      <td>Jersey top with narrow shoulder straps.</td>\n",
       "    </tr>\n",
       "  </tbody>\n",
       "</table>\n",
       "<p>2 rows × 25 columns</p>\n",
       "</div>"
      ],
      "text/plain": [
       "   article_id  product_code  prod_name  product_type_no product_type_name  \\\n",
       "0   108775015        108775  Strap top              253          Vest top   \n",
       "1   108775044        108775  Strap top              253          Vest top   \n",
       "\n",
       "   product_group_name  graphical_appearance_no graphical_appearance_name  \\\n",
       "0  Garment Upper body                  1010016                     Solid   \n",
       "1  Garment Upper body                  1010016                     Solid   \n",
       "\n",
       "   colour_group_code colour_group_name  ...  department_name index_code  \\\n",
       "0                  9             Black  ...     Jersey Basic          A   \n",
       "1                 10             White  ...     Jersey Basic          A   \n",
       "\n",
       "   index_name index_group_no  index_group_name section_no  \\\n",
       "0  Ladieswear              1        Ladieswear         16   \n",
       "1  Ladieswear              1        Ladieswear         16   \n",
       "\n",
       "             section_name garment_group_no  garment_group_name  \\\n",
       "0  Womens Everyday Basics             1002        Jersey Basic   \n",
       "1  Womens Everyday Basics             1002        Jersey Basic   \n",
       "\n",
       "                               detail_desc  \n",
       "0  Jersey top with narrow shoulder straps.  \n",
       "1  Jersey top with narrow shoulder straps.  \n",
       "\n",
       "[2 rows x 25 columns]"
      ]
     },
     "execution_count": 2,
     "metadata": {},
     "output_type": "execute_result"
    }
   ],
   "source": [
    "df = pd.read_csv('data/h&m_kaggle_products.csv')\n",
    "df = df[~df.isnull().any(axis=1)]\n",
    "print(df.shape)\n",
    "df.head(2)"
   ]
  },
  {
   "cell_type": "code",
   "execution_count": 3,
   "id": "c99a224d-a3f7-4000-9533-2b312c93a293",
   "metadata": {},
   "outputs": [
    {
     "name": "stderr",
     "output_type": "stream",
     "text": [
      "100%|█████████████████████████████████████████████████████████████████████████| 43404/43404 [00:04<00:00, 10618.35it/s]\n"
     ]
    }
   ],
   "source": [
    "documents = df['detail_desc'].drop_duplicates().values\n",
    "\n",
    "te = TagExtractor(word_count_min=1, word_length_min=2, num_lsi_topics=200)\n",
    "te.fit(documents)"
   ]
  },
  {
   "cell_type": "code",
   "execution_count": 4,
   "id": "b9dff8d1-9029-4a85-8213-e9a75082f9e5",
   "metadata": {},
   "outputs": [
    {
     "data": {
      "text/plain": [
       "([('narrow', 1), ('shoulder', 1), ('straps', 1), ('jersey', 1)],\n",
       " [{},\n",
       "  {},\n",
       "  {'narrow': 1.0831158879417275,\n",
       "   'shoulder': 1.0500825729187626,\n",
       "   'straps': 0.9355821979421521,\n",
       "   'jersey': 0.5762472925840754},\n",
       "  {}])"
      ]
     },
     "execution_count": 4,
     "metadata": {},
     "output_type": "execute_result"
    }
   ],
   "source": [
    "input_tags, candidate_tags = te.extract_tags_and_rank(ranked_inputs=[\n",
    "                             'Jersey top with narrow shoulder straps.', # Input\n",
    "                             'Tights with built-in support to lift the bottom. Black in 30 denier and light amber in 15 denier.',\n",
    "                             'Semi shiny tights that shape the tummy, thighs and calves while also encouraging blood circulation in the legs. Elasticated waist.',\n",
    "                             'Jersey top with narrow shoulder straps.',\n",
    "                             'uygnhjkl'\n",
    "                          ], \n",
    "                          n_input_tags=10, n_candidate_tags=5)\n",
    "\n",
    "input_tags, candidate_tags"
   ]
  },
  {
   "cell_type": "code",
   "execution_count": 5,
   "id": "afa672f4-d6a2-4175-a3e8-609970d46d52",
   "metadata": {},
   "outputs": [
    {
     "data": {
      "text/plain": [
       "[2, 0, 1, 3]"
      ]
     },
     "execution_count": 5,
     "metadata": {},
     "output_type": "execute_result"
    }
   ],
   "source": [
    "new_candidate_ranking = te.extract_tags_and_rank(ranked_inputs=candidate_tags, selected_tags=['jersey'])\n",
    "new_candidate_ranking"
   ]
  },
  {
   "cell_type": "code",
   "execution_count": 9,
   "id": "86e8f14a-7bc3-4029-a469-fff4eb886621",
   "metadata": {},
   "outputs": [],
   "source": [
    "te.save()"
   ]
  },
  {
   "cell_type": "code",
   "execution_count": 10,
   "id": "6bcb6926-9340-4fef-a335-65684c60f4ec",
   "metadata": {},
   "outputs": [
    {
     "data": {
      "text/plain": [
       "dict_keys(['word_count_min', 'word_length_min', 'num_lsi_topics', 'tc', 'problem_docs', 'doc2ind', 'dictionary', 'corpus', 'tfidf', 'corpus_tfidf', 'lsi_model', 'corpus_lsi', 'lsi_topic_matrix', 'tc_word_counts'])"
      ]
     },
     "execution_count": 10,
     "metadata": {},
     "output_type": "execute_result"
    }
   ],
   "source": [
    "te.__dict__.keys()"
   ]
  },
  {
   "cell_type": "code",
   "execution_count": 14,
   "id": "a529c3ac-6eba-4b5f-a36f-2672aefaa4b1",
   "metadata": {},
   "outputs": [],
   "source": [
    "te = TagExtractor()\n",
    "te.load()"
   ]
  },
  {
   "cell_type": "code",
   "execution_count": 15,
   "id": "1f6c546c-d412-42f6-a979-7a5935787a23",
   "metadata": {},
   "outputs": [
    {
     "data": {
      "text/plain": [
       "([('narrow', 1), ('shoulder', 1), ('straps', 1), ('jersey', 1)],\n",
       " [{},\n",
       "  {},\n",
       "  {'narrow': 1.0831158879417275,\n",
       "   'shoulder': 1.0500825729187626,\n",
       "   'straps': 0.9355821979421521,\n",
       "   'jersey': 0.5762472925840754},\n",
       "  {}])"
      ]
     },
     "execution_count": 15,
     "metadata": {},
     "output_type": "execute_result"
    }
   ],
   "source": [
    "input_tags, candidate_tags = te.extract_tags_and_rank(ranked_inputs=[\n",
    "                             'Jersey top with narrow shoulder straps.', # Input\n",
    "                             'Tights with built-in support to lift the bottom. Black in 30 denier and light amber in 15 denier.',\n",
    "                             'Semi shiny tights that shape the tummy, thighs and calves while also encouraging blood circulation in the legs. Elasticated waist.',\n",
    "                             'Jersey top with narrow shoulder straps.',\n",
    "                             'uygnhjkl'\n",
    "                          ], \n",
    "                          n_input_tags=10, n_candidate_tags=5)\n",
    "\n",
    "input_tags, candidate_tags"
   ]
  },
  {
   "cell_type": "code",
   "execution_count": 16,
   "id": "c5b2c704-054b-4f25-bb05-cf5adce3b55e",
   "metadata": {},
   "outputs": [
    {
     "data": {
      "text/plain": [
       "[2, 0, 1, 3]"
      ]
     },
     "execution_count": 16,
     "metadata": {},
     "output_type": "execute_result"
    }
   ],
   "source": [
    "new_candidate_ranking = te.extract_tags_and_rank(ranked_inputs=candidate_tags, selected_tags=['jersey'])\n",
    "new_candidate_ranking"
   ]
  },
  {
   "cell_type": "code",
   "execution_count": null,
   "id": "53750371-6657-4dc6-abdb-297dd3ca797d",
   "metadata": {},
   "outputs": [],
   "source": []
  },
  {
   "cell_type": "code",
   "execution_count": null,
   "id": "f0f16b28-74e6-46aa-b462-45807e94458d",
   "metadata": {},
   "outputs": [],
   "source": []
  },
  {
   "cell_type": "code",
   "execution_count": null,
   "id": "c2185f30-f117-46c6-80f0-e7d846ba6b7c",
   "metadata": {},
   "outputs": [],
   "source": []
  },
  {
   "cell_type": "code",
   "execution_count": 26,
   "id": "11109994-9abd-44cc-ad8d-6f7f2fa4fd38",
   "metadata": {},
   "outputs": [
    {
     "name": "stderr",
     "output_type": "stream",
     "text": [
      "[nltk_data] Downloading package averaged_perceptron_tagger to\n",
      "[nltk_data]     C:\\Users\\David\\AppData\\Roaming\\nltk_data...\n",
      "[nltk_data]   Package averaged_perceptron_tagger is already up-to-\n",
      "[nltk_data]       date!\n"
     ]
    }
   ],
   "source": [
    "import nltk\n",
    "nltk.download('averaged_perceptron_tagger')\n",
    "\n",
    "def pos_filter(ngram):\n",
    "    if ('-pron-' in ngram) or ('t' in ngram):\n",
    "        return False\n",
    "    acceptable_types = ('JJ', 'JJR', 'JJS', 'NN', 'NNS', 'NNP', 'NNPS')\n",
    "    second_type = ('NN', 'NNS', 'NNP', 'NNPS')\n",
    "    tags = nltk.pos_tag(ngram)\n",
    "    if (tags[0][1] in acceptable_types) and (tags[1][1] in second_type):\n",
    "        return True\n",
    "    else:\n",
    "        return False\n",
    "\n",
    "def get_bigrams(tokens, bigram_freq_min=20):\n",
    "    # Create bigrams\n",
    "    bigram_finder = nltk.collocations.BigramCollocationFinder.from_words(tokens)\n",
    "\n",
    "    # Filter bigrams by minimum frequency\n",
    "    bigram_finder.apply_freq_filter(bigram_freq_min)\n",
    "\n",
    "    # Calculate PMI\n",
    "    bigrams_df = pd.DataFrame(list(bigram_finder.score_ngrams(nltk.collocations.BigramAssocMeasures().pmi)), \n",
    "                            columns=['bigram','PMI']).sort_values(by='PMI', ascending=False)\n",
    "    bigrams_df = bigrams_df[bigrams_df['PMI'] > 1]\n",
    "\n",
    "    # Filter bigrams based on POS\n",
    "    bigrams_df = bigrams_df[bigrams_df['bigram'].apply(lambda x: pos_filter(x))]\n",
    "\n",
    "    return bigrams_df"
   ]
  },
  {
   "cell_type": "code",
   "execution_count": 21,
   "id": "9676c23a-c5ee-439f-8fcb-a18e19a5aefc",
   "metadata": {},
   "outputs": [
    {
     "name": "stderr",
     "output_type": "stream",
     "text": [
      "100%|██████████████████████████████████████████████████████████████████████████| 43404/43404 [00:04<00:00, 9742.18it/s]\n"
     ]
    }
   ],
   "source": [
    "tc = TextCleaner()\n",
    "cleaned_documents = tc.fit_transform(documents)"
   ]
  },
  {
   "cell_type": "code",
   "execution_count": 34,
   "id": "538ff787-aa92-44ac-8d18-02dca7af912c",
   "metadata": {},
   "outputs": [
    {
     "name": "stdout",
     "output_type": "stream",
     "text": [
      "288\n"
     ]
    },
    {
     "data": {
      "text/html": [
       "<div>\n",
       "<style scoped>\n",
       "    .dataframe tbody tr th:only-of-type {\n",
       "        vertical-align: middle;\n",
       "    }\n",
       "\n",
       "    .dataframe tbody tr th {\n",
       "        vertical-align: top;\n",
       "    }\n",
       "\n",
       "    .dataframe thead th {\n",
       "        text-align: right;\n",
       "    }\n",
       "</style>\n",
       "<table border=\"1\" class=\"dataframe\">\n",
       "  <thead>\n",
       "    <tr style=\"text-align: right;\">\n",
       "      <th></th>\n",
       "      <th>bigram</th>\n",
       "      <th>PMI</th>\n",
       "    </tr>\n",
       "  </thead>\n",
       "  <tbody>\n",
       "    <tr>\n",
       "      <th>1</th>\n",
       "      <td>(room, movement)</td>\n",
       "      <td>11.471851</td>\n",
       "    </tr>\n",
       "    <tr>\n",
       "      <th>2</th>\n",
       "      <td>(fuller, cleavage)</td>\n",
       "      <td>11.049920</td>\n",
       "    </tr>\n",
       "    <tr>\n",
       "      <th>3</th>\n",
       "      <td>(broderie, anglaise)</td>\n",
       "      <td>10.963505</td>\n",
       "    </tr>\n",
       "    <tr>\n",
       "      <th>5</th>\n",
       "      <td>(studio, collection)</td>\n",
       "      <td>10.835181</td>\n",
       "    </tr>\n",
       "    <tr>\n",
       "      <th>7</th>\n",
       "      <td>(removable, inserts)</td>\n",
       "      <td>10.545574</td>\n",
       "    </tr>\n",
       "  </tbody>\n",
       "</table>\n",
       "</div>"
      ],
      "text/plain": [
       "                 bigram        PMI\n",
       "1      (room, movement)  11.471851\n",
       "2    (fuller, cleavage)  11.049920\n",
       "3  (broderie, anglaise)  10.963505\n",
       "5  (studio, collection)  10.835181\n",
       "7  (removable, inserts)  10.545574"
      ]
     },
     "execution_count": 34,
     "metadata": {},
     "output_type": "execute_result"
    }
   ],
   "source": [
    "bigrams_df = get_bigrams(list(itertools.chain(*cleaned_documents)), bigram_freq_min=200)\n",
    "print(len(bigrams_df))\n",
    "bigrams_df.head()"
   ]
  },
  {
   "cell_type": "code",
   "execution_count": 36,
   "id": "773ac4a8-c43f-4626-abb1-c3d2f434d90b",
   "metadata": {},
   "outputs": [
    {
     "data": {
      "text/html": [
       "<div>\n",
       "<style scoped>\n",
       "    .dataframe tbody tr th:only-of-type {\n",
       "        vertical-align: middle;\n",
       "    }\n",
       "\n",
       "    .dataframe tbody tr th {\n",
       "        vertical-align: top;\n",
       "    }\n",
       "\n",
       "    .dataframe thead th {\n",
       "        text-align: right;\n",
       "    }\n",
       "</style>\n",
       "<table border=\"1\" class=\"dataframe\">\n",
       "  <thead>\n",
       "    <tr style=\"text-align: right;\">\n",
       "      <th></th>\n",
       "      <th>bigram</th>\n",
       "      <th>PMI</th>\n",
       "    </tr>\n",
       "  </thead>\n",
       "  <tbody>\n",
       "    <tr>\n",
       "      <th>239</th>\n",
       "      <td>(soft, fine)</td>\n",
       "      <td>5.025012</td>\n",
       "    </tr>\n",
       "    <tr>\n",
       "      <th>422</th>\n",
       "      <td>(waist, zip)</td>\n",
       "      <td>3.005565</td>\n",
       "    </tr>\n",
       "    <tr>\n",
       "      <th>247</th>\n",
       "      <td>(cotton, twill)</td>\n",
       "      <td>4.951753</td>\n",
       "    </tr>\n",
       "    <tr>\n",
       "      <th>294</th>\n",
       "      <td>(soft, organic)</td>\n",
       "      <td>4.472882</td>\n",
       "    </tr>\n",
       "    <tr>\n",
       "      <th>452</th>\n",
       "      <td>(buttons, cuffs)</td>\n",
       "      <td>2.647960</td>\n",
       "    </tr>\n",
       "    <tr>\n",
       "      <th>428</th>\n",
       "      <td>(stretch, weave)</td>\n",
       "      <td>2.986931</td>\n",
       "    </tr>\n",
       "    <tr>\n",
       "      <th>216</th>\n",
       "      <td>(edge, hems)</td>\n",
       "      <td>5.319927</td>\n",
       "    </tr>\n",
       "    <tr>\n",
       "      <th>362</th>\n",
       "      <td>(collar, zip)</td>\n",
       "      <td>3.710265</td>\n",
       "    </tr>\n",
       "    <tr>\n",
       "      <th>15</th>\n",
       "      <td>(nursing, access)</td>\n",
       "      <td>10.294552</td>\n",
       "    </tr>\n",
       "    <tr>\n",
       "      <th>171</th>\n",
       "      <td>(zip, chin)</td>\n",
       "      <td>5.984406</td>\n",
       "    </tr>\n",
       "  </tbody>\n",
       "</table>\n",
       "</div>"
      ],
      "text/plain": [
       "                bigram        PMI\n",
       "239       (soft, fine)   5.025012\n",
       "422       (waist, zip)   3.005565\n",
       "247    (cotton, twill)   4.951753\n",
       "294    (soft, organic)   4.472882\n",
       "452   (buttons, cuffs)   2.647960\n",
       "428   (stretch, weave)   2.986931\n",
       "216       (edge, hems)   5.319927\n",
       "362      (collar, zip)   3.710265\n",
       "15   (nursing, access)  10.294552\n",
       "171        (zip, chin)   5.984406"
      ]
     },
     "execution_count": 36,
     "metadata": {},
     "output_type": "execute_result"
    }
   ],
   "source": [
    "bigrams_df.sample(10)"
   ]
  },
  {
   "cell_type": "code",
   "execution_count": 42,
   "id": "ca53dc8a-4877-4dc5-8d46-44dfc18f1696",
   "metadata": {},
   "outputs": [
    {
     "data": {
      "text/plain": [
       "{'room,movement': 'room movement',\n",
       " 'fuller,cleavage': 'fuller cleavage',\n",
       " 'broderie,anglaise': 'broderie anglaise',\n",
       " 'studio,collection': 'studio collection',\n",
       " 'removable,inserts': 'removable inserts'}"
      ]
     },
     "execution_count": 42,
     "metadata": {},
     "output_type": "execute_result"
    }
   ],
   "source": [
    "bigram_dict = bigrams_df['bigram'].head().apply(lambda x: {f'{x[0]},{x[1]}':f'{x[0]} {x[1]}'}).values\n",
    "bigram_dict = {list(dict_.keys())[0]:list(dict_.values())[0] for dict_ in bigram_dict}\n",
    "bigram_dict"
   ]
  },
  {
   "cell_type": "code",
   "execution_count": null,
   "id": "c6efd7a7-b06c-4f2c-b563-da1552626190",
   "metadata": {},
   "outputs": [],
   "source": []
  },
  {
   "cell_type": "code",
   "execution_count": null,
   "id": "a67cbb7b-b3ed-4236-ba3f-302574e2c2b2",
   "metadata": {},
   "outputs": [],
   "source": []
  },
  {
   "cell_type": "code",
   "execution_count": null,
   "id": "6a77f3f4-9cd7-49c3-9cb7-0cebb8f79a23",
   "metadata": {},
   "outputs": [],
   "source": []
  },
  {
   "cell_type": "code",
   "execution_count": 14,
   "id": "1bdabd8d-7797-4d53-949e-39247a050ec8",
   "metadata": {},
   "outputs": [
    {
     "name": "stdout",
     "output_type": "stream",
     "text": [
      "['single', 'breasted', 'jacket', 'stretch', 'weave', 'containing', 'wool', 'narrow', 'notch', 'lapels', 'decorative', 'buttonhole', 'fastening', 'buttons', 'chest', 'pocket', 'flap', 'pockets', 'inner', 'pockets', 'button', 'decorative', 'buttons', 'cuffs', 'single', 'vent', 'lined', 'skinny', 'fit', 'slightly', 'shorter', 'style', 'shapes', 'chest', 'tapers', 'sharply', 'waist', 'combined', 'narrow', 'shoulders', 'sleeves', 'creates', 'completely', 'fitted', 'silhouette']\n",
      "narrower\n",
      "tuxedo\n",
      "special\n",
      "linked\n",
      "search\n"
     ]
    }
   ],
   "source": [
    "# TODO: Can give the user options of adjacent tags so that they can get new queries entirely?\n",
    "# They can remove tags from the input document and add in other tags, like swapping out pants for jeans, etc.\n",
    "# This results in a \"new\" input document\n",
    "\n",
    "lsi_topic_matrix_T_normed = te.lsi_topic_matrix.T/np.linalg.norm(te.lsi_topic_matrix.T, axis=1)[:,None]\n",
    "\n",
    "def lsi_corpus2vec(lsi_corpus_vec):\n",
    "    vec = np.zeros(200)\n",
    "    for ind, value in lsi_corpus_vec:\n",
    "        vec[ind] = value\n",
    "    return vec\n",
    "\n",
    "tags = te.tc.transform([df['detail_desc'].drop_duplicates().values[777]])[0]\n",
    "print(tags)\n",
    "bow = te.dictionary.doc2bow(tags)\n",
    "bow_vec = lsi_corpus2vec(te.lsi_model[te.tfidf[bow]])\n",
    "bow_vec_normed = bow_vec/np.linalg.norm(bow_vec)\n",
    "sims = bow_vec_normed.dot(lsi_topic_matrix_T_normed.T)\n",
    "top_inds = np.argsort(-sims)\n",
    "count = 0\n",
    "for t in top_inds:\n",
    "    tag = te.dictionary[t]\n",
    "    if tag not in tags:\n",
    "        print(tag)\n",
    "        count += 1\n",
    "    if count == 5:\n",
    "        break"
   ]
  },
  {
   "cell_type": "code",
   "execution_count": null,
   "id": "631cb238-2063-4c81-b94a-b896e8d5b71f",
   "metadata": {},
   "outputs": [],
   "source": []
  },
  {
   "cell_type": "code",
   "execution_count": null,
   "id": "56bff88a-a155-4166-aa8b-706c595d66ec",
   "metadata": {},
   "outputs": [],
   "source": []
  }
 ],
 "metadata": {
  "kernelspec": {
   "display_name": "Python 3 (ipykernel)",
   "language": "python",
   "name": "python3"
  },
  "language_info": {
   "codemirror_mode": {
    "name": "ipython",
    "version": 3
   },
   "file_extension": ".py",
   "mimetype": "text/x-python",
   "name": "python",
   "nbconvert_exporter": "python",
   "pygments_lexer": "ipython3",
   "version": "3.8.10"
  }
 },
 "nbformat": 4,
 "nbformat_minor": 5
}
