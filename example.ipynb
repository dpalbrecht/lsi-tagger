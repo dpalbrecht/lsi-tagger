{
 "cells": [
  {
   "cell_type": "code",
   "execution_count": 1,
   "id": "6845d714-1fe0-43b0-8b7d-9ab583b3d016",
   "metadata": {},
   "outputs": [
    {
     "name": "stderr",
     "output_type": "stream",
     "text": [
      "[nltk_data] Downloading package averaged_perceptron_tagger to\n",
      "[nltk_data]     C:\\Users\\David\\AppData\\Roaming\\nltk_data...\n",
      "[nltk_data]   Package averaged_perceptron_tagger is already up-to-\n",
      "[nltk_data]       date!\n"
     ]
    }
   ],
   "source": [
    "from gensim import corpora, models\n",
    "import pandas as pd\n",
    "import numpy as np\n",
    "import sys\n",
    "from collections import Counter\n",
    "import itertools\n",
    "from lsi_tagger.model import TagExtractor\n",
    "\n",
    "%load_ext autoreload\n",
    "%autoreload 2"
   ]
  },
  {
   "cell_type": "code",
   "execution_count": 2,
   "id": "76b076de-bf48-4685-b0c3-34ca8f9fc35f",
   "metadata": {},
   "outputs": [
    {
     "name": "stdout",
     "output_type": "stream",
     "text": [
      "(105126, 25)\n"
     ]
    },
    {
     "data": {
      "text/html": [
       "<div>\n",
       "<style scoped>\n",
       "    .dataframe tbody tr th:only-of-type {\n",
       "        vertical-align: middle;\n",
       "    }\n",
       "\n",
       "    .dataframe tbody tr th {\n",
       "        vertical-align: top;\n",
       "    }\n",
       "\n",
       "    .dataframe thead th {\n",
       "        text-align: right;\n",
       "    }\n",
       "</style>\n",
       "<table border=\"1\" class=\"dataframe\">\n",
       "  <thead>\n",
       "    <tr style=\"text-align: right;\">\n",
       "      <th></th>\n",
       "      <th>article_id</th>\n",
       "      <th>product_code</th>\n",
       "      <th>prod_name</th>\n",
       "      <th>product_type_no</th>\n",
       "      <th>product_type_name</th>\n",
       "      <th>product_group_name</th>\n",
       "      <th>graphical_appearance_no</th>\n",
       "      <th>graphical_appearance_name</th>\n",
       "      <th>colour_group_code</th>\n",
       "      <th>colour_group_name</th>\n",
       "      <th>...</th>\n",
       "      <th>department_name</th>\n",
       "      <th>index_code</th>\n",
       "      <th>index_name</th>\n",
       "      <th>index_group_no</th>\n",
       "      <th>index_group_name</th>\n",
       "      <th>section_no</th>\n",
       "      <th>section_name</th>\n",
       "      <th>garment_group_no</th>\n",
       "      <th>garment_group_name</th>\n",
       "      <th>detail_desc</th>\n",
       "    </tr>\n",
       "  </thead>\n",
       "  <tbody>\n",
       "    <tr>\n",
       "      <th>0</th>\n",
       "      <td>108775015</td>\n",
       "      <td>108775</td>\n",
       "      <td>Strap top</td>\n",
       "      <td>253</td>\n",
       "      <td>Vest top</td>\n",
       "      <td>Garment Upper body</td>\n",
       "      <td>1010016</td>\n",
       "      <td>Solid</td>\n",
       "      <td>9</td>\n",
       "      <td>Black</td>\n",
       "      <td>...</td>\n",
       "      <td>Jersey Basic</td>\n",
       "      <td>A</td>\n",
       "      <td>Ladieswear</td>\n",
       "      <td>1</td>\n",
       "      <td>Ladieswear</td>\n",
       "      <td>16</td>\n",
       "      <td>Womens Everyday Basics</td>\n",
       "      <td>1002</td>\n",
       "      <td>Jersey Basic</td>\n",
       "      <td>Jersey top with narrow shoulder straps.</td>\n",
       "    </tr>\n",
       "    <tr>\n",
       "      <th>1</th>\n",
       "      <td>108775044</td>\n",
       "      <td>108775</td>\n",
       "      <td>Strap top</td>\n",
       "      <td>253</td>\n",
       "      <td>Vest top</td>\n",
       "      <td>Garment Upper body</td>\n",
       "      <td>1010016</td>\n",
       "      <td>Solid</td>\n",
       "      <td>10</td>\n",
       "      <td>White</td>\n",
       "      <td>...</td>\n",
       "      <td>Jersey Basic</td>\n",
       "      <td>A</td>\n",
       "      <td>Ladieswear</td>\n",
       "      <td>1</td>\n",
       "      <td>Ladieswear</td>\n",
       "      <td>16</td>\n",
       "      <td>Womens Everyday Basics</td>\n",
       "      <td>1002</td>\n",
       "      <td>Jersey Basic</td>\n",
       "      <td>Jersey top with narrow shoulder straps.</td>\n",
       "    </tr>\n",
       "  </tbody>\n",
       "</table>\n",
       "<p>2 rows × 25 columns</p>\n",
       "</div>"
      ],
      "text/plain": [
       "   article_id  product_code  prod_name  product_type_no product_type_name  \\\n",
       "0   108775015        108775  Strap top              253          Vest top   \n",
       "1   108775044        108775  Strap top              253          Vest top   \n",
       "\n",
       "   product_group_name  graphical_appearance_no graphical_appearance_name  \\\n",
       "0  Garment Upper body                  1010016                     Solid   \n",
       "1  Garment Upper body                  1010016                     Solid   \n",
       "\n",
       "   colour_group_code colour_group_name  ...  department_name index_code  \\\n",
       "0                  9             Black  ...     Jersey Basic          A   \n",
       "1                 10             White  ...     Jersey Basic          A   \n",
       "\n",
       "   index_name index_group_no  index_group_name section_no  \\\n",
       "0  Ladieswear              1        Ladieswear         16   \n",
       "1  Ladieswear              1        Ladieswear         16   \n",
       "\n",
       "             section_name garment_group_no  garment_group_name  \\\n",
       "0  Womens Everyday Basics             1002        Jersey Basic   \n",
       "1  Womens Everyday Basics             1002        Jersey Basic   \n",
       "\n",
       "                               detail_desc  \n",
       "0  Jersey top with narrow shoulder straps.  \n",
       "1  Jersey top with narrow shoulder straps.  \n",
       "\n",
       "[2 rows x 25 columns]"
      ]
     },
     "execution_count": 2,
     "metadata": {},
     "output_type": "execute_result"
    }
   ],
   "source": [
    "df = pd.read_csv('data/h&m_kaggle_products.csv')\n",
    "df = df[~df.isnull().any(axis=1)]\n",
    "print(df.shape)\n",
    "df.head(2)"
   ]
  },
  {
   "cell_type": "code",
   "execution_count": 3,
   "id": "c99a224d-a3f7-4000-9533-2b312c93a293",
   "metadata": {},
   "outputs": [
    {
     "name": "stderr",
     "output_type": "stream",
     "text": [
      "Preprocessing text: 100%|█████████████████████████████████████████████████████| 43404/43404 [00:01<00:00, 40715.10it/s]\n",
      "Filtering tokens: 100%|████████████████████████████████████████████████████████| 43404/43404 [00:05<00:00, 7967.22it/s]\n",
      "Making bigrams: 43404it [00:00, 100072.27it/s]\n",
      "Filtering by word count: 100%|███████████████████████████████████████████████| 43404/43404 [00:00<00:00, 130571.59it/s]\n",
      "2022-04-10 10:15:06 INFO     Training TF-IDF...\n",
      "2022-04-10 10:15:06 INFO     adding document #0 to Dictionary(0 unique tokens: [])\n",
      "2022-04-10 10:15:06 INFO     adding document #10000 to Dictionary(1921 unique tokens: ['jersey', 'jersey top', 'narrow', 'narrow shoulder', 'shoulder']...)\n",
      "2022-04-10 10:15:06 INFO     adding document #20000 to Dictionary(2174 unique tokens: ['jersey', 'jersey top', 'narrow', 'narrow shoulder', 'shoulder']...)\n",
      "2022-04-10 10:15:07 INFO     adding document #30000 to Dictionary(2348 unique tokens: ['jersey', 'jersey top', 'narrow', 'narrow shoulder', 'shoulder']...)\n",
      "2022-04-10 10:15:07 INFO     adding document #40000 to Dictionary(2465 unique tokens: ['jersey', 'jersey top', 'narrow', 'narrow shoulder', 'shoulder']...)\n",
      "2022-04-10 10:15:07 INFO     built Dictionary(2514 unique tokens: ['jersey', 'jersey top', 'narrow', 'narrow shoulder', 'shoulder']...) from 43404 documents (total 820536 corpus positions)\n",
      "2022-04-10 10:15:07 INFO     Dictionary lifecycle event {'msg': \"built Dictionary(2514 unique tokens: ['jersey', 'jersey top', 'narrow', 'narrow shoulder', 'shoulder']...) from 43404 documents (total 820536 corpus positions)\", 'datetime': '2022-04-10T10:15:07.659223', 'gensim': '4.1.2', 'python': '3.8.10 (tags/v3.8.10:3d8993a, May  3 2021, 11:48:03) [MSC v.1928 64 bit (AMD64)]', 'platform': 'Windows-10-10.0.19043-SP0', 'event': 'created'}\n",
      "2022-04-10 10:15:08 INFO     collecting document frequencies\n",
      "2022-04-10 10:15:08 INFO     PROGRESS: processing document #0\n",
      "2022-04-10 10:15:08 INFO     PROGRESS: processing document #10000\n",
      "2022-04-10 10:15:08 INFO     PROGRESS: processing document #20000\n",
      "2022-04-10 10:15:08 INFO     PROGRESS: processing document #30000\n",
      "2022-04-10 10:15:08 INFO     PROGRESS: processing document #40000\n",
      "2022-04-10 10:15:08 INFO     TfidfModel lifecycle event {'msg': 'calculated IDF weights for 43404 documents and 2514 features (785743 matrix non-zeros)', 'datetime': '2022-04-10T10:15:08.598913', 'gensim': '4.1.2', 'python': '3.8.10 (tags/v3.8.10:3d8993a, May  3 2021, 11:48:03) [MSC v.1928 64 bit (AMD64)]', 'platform': 'Windows-10-10.0.19043-SP0', 'event': 'initialize'}\n",
      "2022-04-10 10:15:08 INFO     Training LSI...\n",
      "2022-04-10 10:15:08 INFO     using serial LSI version on this node\n",
      "2022-04-10 10:15:08 INFO     updating model with new documents\n",
      "2022-04-10 10:15:10 INFO     preparing a new chunk of documents\n",
      "2022-04-10 10:15:10 INFO     using 100 extra samples and 2 power iterations\n",
      "2022-04-10 10:15:10 INFO     1st phase: constructing (2514, 300) action matrix\n",
      "2022-04-10 10:15:11 INFO     orthonormalizing (2514, 300) action matrix\n",
      "2022-04-10 10:15:11 INFO     2nd phase: running dense svd on (300, 20000) matrix\n",
      "2022-04-10 10:15:13 INFO     computing the final decomposition\n",
      "2022-04-10 10:15:13 INFO     keeping 200 factors (discarding 11.706% of energy spectrum)\n",
      "2022-04-10 10:15:13 INFO     processed documents up to #20000\n",
      "2022-04-10 10:15:13 INFO     topic #0(28.016): 0.168*\"pockets\" + 0.166*\"cuffs\" + 0.165*\"hem\" + 0.157*\"sleeves\" + 0.156*\"top\" + 0.151*\"long\" + 0.149*\"soft\" + 0.147*\"front\" + 0.145*\"back\" + 0.140*\"ribbing\"\n",
      "2022-04-10 10:15:13 INFO     topic #1(20.199): 0.210*\"fly\" + 0.202*\"pockets\" + -0.195*\"ribbing\" + 0.181*\"zip fly\" + -0.173*\"jumper\" + -0.165*\"neckline cuffs\" + -0.156*\"neckline\" + 0.156*\"legs\" + -0.155*\"hem\" + -0.155*\"cuffs\"\n",
      "2022-04-10 10:15:13 INFO     topic #2(18.986): 0.300*\"rubber\" + 0.279*\"rubber soles\" + 0.278*\"soles\" + 0.258*\"imitation\" + 0.247*\"insoles\" + 0.245*\"leather\" + 0.224*\"linings\" + 0.209*\"imitation leather\" + 0.165*\"loop\" + 0.148*\"cm\"\n",
      "2022-04-10 10:15:13 INFO     topic #3(18.180): -0.203*\"sweatshirt\" + -0.202*\"sweatshirt fabric\" + -0.199*\"ribbing\" + 0.171*\"dress\" + 0.169*\"shoulder straps\" + 0.159*\"straps\" + 0.156*\"shoulder\" + 0.154*\"short\" + 0.153*\"seam\" + 0.151*\"narrow\"\n",
      "2022-04-10 10:15:13 INFO     topic #4(16.783): -0.270*\"cotton jersey\" + -0.266*\"jersey\" + 0.199*\"collar\" + 0.161*\"buttons\" + -0.160*\"top\" + -0.153*\"elasticated\" + -0.144*\"cotton\" + -0.135*\"soft\" + 0.131*\"long\" + -0.131*\"t-shirt\"\n",
      "2022-04-10 10:15:14 INFO     preparing a new chunk of documents\n",
      "2022-04-10 10:15:15 INFO     using 100 extra samples and 2 power iterations\n",
      "2022-04-10 10:15:15 INFO     1st phase: constructing (2514, 300) action matrix\n",
      "2022-04-10 10:15:15 INFO     orthonormalizing (2514, 300) action matrix\n",
      "2022-04-10 10:15:15 INFO     2nd phase: running dense svd on (300, 20000) matrix\n",
      "2022-04-10 10:15:17 INFO     computing the final decomposition\n",
      "2022-04-10 10:15:17 INFO     keeping 200 factors (discarding 11.729% of energy spectrum)\n",
      "2022-04-10 10:15:17 INFO     merging projections: (2514, 200) + (2514, 200)\n",
      "2022-04-10 10:15:17 INFO     keeping 200 factors (discarding 4.236% of energy spectrum)\n",
      "2022-04-10 10:15:17 INFO     processed documents up to #40000\n",
      "2022-04-10 10:15:17 INFO     topic #0(39.821): 0.161*\"sleeves\" + 0.159*\"pockets\" + 0.153*\"top\" + 0.153*\"front\" + 0.150*\"long\" + 0.150*\"cuffs\" + 0.149*\"hem\" + 0.147*\"soft\" + 0.145*\"back\" + 0.144*\"short\"\n",
      "2022-04-10 10:15:17 INFO     topic #1(27.490): -0.226*\"pockets\" + -0.213*\"fly\" + 0.190*\"ribbing\" + -0.182*\"zip fly\" + 0.171*\"neckline\" + -0.165*\"legs\" + 0.154*\"hem\" + 0.153*\"neckline cuffs\" + 0.152*\"jumper\" + 0.150*\"cuffs\"\n",
      "2022-04-10 10:15:17 INFO     topic #2(25.593): -0.175*\"pockets\" + 0.170*\"straps\" + 0.167*\"shoulder straps\" + -0.167*\"sweatshirt\" + -0.165*\"sweatshirt fabric\" + 0.164*\"shoulder\" + -0.164*\"ribbing\" + 0.161*\"dress\" + 0.148*\"seam\" + 0.147*\"narrow\"\n",
      "2022-04-10 10:15:17 INFO     topic #3(24.875): -0.279*\"imitation\" + -0.268*\"leather\" + -0.243*\"soles\" + -0.241*\"insoles\" + -0.231*\"imitation leather\" + -0.213*\"linings\" + -0.196*\"rubber\" + -0.193*\"cm\" + -0.169*\"rubber soles\" + -0.166*\"loop\"\n",
      "2022-04-10 10:15:17 INFO     topic #4(23.526): 0.283*\"cotton jersey\" + 0.269*\"jersey\" + -0.191*\"collar\" + -0.159*\"buttons\" + 0.156*\"cotton\" + 0.151*\"organic\" + 0.148*\"organic cotton\" + -0.146*\"long\" + 0.146*\"top\" + -0.139*\"long sleeves\"\n",
      "2022-04-10 10:15:17 INFO     preparing a new chunk of documents\n",
      "2022-04-10 10:15:17 INFO     using 100 extra samples and 2 power iterations\n",
      "2022-04-10 10:15:17 INFO     1st phase: constructing (2514, 300) action matrix\n",
      "2022-04-10 10:15:17 INFO     orthonormalizing (2514, 300) action matrix\n",
      "2022-04-10 10:15:18 INFO     2nd phase: running dense svd on (300, 3404) matrix\n",
      "2022-04-10 10:15:18 INFO     computing the final decomposition\n",
      "2022-04-10 10:15:18 INFO     keeping 200 factors (discarding 10.589% of energy spectrum)\n",
      "2022-04-10 10:15:18 INFO     merging projections: (2514, 200) + (2514, 200)\n",
      "2022-04-10 10:15:18 INFO     keeping 200 factors (discarding 1.885% of energy spectrum)\n",
      "2022-04-10 10:15:18 INFO     processed documents up to #43404\n",
      "2022-04-10 10:15:18 INFO     topic #0(41.498): 0.164*\"sleeves\" + 0.155*\"pockets\" + 0.155*\"long\" + 0.152*\"front\" + 0.152*\"cuffs\" + 0.152*\"top\" + 0.148*\"soft\" + 0.148*\"hem\" + 0.144*\"cotton\" + 0.144*\"short\"\n",
      "2022-04-10 10:15:18 INFO     topic #1(28.470): -0.220*\"pockets\" + -0.205*\"fly\" + 0.191*\"ribbing\" + -0.176*\"zip fly\" + 0.173*\"neckline\" + -0.163*\"legs\" + 0.151*\"neckline cuffs\" + 0.151*\"hem\" + 0.151*\"jumper\" + -0.150*\"zip\"\n",
      "2022-04-10 10:15:18 INFO     topic #2(26.570): -0.184*\"pockets\" + -0.160*\"sweatshirt\" + 0.159*\"dress\" + -0.158*\"sweatshirt fabric\" + 0.155*\"straps\" + 0.151*\"shoulder straps\" + 0.150*\"shoulder\" + -0.149*\"ribbing\" + 0.143*\"seam\" + -0.142*\"fly\"\n",
      "2022-04-10 10:15:18 INFO     topic #3(25.979): -0.277*\"imitation\" + -0.268*\"leather\" + -0.233*\"insoles\" + -0.233*\"imitation leather\" + -0.233*\"soles\" + -0.207*\"linings\" + -0.187*\"cm\" + -0.176*\"rubber\" + -0.161*\"loop\" + -0.152*\"rubber soles\"\n",
      "2022-04-10 10:15:18 INFO     topic #4(24.476): 0.284*\"cotton jersey\" + 0.271*\"jersey\" + -0.193*\"collar\" + -0.161*\"buttons\" + 0.157*\"cotton\" + 0.152*\"organic\" + 0.149*\"organic cotton\" + 0.148*\"top\" + -0.147*\"long\" + -0.141*\"cuffs\"\n",
      "2022-04-10 10:15:18 INFO     LsiModel lifecycle event {'msg': 'trained LsiModel(num_terms=2514, num_topics=200, decay=1.0, chunksize=20000) in 10.23s', 'datetime': '2022-04-10T10:15:18.830605', 'gensim': '4.1.2', 'python': '3.8.10 (tags/v3.8.10:3d8993a, May  3 2021, 11:48:03) [MSC v.1928 64 bit (AMD64)]', 'platform': 'Windows-10-10.0.19043-SP0', 'event': 'created'}\n",
      "2022-04-10 10:15:18 INFO     Tag Extractor training is done!\n"
     ]
    }
   ],
   "source": [
    "documents = df['detail_desc'].drop_duplicates().values\n",
    "\n",
    "te = TagExtractor(word_count_min=2, word_length_min=2, num_lsi_topics=200, \n",
    "                  bigram_kwargs={'bigrams_pmi_min_value':1, 'bigrams_min_freq':200})\n",
    "te.fit(documents)"
   ]
  },
  {
   "cell_type": "code",
   "execution_count": 4,
   "id": "d54e3a76-2a4c-4bd8-88d3-1685ca4c5238",
   "metadata": {},
   "outputs": [
    {
     "data": {
      "text/plain": [
       "203"
      ]
     },
     "execution_count": 4,
     "metadata": {},
     "output_type": "execute_result"
    }
   ],
   "source": [
    "len(te.tc.bigrams_dict)"
   ]
  },
  {
   "cell_type": "code",
   "execution_count": 5,
   "id": "b9dff8d1-9029-4a85-8213-e9a75082f9e5",
   "metadata": {},
   "outputs": [
    {
     "data": {
      "text/plain": [
       "([('jersey top', 1),\n",
       "  ('narrow shoulder', 1),\n",
       "  ('shoulder straps', 1),\n",
       "  ('shoulder', 1),\n",
       "  ('narrow', 1),\n",
       "  ('straps', 1),\n",
       "  ('top', 1),\n",
       "  ('jersey', 1)],\n",
       " [{},\n",
       "  {},\n",
       "  {'jersey top': 0.7799327616866192,\n",
       "   'narrow shoulder': 0.7538538564770323,\n",
       "   'shoulder straps': 0.6133740289496458,\n",
       "   'shoulder': 0.612452844686896,\n",
       "   'narrow': 0.595187858132562,\n",
       "   'straps': 0.5852465015919929,\n",
       "   'top': 0.39719267371105943,\n",
       "   'jersey': 0.3619619206415009},\n",
       "  {}])"
      ]
     },
     "execution_count": 5,
     "metadata": {},
     "output_type": "execute_result"
    }
   ],
   "source": [
    "input_tags, candidate_tags = te.transform(input_document='Jersey top with narrow shoulder straps.',\n",
    "                                          candidate_documents=[\n",
    "                                              'Tights with built-in support to lift the bottom. Black in 30 denier and light amber in 15 denier.',\n",
    "                                              'Semi shiny tights that shape the tummy, thighs and calves while also encouraging blood circulation in the legs. Elasticated waist.',\n",
    "                                              'Jersey top with narrow shoulder straps.',\n",
    "                                              'uygnhjkl'\n",
    "                                          ], \n",
    "                                          n_input_tags=10, n_candidate_tags=10)\n",
    "\n",
    "input_tags, candidate_tags"
   ]
  },
  {
   "cell_type": "code",
   "execution_count": 6,
   "id": "afa672f4-d6a2-4175-a3e8-609970d46d52",
   "metadata": {},
   "outputs": [
    {
     "data": {
      "text/plain": [
       "[2, 0, 1, 3]"
      ]
     },
     "execution_count": 6,
     "metadata": {},
     "output_type": "execute_result"
    }
   ],
   "source": [
    "new_candidate_ranking = te.rank(candidate_tags=candidate_tags, selected_tags=['jersey'])\n",
    "new_candidate_ranking"
   ]
  },
  {
   "cell_type": "code",
   "execution_count": 7,
   "id": "a529c3ac-6eba-4b5f-a36f-2672aefaa4b1",
   "metadata": {},
   "outputs": [],
   "source": [
    "te.save()\n",
    "te = TagExtractor()\n",
    "te.load()"
   ]
  },
  {
   "cell_type": "code",
   "execution_count": 8,
   "id": "1f6c546c-d412-42f6-a979-7a5935787a23",
   "metadata": {},
   "outputs": [
    {
     "data": {
      "text/plain": [
       "([('jersey top', 1),\n",
       "  ('narrow shoulder', 1),\n",
       "  ('shoulder straps', 1),\n",
       "  ('straps', 1),\n",
       "  ('narrow', 1),\n",
       "  ('shoulder', 1),\n",
       "  ('top', 1),\n",
       "  ('jersey', 1)],\n",
       " [{},\n",
       "  {},\n",
       "  {'jersey top': 0.8772317763823081,\n",
       "   'narrow shoulder': 0.7785568909779876,\n",
       "   'shoulder straps': 0.6355535130824466,\n",
       "   'straps': 0.6059983392044233,\n",
       "   'narrow': 0.6053735593033779,\n",
       "   'shoulder': 0.5555633523654915,\n",
       "   'top': 0.36434324889827213,\n",
       "   'jersey': 0.35461624727365776},\n",
       "  {}])"
      ]
     },
     "execution_count": 8,
     "metadata": {},
     "output_type": "execute_result"
    }
   ],
   "source": [
    "input_tags, candidate_tags = te.transform(input_document='Jersey top with narrow shoulder straps.',\n",
    "                                          candidate_documents=[\n",
    "                                              'Tights with built-in support to lift the bottom. Black in 30 denier and light amber in 15 denier.',\n",
    "                                              'Semi shiny tights that shape the tummy, thighs and calves while also encouraging blood circulation in the legs. Elasticated waist.',\n",
    "                                              'Jersey top with narrow shoulder straps.',\n",
    "                                              'uygnhjkl'\n",
    "                                          ], \n",
    "                                          n_input_tags=10, n_candidate_tags=10)\n",
    "\n",
    "input_tags, candidate_tags"
   ]
  },
  {
   "cell_type": "code",
   "execution_count": 9,
   "id": "c5b2c704-054b-4f25-bb05-cf5adce3b55e",
   "metadata": {},
   "outputs": [
    {
     "data": {
      "text/plain": [
       "[2, 0, 1, 3]"
      ]
     },
     "execution_count": 9,
     "metadata": {},
     "output_type": "execute_result"
    }
   ],
   "source": [
    "new_candidate_ranking = te.rank(candidate_tags=candidate_tags, selected_tags=['jersey'])\n",
    "new_candidate_ranking"
   ]
  },
  {
   "cell_type": "code",
   "execution_count": null,
   "id": "55024a9c-7176-4587-a193-036e682640f9",
   "metadata": {},
   "outputs": [],
   "source": []
  },
  {
   "cell_type": "code",
   "execution_count": null,
   "id": "1d186db5-dc5d-423c-bb46-e054a4098da0",
   "metadata": {},
   "outputs": [],
   "source": []
  },
  {
   "cell_type": "code",
   "execution_count": null,
   "id": "6a77f3f4-9cd7-49c3-9cb7-0cebb8f79a23",
   "metadata": {},
   "outputs": [],
   "source": []
  },
  {
   "cell_type": "code",
   "execution_count": 134,
   "id": "c3baf127-eca3-444b-9f47-ed6b8a9f0ddf",
   "metadata": {},
   "outputs": [],
   "source": [
    "from tqdm import tqdm\n",
    "\n",
    "class ContentRecommender:\n",
    "    def __init__(self):\n",
    "        lsi_vecs = np.array([self._lsi_corpus2vec(cl) for cl in tqdm(te.corpus_lsi)])\n",
    "        self.lsi_vecs_normed = lsi_vecs/np.linalg.norm(lsi_vecs, axis=1)[:,None]\n",
    "        self.lsi_topic_matrix_T_normed = te.lsi_topic_matrix.T/np.linalg.norm(te.lsi_topic_matrix.T, axis=1)[:,None]\n",
    "        \n",
    "    def _lsi_corpus2vec(self, lsi_corpus_vec):\n",
    "        vec = np.zeros(te.num_lsi_topics)\n",
    "        for ind, value in lsi_corpus_vec:\n",
    "            vec[ind] = value\n",
    "        return vec\n",
    "    \n",
    "    def _adjacent_tags(self, input_tags):\n",
    "        bow = te.dictionary.doc2bow(input_tags)\n",
    "        bow_vec = self._lsi_corpus2vec(te.lsi_model[te.tfidf[bow]])\n",
    "        bow_vec_normed = bow_vec/np.linalg.norm(bow_vec)\n",
    "        sims = bow_vec_normed.dot(self.lsi_topic_matrix_T_normed.T)\n",
    "        top_inds = np.argsort(sims)[::-1]\n",
    "\n",
    "        adj_tags = []\n",
    "        count = 0\n",
    "        for t in top_inds:\n",
    "            tag = te.dictionary[t]\n",
    "            if tag not in input_tags:\n",
    "                count += 1\n",
    "                adj_tags.append(tag)\n",
    "            if count == self.n_adjacent_tags:\n",
    "                break\n",
    "        return adj_tags\n",
    "    \n",
    "    def _show(self, candidate_documents, candidate_tags, \n",
    "              new_input_document='',\n",
    "              removed_tags=[], added_tags=[]):\n",
    "        print(f\"Input Document: {self.input_document}\")\n",
    "        print(f\"Adjacent Tags: {self.input_adjacent_tags}\")\n",
    "        if len(new_input_document) > 0:\n",
    "            print(f\"\\nNew Input Document: {new_input_document}\")\n",
    "        print(f\"Input Tags: {self.input_tags}\")\n",
    "        if len(removed_tags) > 0:\n",
    "            print(f\"Removed Tags: {removed_tags}\")\n",
    "        if len(added_tags) > 0:\n",
    "            print(f\"Added Tags: {added_tags}\")\n",
    "        print('='*150)\n",
    "        print()\n",
    "\n",
    "        for n, candidate_doc in enumerate(candidate_documents):\n",
    "            print(candidate_doc)\n",
    "            display(candidate_tags[n])\n",
    "            print('-'*150)\n",
    "            if (n+1) == self.show_n_recs:\n",
    "                break\n",
    "                \n",
    "    def _get_content_recommendations(self, input_document):\n",
    "        _, input_corpus_lsi = te._get_vector_representations(input_document)\n",
    "        input_lsi_vec = self._lsi_corpus2vec(input_corpus_lsi)\n",
    "        input_lsi_vec_normed = input_lsi_vec/np.linalg.norm(input_lsi_vec)\n",
    "        sims = input_lsi_vec_normed.dot(self.lsi_vecs_normed.T)\n",
    "        top_inds = np.argsort(sims)[::-1][:(self.internal_n_recs+1)]\n",
    "        self.candidate_documents = [documents[ti] for ti in top_inds if documents[ti]!=input_document]\n",
    "        self.input_tags, self.candidate_tags = te.transform(input_document=input_document,\n",
    "                                                            candidate_documents=self.candidate_documents, \n",
    "                                                            n_input_tags=self.n_input_tags, \n",
    "                                                            n_candidate_tags=self.n_candidate_tags)\n",
    "        self.input_adjacent_tags = self._adjacent_tags(input_tags=[t[0] for t in self.input_tags])\n",
    "    \n",
    "    def initial_recommendations(self, input_document, \n",
    "                                internal_n_recs=50, show_n_recs=5,\n",
    "                                n_input_tags=10, n_candidate_tags=5,\n",
    "                                n_adjacent_tags=10):\n",
    "        self.__dict__.update(locals())\n",
    "        self._get_content_recommendations(self.input_document)\n",
    "        self._show(self.candidate_documents, self.candidate_tags)\n",
    "        \n",
    "    def rerank(self, selected_tags):\n",
    "        ranking = te.rank(candidate_tags=self.candidate_tags, \n",
    "                          selected_tags=selected_tags)\n",
    "        candidate_documents = np.array(self.candidate_documents)[ranking]\n",
    "        candidate_tags = np.array(self.candidate_tags)[ranking]\n",
    "        self._show(candidate_documents, candidate_tags)\n",
    "        \n",
    "    def replace_tags(self, tags_to_remove=[], tags_to_add=[]):\n",
    "        input_tags = list(set(te.tc.transform([self.input_document])[0]))\n",
    "        print(input_tags)\n",
    "        # input_tags = [tag for tag in input_tags if tag not in tags_to_remove]\n",
    "        new_input_tags = []\n",
    "        for tag in input_tags:\n",
    "            flag = True\n",
    "            for remove_tag in tags_to_remove:\n",
    "                if (remove_tag not in tag) and (tag not in remove_tag):\n",
    "                    flag = False\n",
    "            if flag:\n",
    "                new_input_tags.append(tag)\n",
    "        new_input_tags += tags_to_add\n",
    "        print(new_input_tags)\n",
    "        input_document = ' '.join(new_input_tags)\n",
    "        self._get_content_recommendations(input_document)\n",
    "        self._show(self.candidate_documents, self.candidate_tags, \n",
    "                   removed_tags=tags_to_remove, added_tags=tags_to_add,\n",
    "                   new_input_document=input_document)"
   ]
  },
  {
   "cell_type": "code",
   "execution_count": 135,
   "id": "f946108f-7785-4e45-9af1-66e8b6bce451",
   "metadata": {},
   "outputs": [
    {
     "name": "stderr",
     "output_type": "stream",
     "text": [
      "100%|██████████████████████████████████████████████████████████████████████████| 43404/43404 [00:22<00:00, 1958.36it/s]\n"
     ]
    }
   ],
   "source": [
    "recommender = ContentRecommender()"
   ]
  },
  {
   "cell_type": "code",
   "execution_count": 136,
   "id": "86ab9f88-05b3-4c6f-b37c-6f031be9484e",
   "metadata": {},
   "outputs": [
    {
     "name": "stdout",
     "output_type": "stream",
     "text": [
      "Input Document: 5-pocket jeans in washed stretch denim with a regular waist, zip fly and skinny legs.\n",
      "Adjacent Tags: ['bootcut', 'ultra-flexible', '5-pocket jeans', 'keeps', 'technology', 'lycra®', 'freefit®', 'super-generous', 'function', 'white']\n",
      "Input Tags: [('regular waist', 50), ('regular', 50), ('jeans', 49), ('5-pocket', 47), ('denim', 35), ('stretch', 10), ('waist zip', 5), ('stretch denim', 4)]\n",
      "======================================================================================================================================================\n",
      "\n",
      "5-pocket jeans in stretch denim with a regular waist, zip fly and skinny legs.\n"
     ]
    },
    {
     "data": {
      "text/plain": [
       "{'regular waist': 0.6028207223327273,\n",
       " 'regular': 0.6011850999552139,\n",
       " 'jeans': 0.5487427672609305,\n",
       " '5-pocket': 0.5025385498471577,\n",
       " 'stretch': 0.4573499936719452}"
      ]
     },
     "metadata": {},
     "output_type": "display_data"
    },
    {
     "name": "stdout",
     "output_type": "stream",
     "text": [
      "------------------------------------------------------------------------------------------------------------------------------------------------------\n",
      "5-pocket jeans in washed, stretch denim with a regular waist, zip fly and button, and skinny legs.\n"
     ]
    },
    {
     "data": {
      "text/plain": [
       "{'regular waist': 0.5909443795231419,\n",
       " 'regular': 0.5884097379357883,\n",
       " 'jeans': 0.5595405533048357,\n",
       " '5-pocket': 0.5223657454774103,\n",
       " 'denim': 0.4725822954614911}"
      ]
     },
     "metadata": {},
     "output_type": "display_data"
    },
    {
     "name": "stdout",
     "output_type": "stream",
     "text": [
      "------------------------------------------------------------------------------------------------------------------------------------------------------\n",
      "5-pocket jeans in washed stretch denim with a regular waist, zip fly and button, and skinny legs.\n"
     ]
    },
    {
     "data": {
      "text/plain": [
       "{'regular waist': 0.5909443795231419,\n",
       " 'regular': 0.5884097379357883,\n",
       " 'jeans': 0.5595405533048357,\n",
       " '5-pocket': 0.5223657454774103,\n",
       " 'denim': 0.4725822954614911}"
      ]
     },
     "metadata": {},
     "output_type": "display_data"
    },
    {
     "name": "stdout",
     "output_type": "stream",
     "text": [
      "------------------------------------------------------------------------------------------------------------------------------------------------------\n",
      "5-pocket jeans in washed stretch denim with a regular waist, zip fly and button at the waist, and skinny legs.\n"
     ]
    },
    {
     "data": {
      "text/plain": [
       "{'regular waist': 0.5931458520947404,\n",
       " 'regular': 0.5916117406622277,\n",
       " 'jeans': 0.5583473148655085,\n",
       " '5-pocket': 0.5216162785086719,\n",
       " 'denim': 0.470882043014526}"
      ]
     },
     "metadata": {},
     "output_type": "display_data"
    },
    {
     "name": "stdout",
     "output_type": "stream",
     "text": [
      "------------------------------------------------------------------------------------------------------------------------------------------------------\n",
      "5-pocket superskinny-fit jeans in stretch denim with a regular waist, zip fly and skinny legs.\n"
     ]
    },
    {
     "data": {
      "text/plain": [
       "{'regular': 0.6038269979262616,\n",
       " 'regular waist': 0.603794636815649,\n",
       " 'jeans': 0.5362180144674937,\n",
       " '5-pocket': 0.4920809781546825,\n",
       " 'stretch': 0.4741421375355526}"
      ]
     },
     "metadata": {},
     "output_type": "display_data"
    },
    {
     "name": "stdout",
     "output_type": "stream",
     "text": [
      "------------------------------------------------------------------------------------------------------------------------------------------------------\n"
     ]
    }
   ],
   "source": [
    "recommender.initial_recommendations(input_document=documents[779], \n",
    "                                    internal_n_recs=50, show_n_recs=5,\n",
    "                                    n_input_tags=10, n_candidate_tags=5, \n",
    "                                    n_adjacent_tags=10)"
   ]
  },
  {
   "cell_type": "code",
   "execution_count": 137,
   "id": "81318a45-115a-4350-bde6-7442e99a0d8f",
   "metadata": {},
   "outputs": [
    {
     "name": "stdout",
     "output_type": "stream",
     "text": [
      "Input Document: 5-pocket jeans in washed stretch denim with a regular waist, zip fly and skinny legs.\n",
      "Adjacent Tags: ['bootcut', 'ultra-flexible', '5-pocket jeans', 'keeps', 'technology', 'lycra®', 'freefit®', 'super-generous', 'function', 'white']\n",
      "Input Tags: [('regular waist', 50), ('regular', 50), ('jeans', 49), ('5-pocket', 47), ('denim', 35), ('stretch', 10), ('waist zip', 5), ('stretch denim', 4)]\n",
      "======================================================================================================================================================\n",
      "\n",
      "5-pocket superskinny-fit jeans in stretch denim with a regular waist, zip fly and skinny legs.\n"
     ]
    },
    {
     "data": {
      "text/plain": [
       "{'regular': 0.6038269979262616,\n",
       " 'regular waist': 0.603794636815649,\n",
       " 'jeans': 0.5362180144674937,\n",
       " '5-pocket': 0.4920809781546825,\n",
       " 'stretch': 0.4741421375355526}"
      ]
     },
     "metadata": {},
     "output_type": "display_data"
    },
    {
     "name": "stdout",
     "output_type": "stream",
     "text": [
      "------------------------------------------------------------------------------------------------------------------------------------------------------\n",
      "5-pocket jeans in stretch denim with a regular waist, zip fly and skinny legs.\n"
     ]
    },
    {
     "data": {
      "text/plain": [
       "{'regular waist': 0.6028207223327273,\n",
       " 'regular': 0.6011850999552139,\n",
       " 'jeans': 0.5487427672609305,\n",
       " '5-pocket': 0.5025385498471577,\n",
       " 'stretch': 0.4573499936719452}"
      ]
     },
     "metadata": {},
     "output_type": "display_data"
    },
    {
     "name": "stdout",
     "output_type": "stream",
     "text": [
      "------------------------------------------------------------------------------------------------------------------------------------------------------\n",
      "5-pocket jeans in stretch denim with a regular waist, zip fly and button, and skinny legs.\n"
     ]
    },
    {
     "data": {
      "text/plain": [
       "{'regular waist': 0.5973427135374775,\n",
       " 'regular': 0.594806260377072,\n",
       " 'jeans': 0.5463888810800022,\n",
       " '5-pocket': 0.5098727280380733,\n",
       " 'stretch': 0.4528149332318748}"
      ]
     },
     "metadata": {},
     "output_type": "display_data"
    },
    {
     "name": "stdout",
     "output_type": "stream",
     "text": [
      "------------------------------------------------------------------------------------------------------------------------------------------------------\n",
      "5-pocket jeans in stretch denim with a regular waist, button fly and skinny legs.\n"
     ]
    },
    {
     "data": {
      "text/plain": [
       "{'regular waist': 0.589496907817101,\n",
       " 'regular': 0.5855901614627093,\n",
       " 'jeans': 0.5381789572414468,\n",
       " '5-pocket': 0.49592194136756756,\n",
       " 'stretch': 0.4443003575832288}"
      ]
     },
     "metadata": {},
     "output_type": "display_data"
    },
    {
     "name": "stdout",
     "output_type": "stream",
     "text": [
      "------------------------------------------------------------------------------------------------------------------------------------------------------\n",
      "Jeans in washed stretch denim with decorative beads on the front, a regular waist, zip fly and skinny legs.\n"
     ]
    },
    {
     "data": {
      "text/plain": [
       "{'regular': 0.5738765013947391,\n",
       " 'regular waist': 0.5727754456700839,\n",
       " 'jeans': 0.5169642127555306,\n",
       " 'stretch': 0.4515667988206658,\n",
       " 'stretch denim': 0.4466956881912558}"
      ]
     },
     "metadata": {},
     "output_type": "display_data"
    },
    {
     "name": "stdout",
     "output_type": "stream",
     "text": [
      "------------------------------------------------------------------------------------------------------------------------------------------------------\n"
     ]
    }
   ],
   "source": [
    "recommender.rerank(selected_tags=['stretch','skinny','jeans'])"
   ]
  },
  {
   "cell_type": "code",
   "execution_count": 138,
   "id": "554d6c7a-e0f3-4d9d-9436-d6ba0b9f62e8",
   "metadata": {},
   "outputs": [
    {
     "name": "stdout",
     "output_type": "stream",
     "text": [
      "['skinny legs', 'stretch', 'waist', 'washed', 'denim', 'zip', 'stretch denim', 'jeans', 'legs', 'regular', 'skinny', '5-pocket jeans', 'fly', 'regular waist', 'waist zip', '5-pocket', 'zip fly']\n",
      "['bootcut']\n",
      "Input Document: 5-pocket jeans in washed stretch denim with a regular waist, zip fly and skinny legs.\n",
      "Adjacent Tags: ['stretch denim', 'thermolite®', 'jeans', '5-pocket jeans', 'keeping', 'denim', 'holds', 'technical', 'function', '5-pocket']\n",
      "\n",
      "New Input Document: bootcut\n",
      "Input Tags: [('bootcut', 5)]\n",
      "Removed Tags: ['5-pocket', 'skinny']\n",
      "Added Tags: ['bootcut']\n",
      "======================================================================================================================================================\n",
      "\n",
      "5-pocket bootcut jeans in washed stretch denim with a regular waist.\n"
     ]
    },
    {
     "data": {
      "text/plain": [
       "{'bootcut': 0.0052936658037313795}"
      ]
     },
     "metadata": {},
     "output_type": "display_data"
    },
    {
     "name": "stdout",
     "output_type": "stream",
     "text": [
      "------------------------------------------------------------------------------------------------------------------------------------------------------\n",
      "5-pocket slim-fit jeans in washed stretch denim with an adjustable elasticated waist and zip fly.\n"
     ]
    },
    {
     "data": {
      "text/plain": [
       "{}"
      ]
     },
     "metadata": {},
     "output_type": "display_data"
    },
    {
     "name": "stdout",
     "output_type": "stream",
     "text": [
      "------------------------------------------------------------------------------------------------------------------------------------------------------\n",
      "5-pocket skinny-fit jeans in washed stretch denim with a button fly. The jeans are made from thermal Thermolite® fabric.\n"
     ]
    },
    {
     "data": {
      "text/plain": [
       "{}"
      ]
     },
     "metadata": {},
     "output_type": "display_data"
    },
    {
     "name": "stdout",
     "output_type": "stream",
     "text": [
      "------------------------------------------------------------------------------------------------------------------------------------------------------\n",
      "5-pocket skinny-fit jeans in washed stretch denim with an adjustable elasticated waist and zip fly and press-stud. The jeans are made from thermal Thermolite® fabric.\n"
     ]
    },
    {
     "data": {
      "text/plain": [
       "{}"
      ]
     },
     "metadata": {},
     "output_type": "display_data"
    },
    {
     "name": "stdout",
     "output_type": "stream",
     "text": [
      "------------------------------------------------------------------------------------------------------------------------------------------------------\n",
      "5-pocket jeans in washed stretch denim with a button fly and skinny legs. The jeans are made of COOLMAX® material that is designed to keep you cool in hot weather.\n"
     ]
    },
    {
     "data": {
      "text/plain": [
       "{}"
      ]
     },
     "metadata": {},
     "output_type": "display_data"
    },
    {
     "name": "stdout",
     "output_type": "stream",
     "text": [
      "------------------------------------------------------------------------------------------------------------------------------------------------------\n"
     ]
    }
   ],
   "source": [
    "# TODO: This is not working correctly\n",
    "recommender.replace_tags(tags_to_remove=['5-pocket','skinny'], tags_to_add=['bootcut'])"
   ]
  },
  {
   "cell_type": "code",
   "execution_count": null,
   "id": "2389c55b-d306-470b-870e-59f95bff0af6",
   "metadata": {},
   "outputs": [],
   "source": []
  },
  {
   "cell_type": "code",
   "execution_count": null,
   "id": "e7c8f6b1-51ef-4a3d-8989-fd514ae0699b",
   "metadata": {},
   "outputs": [],
   "source": []
  },
  {
   "cell_type": "code",
   "execution_count": null,
   "id": "cfc0a090-3748-45fd-9045-fcf71b823581",
   "metadata": {},
   "outputs": [],
   "source": []
  }
 ],
 "metadata": {
  "kernelspec": {
   "display_name": "Python 3 (ipykernel)",
   "language": "python",
   "name": "python3"
  },
  "language_info": {
   "codemirror_mode": {
    "name": "ipython",
    "version": 3
   },
   "file_extension": ".py",
   "mimetype": "text/x-python",
   "name": "python",
   "nbconvert_exporter": "python",
   "pygments_lexer": "ipython3",
   "version": "3.8.10"
  }
 },
 "nbformat": 4,
 "nbformat_minor": 5
}
