{
 "cells": [
  {
   "cell_type": "code",
   "execution_count": 1,
   "id": "6845d714-1fe0-43b0-8b7d-9ab583b3d016",
   "metadata": {},
   "outputs": [
    {
     "name": "stderr",
     "output_type": "stream",
     "text": [
      "[nltk_data] Downloading package averaged_perceptron_tagger to\n",
      "[nltk_data]     C:\\Users\\David\\AppData\\Roaming\\nltk_data...\n",
      "[nltk_data]   Package averaged_perceptron_tagger is already up-to-\n",
      "[nltk_data]       date!\n"
     ]
    }
   ],
   "source": [
    "import pandas as pd\n",
    "import numpy as np\n",
    "from lsi_tagger import TagExtractor\n",
    "\n",
    "%load_ext autoreload\n",
    "%autoreload 2"
   ]
  },
  {
   "cell_type": "code",
   "execution_count": 2,
   "id": "76b076de-bf48-4685-b0c3-34ca8f9fc35f",
   "metadata": {},
   "outputs": [
    {
     "name": "stdout",
     "output_type": "stream",
     "text": [
      "(105126, 25)\n"
     ]
    },
    {
     "data": {
      "text/html": [
       "<div>\n",
       "<style scoped>\n",
       "    .dataframe tbody tr th:only-of-type {\n",
       "        vertical-align: middle;\n",
       "    }\n",
       "\n",
       "    .dataframe tbody tr th {\n",
       "        vertical-align: top;\n",
       "    }\n",
       "\n",
       "    .dataframe thead th {\n",
       "        text-align: right;\n",
       "    }\n",
       "</style>\n",
       "<table border=\"1\" class=\"dataframe\">\n",
       "  <thead>\n",
       "    <tr style=\"text-align: right;\">\n",
       "      <th></th>\n",
       "      <th>article_id</th>\n",
       "      <th>product_code</th>\n",
       "      <th>prod_name</th>\n",
       "      <th>product_type_no</th>\n",
       "      <th>product_type_name</th>\n",
       "      <th>product_group_name</th>\n",
       "      <th>graphical_appearance_no</th>\n",
       "      <th>graphical_appearance_name</th>\n",
       "      <th>colour_group_code</th>\n",
       "      <th>colour_group_name</th>\n",
       "      <th>...</th>\n",
       "      <th>department_name</th>\n",
       "      <th>index_code</th>\n",
       "      <th>index_name</th>\n",
       "      <th>index_group_no</th>\n",
       "      <th>index_group_name</th>\n",
       "      <th>section_no</th>\n",
       "      <th>section_name</th>\n",
       "      <th>garment_group_no</th>\n",
       "      <th>garment_group_name</th>\n",
       "      <th>detail_desc</th>\n",
       "    </tr>\n",
       "  </thead>\n",
       "  <tbody>\n",
       "    <tr>\n",
       "      <th>0</th>\n",
       "      <td>108775015</td>\n",
       "      <td>108775</td>\n",
       "      <td>Strap top</td>\n",
       "      <td>253</td>\n",
       "      <td>Vest top</td>\n",
       "      <td>Garment Upper body</td>\n",
       "      <td>1010016</td>\n",
       "      <td>Solid</td>\n",
       "      <td>9</td>\n",
       "      <td>Black</td>\n",
       "      <td>...</td>\n",
       "      <td>Jersey Basic</td>\n",
       "      <td>A</td>\n",
       "      <td>Ladieswear</td>\n",
       "      <td>1</td>\n",
       "      <td>Ladieswear</td>\n",
       "      <td>16</td>\n",
       "      <td>Womens Everyday Basics</td>\n",
       "      <td>1002</td>\n",
       "      <td>Jersey Basic</td>\n",
       "      <td>Jersey top with narrow shoulder straps.</td>\n",
       "    </tr>\n",
       "    <tr>\n",
       "      <th>1</th>\n",
       "      <td>108775044</td>\n",
       "      <td>108775</td>\n",
       "      <td>Strap top</td>\n",
       "      <td>253</td>\n",
       "      <td>Vest top</td>\n",
       "      <td>Garment Upper body</td>\n",
       "      <td>1010016</td>\n",
       "      <td>Solid</td>\n",
       "      <td>10</td>\n",
       "      <td>White</td>\n",
       "      <td>...</td>\n",
       "      <td>Jersey Basic</td>\n",
       "      <td>A</td>\n",
       "      <td>Ladieswear</td>\n",
       "      <td>1</td>\n",
       "      <td>Ladieswear</td>\n",
       "      <td>16</td>\n",
       "      <td>Womens Everyday Basics</td>\n",
       "      <td>1002</td>\n",
       "      <td>Jersey Basic</td>\n",
       "      <td>Jersey top with narrow shoulder straps.</td>\n",
       "    </tr>\n",
       "  </tbody>\n",
       "</table>\n",
       "<p>2 rows × 25 columns</p>\n",
       "</div>"
      ],
      "text/plain": [
       "   article_id  product_code  prod_name  product_type_no product_type_name  \\\n",
       "0   108775015        108775  Strap top              253          Vest top   \n",
       "1   108775044        108775  Strap top              253          Vest top   \n",
       "\n",
       "   product_group_name  graphical_appearance_no graphical_appearance_name  \\\n",
       "0  Garment Upper body                  1010016                     Solid   \n",
       "1  Garment Upper body                  1010016                     Solid   \n",
       "\n",
       "   colour_group_code colour_group_name  ...  department_name index_code  \\\n",
       "0                  9             Black  ...     Jersey Basic          A   \n",
       "1                 10             White  ...     Jersey Basic          A   \n",
       "\n",
       "   index_name index_group_no  index_group_name section_no  \\\n",
       "0  Ladieswear              1        Ladieswear         16   \n",
       "1  Ladieswear              1        Ladieswear         16   \n",
       "\n",
       "             section_name garment_group_no  garment_group_name  \\\n",
       "0  Womens Everyday Basics             1002        Jersey Basic   \n",
       "1  Womens Everyday Basics             1002        Jersey Basic   \n",
       "\n",
       "                               detail_desc  \n",
       "0  Jersey top with narrow shoulder straps.  \n",
       "1  Jersey top with narrow shoulder straps.  \n",
       "\n",
       "[2 rows x 25 columns]"
      ]
     },
     "execution_count": 2,
     "metadata": {},
     "output_type": "execute_result"
    }
   ],
   "source": [
    "df = pd.read_csv('data/h&m_kaggle_products.csv')\n",
    "df = df[~df.isnull().any(axis=1)]\n",
    "print(df.shape)\n",
    "df.head(2)"
   ]
  },
  {
   "cell_type": "code",
   "execution_count": 3,
   "id": "c99a224d-a3f7-4000-9533-2b312c93a293",
   "metadata": {
    "scrolled": true,
    "tags": []
   },
   "outputs": [
    {
     "name": "stderr",
     "output_type": "stream",
     "text": [
      "Preprocessing text: 100%|█████████████████████████████████████████████████████| 43404/43404 [00:02<00:00, 15837.94it/s]\n",
      "Filtering tokens: 100%|████████████████████████████████████████████████████████| 43404/43404 [00:10<00:00, 3974.98it/s]\n",
      "Making bigrams: 43404it [00:00, 55542.32it/s]\n",
      "Filtering by word count: 100%|████████████████████████████████████████████████| 43404/43404 [00:00<00:00, 66273.54it/s]\n",
      "2022-04-20 22:01:06 INFO     Training TF-IDF...\n",
      "2022-04-20 22:01:06 INFO     adding document #0 to Dictionary(0 unique tokens: [])\n",
      "2022-04-20 22:01:06 INFO     adding document #10000 to Dictionary(1700 unique tokens: ['jersey', 'jersey top', 'narrow', 'narrow shoulder', 'shoulder']...)\n",
      "2022-04-20 22:01:07 INFO     adding document #20000 to Dictionary(1869 unique tokens: ['jersey', 'jersey top', 'narrow', 'narrow shoulder', 'shoulder']...)\n",
      "2022-04-20 22:01:08 INFO     adding document #30000 to Dictionary(1979 unique tokens: ['jersey', 'jersey top', 'narrow', 'narrow shoulder', 'shoulder']...)\n",
      "2022-04-20 22:01:08 INFO     adding document #40000 to Dictionary(2035 unique tokens: ['jersey', 'jersey top', 'narrow', 'narrow shoulder', 'shoulder']...)\n",
      "2022-04-20 22:01:08 INFO     built Dictionary(2061 unique tokens: ['jersey', 'jersey top', 'narrow', 'narrow shoulder', 'shoulder']...) from 43404 documents (total 818244 corpus positions)\n",
      "2022-04-20 22:01:08 INFO     Dictionary lifecycle event {'msg': \"built Dictionary(2061 unique tokens: ['jersey', 'jersey top', 'narrow', 'narrow shoulder', 'shoulder']...) from 43404 documents (total 818244 corpus positions)\", 'datetime': '2022-04-20T22:01:08.908652', 'gensim': '4.1.2', 'python': '3.8.10 (tags/v3.8.10:3d8993a, May  3 2021, 11:48:03) [MSC v.1928 64 bit (AMD64)]', 'platform': 'Windows-10-10.0.19043-SP0', 'event': 'created'}\n",
      "2022-04-20 22:01:10 INFO     collecting document frequencies\n",
      "2022-04-20 22:01:10 INFO     PROGRESS: processing document #0\n",
      "2022-04-20 22:01:10 INFO     PROGRESS: processing document #10000\n",
      "2022-04-20 22:01:10 INFO     PROGRESS: processing document #20000\n",
      "2022-04-20 22:01:10 INFO     PROGRESS: processing document #30000\n",
      "2022-04-20 22:01:10 INFO     PROGRESS: processing document #40000\n",
      "2022-04-20 22:01:10 INFO     TfidfModel lifecycle event {'msg': 'calculated IDF weights for 43404 documents and 2061 features (783490 matrix non-zeros)', 'datetime': '2022-04-20T22:01:10.718805', 'gensim': '4.1.2', 'python': '3.8.10 (tags/v3.8.10:3d8993a, May  3 2021, 11:48:03) [MSC v.1928 64 bit (AMD64)]', 'platform': 'Windows-10-10.0.19043-SP0', 'event': 'initialize'}\n",
      "2022-04-20 22:01:10 INFO     Training LSI...\n",
      "2022-04-20 22:01:10 INFO     using serial LSI version on this node\n",
      "2022-04-20 22:01:10 INFO     updating model with new documents\n",
      "2022-04-20 22:01:14 INFO     preparing a new chunk of documents\n",
      "2022-04-20 22:01:14 INFO     using 100 extra samples and 2 power iterations\n",
      "2022-04-20 22:01:14 INFO     1st phase: constructing (2061, 300) action matrix\n",
      "2022-04-20 22:01:15 INFO     orthonormalizing (2061, 300) action matrix\n",
      "2022-04-20 22:01:17 INFO     2nd phase: running dense svd on (300, 20000) matrix\n",
      "2022-04-20 22:01:19 INFO     computing the final decomposition\n",
      "2022-04-20 22:01:19 INFO     keeping 200 factors (discarding 11.713% of energy spectrum)\n",
      "2022-04-20 22:01:19 INFO     processed documents up to #20000\n",
      "2022-04-20 22:01:19 INFO     topic #0(28.081): 0.168*\"pockets\" + 0.166*\"cuffs\" + 0.165*\"hem\" + 0.157*\"sleeves\" + 0.156*\"top\" + 0.150*\"long\" + 0.149*\"soft\" + 0.147*\"front\" + 0.145*\"back\" + 0.139*\"ribbing\"\n",
      "2022-04-20 22:01:19 INFO     topic #1(20.237): 0.209*\"fly\" + 0.201*\"pockets\" + -0.195*\"ribbing\" + 0.180*\"zip fly\" + -0.173*\"jumper\" + -0.165*\"neckline cuffs\" + -0.157*\"neckline\" + -0.155*\"hem\" + 0.155*\"legs\" + -0.155*\"cuffs\"\n",
      "2022-04-20 22:01:19 INFO     topic #2(19.050): 0.299*\"rubber\" + 0.279*\"rubber soles\" + 0.277*\"soles\" + 0.258*\"imitation\" + 0.246*\"insoles\" + 0.246*\"leather\" + 0.224*\"linings\" + 0.210*\"imitation leather\" + 0.164*\"loop\" + 0.152*\"cm\"\n",
      "2022-04-20 22:01:19 INFO     topic #3(18.216): -0.204*\"sweatshirt\" + -0.203*\"sweatshirt fabric\" + -0.200*\"ribbing\" + 0.171*\"dress\" + 0.169*\"shoulder straps\" + 0.159*\"straps\" + 0.156*\"shoulder\" + 0.154*\"short\" + 0.153*\"seam\" + 0.151*\"narrow\"\n",
      "2022-04-20 22:01:19 INFO     topic #4(16.824): 0.272*\"cotton jersey\" + 0.269*\"jersey\" + -0.199*\"collar\" + -0.161*\"buttons\" + 0.160*\"top\" + 0.153*\"elasticated\" + 0.145*\"cotton\" + 0.135*\"soft\" + 0.133*\"t-shirt\" + -0.131*\"long\"\n",
      "2022-04-20 22:01:23 INFO     preparing a new chunk of documents\n",
      "2022-04-20 22:01:23 INFO     using 100 extra samples and 2 power iterations\n",
      "2022-04-20 22:01:23 INFO     1st phase: constructing (2061, 300) action matrix\n",
      "2022-04-20 22:01:24 INFO     orthonormalizing (2061, 300) action matrix\n",
      "2022-04-20 22:01:25 INFO     2nd phase: running dense svd on (300, 20000) matrix\n",
      "2022-04-20 22:01:27 INFO     computing the final decomposition\n",
      "2022-04-20 22:01:27 INFO     keeping 200 factors (discarding 11.701% of energy spectrum)\n",
      "2022-04-20 22:01:27 INFO     merging projections: (2061, 200) + (2061, 200)\n",
      "2022-04-20 22:01:28 INFO     keeping 200 factors (discarding 4.203% of energy spectrum)\n",
      "2022-04-20 22:01:28 INFO     processed documents up to #40000\n",
      "2022-04-20 22:01:28 INFO     topic #0(39.907): 0.161*\"sleeves\" + 0.159*\"pockets\" + 0.154*\"top\" + 0.154*\"front\" + 0.150*\"long\" + 0.150*\"cuffs\" + 0.149*\"hem\" + 0.147*\"soft\" + 0.145*\"back\" + 0.144*\"short\"\n",
      "2022-04-20 22:01:28 INFO     topic #1(27.544): -0.225*\"pockets\" + -0.212*\"fly\" + 0.190*\"ribbing\" + -0.182*\"zip fly\" + 0.172*\"neckline\" + -0.165*\"legs\" + 0.154*\"hem\" + 0.153*\"neckline cuffs\" + 0.152*\"jumper\" + 0.150*\"cuffs\"\n",
      "2022-04-20 22:01:28 INFO     topic #2(25.657): -0.175*\"pockets\" + 0.169*\"straps\" + 0.166*\"shoulder straps\" + 0.164*\"shoulder\" + -0.162*\"sweatshirt\" + -0.161*\"sweatshirt fabric\" + -0.159*\"ribbing\" + 0.157*\"dress\" + 0.146*\"narrow\" + 0.144*\"seam\"\n",
      "2022-04-20 22:01:28 INFO     topic #3(24.967): -0.274*\"imitation\" + -0.264*\"leather\" + -0.237*\"soles\" + -0.235*\"insoles\" + -0.227*\"imitation leather\" + -0.208*\"linings\" + -0.194*\"cm\" + -0.191*\"rubber\" + -0.165*\"rubber soles\" + -0.162*\"loop\"\n",
      "2022-04-20 22:01:28 INFO     topic #4(23.574): 0.284*\"cotton jersey\" + 0.270*\"jersey\" + -0.191*\"collar\" + -0.160*\"buttons\" + 0.157*\"cotton\" + 0.151*\"organic\" + 0.148*\"organic cotton\" + -0.146*\"long\" + 0.146*\"top\" + -0.139*\"long sleeves\"\n",
      "2022-04-20 22:01:29 INFO     preparing a new chunk of documents\n",
      "2022-04-20 22:01:29 INFO     using 100 extra samples and 2 power iterations\n",
      "2022-04-20 22:01:29 INFO     1st phase: constructing (2061, 300) action matrix\n",
      "2022-04-20 22:01:29 INFO     orthonormalizing (2061, 300) action matrix\n",
      "2022-04-20 22:01:30 INFO     2nd phase: running dense svd on (300, 3404) matrix\n",
      "2022-04-20 22:01:31 INFO     computing the final decomposition\n",
      "2022-04-20 22:01:31 INFO     keeping 200 factors (discarding 10.558% of energy spectrum)\n",
      "2022-04-20 22:01:31 INFO     merging projections: (2061, 200) + (2061, 200)\n",
      "2022-04-20 22:01:32 INFO     keeping 200 factors (discarding 1.890% of energy spectrum)\n",
      "2022-04-20 22:01:32 INFO     processed documents up to #43404\n",
      "2022-04-20 22:01:32 INFO     topic #0(41.589): 0.164*\"sleeves\" + 0.155*\"pockets\" + 0.154*\"long\" + 0.152*\"front\" + 0.152*\"top\" + 0.152*\"cuffs\" + 0.148*\"soft\" + 0.148*\"hem\" + 0.144*\"cotton\" + 0.144*\"short\"\n",
      "2022-04-20 22:01:32 INFO     topic #1(28.528): -0.219*\"pockets\" + -0.204*\"fly\" + 0.191*\"ribbing\" + -0.175*\"zip fly\" + 0.173*\"neckline\" + -0.163*\"legs\" + 0.152*\"hem\" + 0.151*\"neckline cuffs\" + -0.151*\"zip\" + 0.150*\"jumper\"\n",
      "2022-04-20 22:01:32 INFO     topic #2(26.641): -0.185*\"pockets\" + 0.153*\"straps\" + -0.153*\"sweatshirt\" + 0.152*\"dress\" + -0.151*\"sweatshirt fabric\" + 0.150*\"imitation\" + 0.149*\"shoulder\" + 0.148*\"shoulder straps\" + 0.146*\"leather\" + -0.144*\"fly\"\n",
      "2022-04-20 22:01:32 INFO     topic #3(26.077): -0.269*\"imitation\" + -0.261*\"leather\" + -0.226*\"imitation leather\" + -0.226*\"insoles\" + -0.225*\"soles\" + -0.200*\"linings\" + -0.185*\"cm\" + -0.170*\"rubber\" + -0.156*\"loop\" + -0.147*\"rubber soles\"\n",
      "2022-04-20 22:01:32 INFO     topic #4(24.527): 0.284*\"cotton jersey\" + 0.272*\"jersey\" + -0.192*\"collar\" + -0.161*\"buttons\" + 0.157*\"cotton\" + 0.152*\"organic\" + 0.149*\"organic cotton\" + 0.148*\"top\" + -0.147*\"long\" + -0.141*\"cuffs\"\n",
      "2022-04-20 22:01:32 INFO     LsiModel lifecycle event {'msg': 'trained LsiModel(num_terms=2061, num_topics=200, decay=1.0, chunksize=20000) in 21.81s', 'datetime': '2022-04-20T22:01:32.539351', 'gensim': '4.1.2', 'python': '3.8.10 (tags/v3.8.10:3d8993a, May  3 2021, 11:48:03) [MSC v.1928 64 bit (AMD64)]', 'platform': 'Windows-10-10.0.19043-SP0', 'event': 'created'}\n",
      "2022-04-20 22:01:32 INFO     Tag Extractor training is done!\n"
     ]
    }
   ],
   "source": [
    "DOCUMENTS = df['detail_desc'].drop_duplicates().values\n",
    "\n",
    "te = TagExtractor(word_count_min=5, word_length_min=2, num_lsi_topics=200, \n",
    "                  bigram_kwargs={'bigrams_pmi_min_value':1, 'bigrams_min_freq':200})\n",
    "te.fit(DOCUMENTS)"
   ]
  },
  {
   "cell_type": "code",
   "execution_count": 4,
   "id": "d54e3a76-2a4c-4bd8-88d3-1685ca4c5238",
   "metadata": {},
   "outputs": [
    {
     "data": {
      "text/plain": [
       "200"
      ]
     },
     "execution_count": 4,
     "metadata": {},
     "output_type": "execute_result"
    }
   ],
   "source": [
    "len(te.tc.bigrams_dict)"
   ]
  },
  {
   "cell_type": "code",
   "execution_count": 5,
   "id": "b9dff8d1-9029-4a85-8213-e9a75082f9e5",
   "metadata": {},
   "outputs": [
    {
     "data": {
      "text/plain": [
       "([('jersey top', 1),\n",
       "  ('narrow shoulder', 1),\n",
       "  ('shoulder', 1),\n",
       "  ('shoulder straps', 1),\n",
       "  ('narrow', 1),\n",
       "  ('straps', 1),\n",
       "  ('top', 1),\n",
       "  ('jersey', 1)],\n",
       " [{},\n",
       "  {},\n",
       "  {'jersey top': 0.8355987736033494,\n",
       "   'narrow shoulder': 0.7715389780639272,\n",
       "   'shoulder': 0.6346510475397362,\n",
       "   'shoulder straps': 0.6062105644915914,\n",
       "   'narrow': 0.5855368140516707,\n",
       "   'straps': 0.5750784223206391,\n",
       "   'top': 0.3979580132020514,\n",
       "   'jersey': 0.3564798515181357},\n",
       "  {}],\n",
       " ['join',\n",
       "  'knots',\n",
       "  'stitched',\n",
       "  'cold',\n",
       "  'swimsuits',\n",
       "  'cross',\n",
       "  'tankini',\n",
       "  'fully-lined',\n",
       "  'stripe-print',\n",
       "  'modal'])"
      ]
     },
     "execution_count": 5,
     "metadata": {},
     "output_type": "execute_result"
    }
   ],
   "source": [
    "tags = te.transform(input_document='Jersey top with narrow shoulder straps.',\n",
    "                    candidate_documents=[\n",
    "                        'Tights with built-in support to lift the bottom. Black in 30 denier and light amber in 15 denier.',\n",
    "                        'Semi shiny tights that shape the tummy, thighs and calves while also encouraging blood circulation in the legs. Elasticated waist.',\n",
    "                        'Jersey top with narrow shoulder straps.',\n",
    "                        'uygnhjkl'\n",
    "                    ], \n",
    "                    n_input_tags=10, n_candidate_tags=10, n_adjacent_tags=10)\n",
    "\n",
    "tags"
   ]
  },
  {
   "cell_type": "code",
   "execution_count": 6,
   "id": "afa672f4-d6a2-4175-a3e8-609970d46d52",
   "metadata": {},
   "outputs": [
    {
     "data": {
      "text/plain": [
       "[2, 0, 1, 3]"
      ]
     },
     "execution_count": 6,
     "metadata": {},
     "output_type": "execute_result"
    }
   ],
   "source": [
    "new_candidate_ranking = te.rank(candidate_tags=tags[1], selected_tags=['jersey'])\n",
    "new_candidate_ranking"
   ]
  },
  {
   "cell_type": "code",
   "execution_count": 7,
   "id": "a529c3ac-6eba-4b5f-a36f-2672aefaa4b1",
   "metadata": {},
   "outputs": [],
   "source": [
    "te.save()\n",
    "te = TagExtractor()\n",
    "te.load()"
   ]
  },
  {
   "cell_type": "code",
   "execution_count": 8,
   "id": "1f6c546c-d412-42f6-a979-7a5935787a23",
   "metadata": {},
   "outputs": [
    {
     "data": {
      "text/plain": [
       "([('jersey top', 1),\n",
       "  ('narrow shoulder', 1),\n",
       "  ('shoulder', 1),\n",
       "  ('shoulder straps', 1),\n",
       "  ('narrow', 1),\n",
       "  ('straps', 1),\n",
       "  ('top', 1),\n",
       "  ('jersey', 1)],\n",
       " [{},\n",
       "  {},\n",
       "  {'jersey top': 0.8355987736033494,\n",
       "   'narrow shoulder': 0.7715389780639272,\n",
       "   'shoulder': 0.6346510475397362,\n",
       "   'shoulder straps': 0.6062105644915914,\n",
       "   'narrow': 0.5855368140516707,\n",
       "   'straps': 0.5750784223206391,\n",
       "   'top': 0.3979580132020514,\n",
       "   'jersey': 0.3564798515181357},\n",
       "  {}],\n",
       " ['join',\n",
       "  'knots',\n",
       "  'stitched',\n",
       "  'cold',\n",
       "  'swimsuits',\n",
       "  'cross',\n",
       "  'tankini',\n",
       "  'fully-lined',\n",
       "  'stripe-print',\n",
       "  'modal'])"
      ]
     },
     "execution_count": 8,
     "metadata": {},
     "output_type": "execute_result"
    }
   ],
   "source": [
    "tags = te.transform(input_document='Jersey top with narrow shoulder straps.',\n",
    "                    candidate_documents=[\n",
    "                        'Tights with built-in support to lift the bottom. Black in 30 denier and light amber in 15 denier.',\n",
    "                        'Semi shiny tights that shape the tummy, thighs and calves while also encouraging blood circulation in the legs. Elasticated waist.',\n",
    "                        'Jersey top with narrow shoulder straps.',\n",
    "                        'uygnhjkl'\n",
    "                    ], \n",
    "                    n_input_tags=10, n_candidate_tags=10, n_adjacent_tags=10)\n",
    "\n",
    "tags"
   ]
  },
  {
   "cell_type": "code",
   "execution_count": 9,
   "id": "c5b2c704-054b-4f25-bb05-cf5adce3b55e",
   "metadata": {},
   "outputs": [
    {
     "data": {
      "text/plain": [
       "[2, 0, 1, 3]"
      ]
     },
     "execution_count": 9,
     "metadata": {},
     "output_type": "execute_result"
    }
   ],
   "source": [
    "new_candidate_ranking = te.rank(candidate_tags=tags[1], selected_tags=['jersey'])\n",
    "new_candidate_ranking"
   ]
  },
  {
   "cell_type": "code",
   "execution_count": null,
   "id": "55024a9c-7176-4587-a193-036e682640f9",
   "metadata": {},
   "outputs": [],
   "source": []
  },
  {
   "cell_type": "code",
   "execution_count": null,
   "id": "1d186db5-dc5d-423c-bb46-e054a4098da0",
   "metadata": {},
   "outputs": [],
   "source": []
  },
  {
   "cell_type": "code",
   "execution_count": null,
   "id": "3a905216-5b54-464e-878a-895a10167654",
   "metadata": {},
   "outputs": [],
   "source": []
  },
  {
   "cell_type": "code",
   "execution_count": 10,
   "id": "c3baf127-eca3-444b-9f47-ed6b8a9f0ddf",
   "metadata": {},
   "outputs": [],
   "source": [
    "from tqdm import tqdm\n",
    "\n",
    "class ContentRecommender:\n",
    "    def __init__(self):\n",
    "        lsi_vecs = np.array([te._lsi_corpus2vec(cl) for cl in \n",
    "                             tqdm(te.corpus_lsi, desc='Creating LSI Vectors', position=0)])\n",
    "        self.lsi_vecs_normed = lsi_vecs/np.linalg.norm(lsi_vecs, axis=1)[:,None]\n",
    "    \n",
    "    def _show(self, candidate_documents, candidate_tags):\n",
    "        print(\"#########################\")\n",
    "        print(\"######### INPUTS ########\")\n",
    "        print(\"#########################\\n\")\n",
    "        print(f\"Input Document: {self.input_document}\")\n",
    "        print(f\"\\nAdjacent Tags: {self.adjacent_tags}\")\n",
    "        print(f\"\\nInput Tags: {self.input_tags}\")\n",
    "        \n",
    "        print(\"\\n#########################\")\n",
    "        print(\"#### RECOMMENDATIONS ####\")\n",
    "        print(\"#########################\\n\")\n",
    "        for n, candidate_doc in enumerate(candidate_documents):\n",
    "            print(f\"{n+1}. {candidate_doc}\")\n",
    "            display(candidate_tags[n])\n",
    "            print('-'*150)\n",
    "            if (n+1) == self.show_n_recs:\n",
    "                break\n",
    "                \n",
    "    def _get_content_recommendations(self, input_document):\n",
    "        _, input_corpus_lsi = te._get_vector_representations(input_document)\n",
    "        input_lsi_vec = te._lsi_corpus2vec(input_corpus_lsi)\n",
    "        input_lsi_vec_normed = input_lsi_vec/np.linalg.norm(input_lsi_vec)\n",
    "        sims = input_lsi_vec_normed.dot(self.lsi_vecs_normed.T)\n",
    "        top_inds = np.argsort(sims)[::-1][:(self.internal_n_recs+1)]\n",
    "        self.candidate_documents = [DOCUMENTS[ti] for ti in top_inds if DOCUMENTS[ti]!=input_document]\n",
    "        tags = te.transform(input_document=input_document,\n",
    "                            candidate_documents=self.candidate_documents, \n",
    "                            n_input_tags=self.n_input_tags, \n",
    "                            n_candidate_tags=self.n_candidate_tags,\n",
    "                            n_adjacent_tags=self.n_adjacent_tags)\n",
    "        self.input_tags, self.candidate_tags, self.adjacent_tags = tags\n",
    "    \n",
    "    def initial_recommendations(self, input_document, \n",
    "                                internal_n_recs=50, show_n_recs=5,\n",
    "                                n_input_tags=10, n_candidate_tags=5,\n",
    "                                n_adjacent_tags=10):\n",
    "        self.__dict__.update(locals())\n",
    "        self._get_content_recommendations(self.input_document)\n",
    "        self._show(self.candidate_documents, self.candidate_tags)\n",
    "        \n",
    "    def rerank(self, selected_tags):\n",
    "        ranking = te.rank(candidate_tags=self.candidate_tags, \n",
    "                          selected_tags=selected_tags)\n",
    "        candidate_documents = np.array(self.candidate_documents)[ranking]\n",
    "        candidate_tags = np.array(self.candidate_tags)[ranking]\n",
    "        self._show(candidate_documents, candidate_tags)"
   ]
  },
  {
   "cell_type": "code",
   "execution_count": 11,
   "id": "f946108f-7785-4e45-9af1-66e8b6bce451",
   "metadata": {
    "tags": []
   },
   "outputs": [
    {
     "name": "stderr",
     "output_type": "stream",
     "text": [
      "Creating LSI Vectors: 100%|████████████████████████████████████████████████████| 43404/43404 [00:22<00:00, 1948.76it/s]\n"
     ]
    }
   ],
   "source": [
    "recommender = ContentRecommender()"
   ]
  },
  {
   "cell_type": "code",
   "execution_count": 12,
   "id": "86ab9f88-05b3-4c6f-b37c-6f031be9484e",
   "metadata": {},
   "outputs": [
    {
     "name": "stdout",
     "output_type": "stream",
     "text": [
      "#########################\n",
      "######### INPUTS ########\n",
      "#########################\n",
      "\n",
      "Input Document: Straight-cut, linen-blend jacket in a patterned weave with a shawl collar, padded shoulders and long sleeves with decorative buttons at the cuffs. Buttons at the front and front pockets. Lined.\n",
      "\n",
      "Adjacent Tags: ['two-button', 'lapel', 'taper', 'single-breasted', 'stitching', 'buttonhole', 'scallop-edged', 'narrower', 'combined', 'creates']\n",
      "\n",
      "Input Tags: [('buttons', 49), ('decorative', 45), ('jacket', 44), ('decorative buttons', 42), ('straight-cut', 26), ('front', 21), ('front pockets', 7), ('long sleeves', 7), ('patterned', 3), ('long', 3)]\n",
      "\n",
      "#########################\n",
      "#### RECOMMENDATIONS ####\n",
      "#########################\n",
      "\n",
      "1. Straight-cut, double-breasted jacket in a patterned weave with notch lapels and covered buttons at the front. Long sleeves with decorative buttons at the cuffs and welt front pockets with a flap. Lined.\n"
     ]
    },
    {
     "data": {
      "text/plain": [
       "{'buttons': 0.6086969549677756,\n",
       " 'straight-cut': 0.5176992024999797,\n",
       " 'decorative': 0.44666291142899206,\n",
       " 'jacket': 0.39151369258301355,\n",
       " 'decorative buttons': 0.36712758040560545}"
      ]
     },
     "metadata": {},
     "output_type": "display_data"
    },
    {
     "name": "stdout",
     "output_type": "stream",
     "text": [
      "------------------------------------------------------------------------------------------------------------------------------------------------------\n",
      "2. Single-breasted jacket in a viscose weave with peak lapels, jetted front pockets and decorative buttons at the cuffs. Lined.\n"
     ]
    },
    {
     "data": {
      "text/plain": [
       "{'buttons': 0.5141416383651543,\n",
       " 'decorative': 0.48783265861733266,\n",
       " 'jacket': 0.3944050077881121,\n",
       " 'decorative buttons': 0.3752650265443899,\n",
       " 'front': 0.3038119973683874}"
      ]
     },
     "metadata": {},
     "output_type": "display_data"
    },
    {
     "name": "stdout",
     "output_type": "stream",
     "text": [
      "------------------------------------------------------------------------------------------------------------------------------------------------------\n",
      "3. Straight-cut jacket in a patterned linen and viscose weave with notch lapels, buttons at the front, welt front pockets and decorative buttons at the cuffs. Partly lined.\n"
     ]
    },
    {
     "data": {
      "text/plain": [
       "{'buttons': 0.6102747004610498,\n",
       " 'straight-cut': 0.520713350015183,\n",
       " 'decorative': 0.4493667726690869,\n",
       " 'jacket': 0.41925257658686693,\n",
       " 'decorative buttons': 0.37855513473098346}"
      ]
     },
     "metadata": {},
     "output_type": "display_data"
    },
    {
     "name": "stdout",
     "output_type": "stream",
     "text": [
      "------------------------------------------------------------------------------------------------------------------------------------------------------\n",
      "4. Straight-cut, double-breasted jacket in woven fabric with peak lapels, welt front pockets and decorative buttons at the cuffs. Lined.\n"
     ]
    },
    {
     "data": {
      "text/plain": [
       "{'straight-cut': 0.5408663093904469,\n",
       " 'buttons': 0.5038833615901823,\n",
       " 'decorative': 0.4672735974751826,\n",
       " 'jacket': 0.39448768929421774,\n",
       " 'decorative buttons': 0.35694757281525025}"
      ]
     },
     "metadata": {},
     "output_type": "display_data"
    },
    {
     "name": "stdout",
     "output_type": "stream",
     "text": [
      "------------------------------------------------------------------------------------------------------------------------------------------------------\n",
      "5. Double-breasted jacket in a striped weave with peak lapels, jetted front pockets and decorative buttons at the cuffs. Lined.\n"
     ]
    },
    {
     "data": {
      "text/plain": [
       "{'buttons': 0.48842789629467764,\n",
       " 'decorative': 0.47891939847714887,\n",
       " 'jacket': 0.36218227428102384,\n",
       " 'decorative buttons': 0.34518308921777097,\n",
       " 'front': 0.29076341695990715}"
      ]
     },
     "metadata": {},
     "output_type": "display_data"
    },
    {
     "name": "stdout",
     "output_type": "stream",
     "text": [
      "------------------------------------------------------------------------------------------------------------------------------------------------------\n"
     ]
    }
   ],
   "source": [
    "# Use an existing product description as the input, to find similar products\n",
    "recommender.initial_recommendations(input_document=DOCUMENTS[10000], \n",
    "                                    internal_n_recs=50, show_n_recs=5,\n",
    "                                    n_input_tags=10, n_candidate_tags=5, \n",
    "                                    n_adjacent_tags=10)"
   ]
  },
  {
   "cell_type": "code",
   "execution_count": 13,
   "id": "81318a45-115a-4350-bde6-7442e99a0d8f",
   "metadata": {},
   "outputs": [
    {
     "name": "stdout",
     "output_type": "stream",
     "text": [
      "#########################\n",
      "######### INPUTS ########\n",
      "#########################\n",
      "\n",
      "Input Document: Straight-cut, linen-blend jacket in a patterned weave with a shawl collar, padded shoulders and long sleeves with decorative buttons at the cuffs. Buttons at the front and front pockets. Lined.\n",
      "\n",
      "Adjacent Tags: ['two-button', 'lapel', 'taper', 'single-breasted', 'stitching', 'buttonhole', 'scallop-edged', 'narrower', 'combined', 'creates']\n",
      "\n",
      "Input Tags: [('buttons', 49), ('decorative', 45), ('jacket', 44), ('decorative buttons', 42), ('straight-cut', 26), ('front', 21), ('front pockets', 7), ('long sleeves', 7), ('patterned', 3), ('long', 3)]\n",
      "\n",
      "#########################\n",
      "#### RECOMMENDATIONS ####\n",
      "#########################\n",
      "\n",
      "1. Straight-cut shirt in a soft, patterned viscose weave with a collar and buttons down the front. Long sleeves with narrow, buttoned cuffs, and a rounded hem.\n"
     ]
    },
    {
     "data": {
      "text/plain": [
       "{'straight-cut': 0.6344095605564022,\n",
       " 'buttons': 0.523922469564337,\n",
       " 'patterned': 0.4693668942986713,\n",
       " 'long sleeves': 0.36422420439827247,\n",
       " 'weave': 0.33389358055019036}"
      ]
     },
     "metadata": {},
     "output_type": "display_data"
    },
    {
     "name": "stdout",
     "output_type": "stream",
     "text": [
      "------------------------------------------------------------------------------------------------------------------------------------------------------\n",
      "2. Short, straight-cut coat in a patterned weave with a zip down the front, long sleeves and zipped front pockets with a fake flap. Lined.\n"
     ]
    },
    {
     "data": {
      "text/plain": [
       "{'straight-cut': 0.616711410463947,\n",
       " 'patterned': 0.4327267917499439,\n",
       " 'front': 0.32006705153595605,\n",
       " 'front pockets': 0.3177362230233681,\n",
       " 'long sleeves': 0.31441190773583955}"
      ]
     },
     "metadata": {},
     "output_type": "display_data"
    },
    {
     "name": "stdout",
     "output_type": "stream",
     "text": [
      "------------------------------------------------------------------------------------------------------------------------------------------------------\n",
      "3. Jacket in a linen and cotton weave with notch lapels, buttons at the front, a chest pocket and flap front pockets. Decorative buttons at the cuffs and a single back vent. Patterned lining.\n"
     ]
    },
    {
     "data": {
      "text/plain": [
       "{'buttons': 0.5962353619413773,\n",
       " 'decorative': 0.45037858871363656,\n",
       " 'decorative buttons': 0.3945117900195271,\n",
       " 'patterned': 0.3389371784515939,\n",
       " 'jacket': 0.32860712402796277}"
      ]
     },
     "metadata": {},
     "output_type": "display_data"
    },
    {
     "name": "stdout",
     "output_type": "stream",
     "text": [
      "------------------------------------------------------------------------------------------------------------------------------------------------------\n",
      "4. Straight-cut, double-breasted jacket in a patterned weave with notch lapels and covered buttons at the front. Long sleeves with decorative buttons at the cuffs and welt front pockets with a flap. Lined.\n"
     ]
    },
    {
     "data": {
      "text/plain": [
       "{'buttons': 0.6086969549677756,\n",
       " 'straight-cut': 0.5176992024999797,\n",
       " 'decorative': 0.44666291142899206,\n",
       " 'jacket': 0.39151369258301355,\n",
       " 'decorative buttons': 0.36712758040560545}"
      ]
     },
     "metadata": {},
     "output_type": "display_data"
    },
    {
     "name": "stdout",
     "output_type": "stream",
     "text": [
      "------------------------------------------------------------------------------------------------------------------------------------------------------\n",
      "5. Single-breasted jacket in a viscose weave with peak lapels, jetted front pockets and decorative buttons at the cuffs. Lined.\n"
     ]
    },
    {
     "data": {
      "text/plain": [
       "{'buttons': 0.5141416383651543,\n",
       " 'decorative': 0.48783265861733266,\n",
       " 'jacket': 0.3944050077881121,\n",
       " 'decorative buttons': 0.3752650265443899,\n",
       " 'front': 0.3038119973683874}"
      ]
     },
     "metadata": {},
     "output_type": "display_data"
    },
    {
     "name": "stdout",
     "output_type": "stream",
     "text": [
      "------------------------------------------------------------------------------------------------------------------------------------------------------\n"
     ]
    }
   ],
   "source": [
    "# Re-rank product recommendations with emphasis on a few input tags\n",
    "recommender.rerank(selected_tags=['patterned'])"
   ]
  },
  {
   "cell_type": "code",
   "execution_count": 14,
   "id": "78738fec-a12b-423d-99d1-e36fcc24394d",
   "metadata": {},
   "outputs": [
    {
     "name": "stdout",
     "output_type": "stream",
     "text": [
      "#########################\n",
      "######### INPUTS ########\n",
      "#########################\n",
      "\n",
      "Input Document: leather gloves\n",
      "\n",
      "Adjacent Tags: ['uppers', 'fingerless', 'finger', 'touchscreen-compatible', 'index', 'separately', 'thumb', 'palms', 'reveal', 'material']\n",
      "\n",
      "Input Tags: [('leather', 39), ('gloves', 28)]\n",
      "\n",
      "#########################\n",
      "#### RECOMMENDATIONS ####\n",
      "#########################\n",
      "\n",
      "1. Gloves in soft, supple leather. Lined.\n"
     ]
    },
    {
     "data": {
      "text/plain": [
       "{'leather': 0.2655559532547105, 'gloves': 0.1512622589364015}"
      ]
     },
     "metadata": {},
     "output_type": "display_data"
    },
    {
     "name": "stdout",
     "output_type": "stream",
     "text": [
      "------------------------------------------------------------------------------------------------------------------------------------------------------\n",
      "2. Knitted gloves with imitation leather uppers and palms, and foldover cuffs. Fleece lining.\n"
     ]
    },
    {
     "data": {
      "text/plain": [
       "{'leather': 0.32525198340333217, 'gloves': 0.18711892751843423}"
      ]
     },
     "metadata": {},
     "output_type": "display_data"
    },
    {
     "name": "stdout",
     "output_type": "stream",
     "text": [
      "------------------------------------------------------------------------------------------------------------------------------------------------------\n",
      "3. Gloves in soft, supple imitation leather. Lined.\n"
     ]
    },
    {
     "data": {
      "text/plain": [
       "{'leather': 0.4033247361033177, 'gloves': 0.14827740360113256}"
      ]
     },
     "metadata": {},
     "output_type": "display_data"
    },
    {
     "name": "stdout",
     "output_type": "stream",
     "text": [
      "------------------------------------------------------------------------------------------------------------------------------------------------------\n",
      "4. Gloves in soft leather with a wool-blend lining.\n"
     ]
    },
    {
     "data": {
      "text/plain": [
       "{'leather': 0.25396827454078963, 'gloves': 0.15886387154538423}"
      ]
     },
     "metadata": {},
     "output_type": "display_data"
    },
    {
     "name": "stdout",
     "output_type": "stream",
     "text": [
      "------------------------------------------------------------------------------------------------------------------------------------------------------\n",
      "5. Gloves in soft, supple leather with a zip at the top. Lined.\n"
     ]
    },
    {
     "data": {
      "text/plain": [
       "{'leather': 0.26481560983697017, 'gloves': 0.14917538079734338}"
      ]
     },
     "metadata": {},
     "output_type": "display_data"
    },
    {
     "name": "stdout",
     "output_type": "stream",
     "text": [
      "------------------------------------------------------------------------------------------------------------------------------------------------------\n"
     ]
    }
   ],
   "source": [
    "# Use free-text to find products that match the description best\n",
    "recommender.initial_recommendations(input_document='leather gloves', \n",
    "                                    internal_n_recs=50, show_n_recs=5,\n",
    "                                    n_input_tags=10, n_candidate_tags=5, \n",
    "                                    n_adjacent_tags=10)"
   ]
  },
  {
   "cell_type": "code",
   "execution_count": 15,
   "id": "8d77a99d-3f37-4460-a0ba-528e6a452b7f",
   "metadata": {},
   "outputs": [
    {
     "name": "stdout",
     "output_type": "stream",
     "text": [
      "#########################\n",
      "######### INPUTS ########\n",
      "#########################\n",
      "\n",
      "Input Document: touchscreen-compatible leather gloves\n",
      "\n",
      "Adjacent Tags: ['uppers', 'fingerless', 'finger', 'index', 'thumb', 'separately', 'palms', 'material', 'reveal', 'wrists']\n",
      "\n",
      "Input Tags: [('leather', 34), ('gloves', 34), ('touchscreen-compatible', 4)]\n",
      "\n",
      "#########################\n",
      "#### RECOMMENDATIONS ####\n",
      "#########################\n",
      "\n",
      "1. Gloves in soft, supple leather. Lined.\n"
     ]
    },
    {
     "data": {
      "text/plain": [
       "{'leather': 0.2073988527845495, 'gloves': 0.12352022669882463}"
      ]
     },
     "metadata": {},
     "output_type": "display_data"
    },
    {
     "name": "stdout",
     "output_type": "stream",
     "text": [
      "------------------------------------------------------------------------------------------------------------------------------------------------------\n",
      "2. Knitted gloves with imitation leather uppers and palms, and foldover cuffs. Fleece lining.\n"
     ]
    },
    {
     "data": {
      "text/plain": [
       "{'leather': 0.2670948829331712, 'gloves': 0.15937689528085738}"
      ]
     },
     "metadata": {},
     "output_type": "display_data"
    },
    {
     "name": "stdout",
     "output_type": "stream",
     "text": [
      "------------------------------------------------------------------------------------------------------------------------------------------------------\n",
      "3. Gloves in soft, supple imitation leather. Lined.\n"
     ]
    },
    {
     "data": {
      "text/plain": [
       "{'leather': 0.34516763563315667, 'gloves': 0.12053537136355569}"
      ]
     },
     "metadata": {},
     "output_type": "display_data"
    },
    {
     "name": "stdout",
     "output_type": "stream",
     "text": [
      "------------------------------------------------------------------------------------------------------------------------------------------------------\n",
      "4. Gloves in soft leather with a wool-blend lining.\n"
     ]
    },
    {
     "data": {
      "text/plain": [
       "{'leather': 0.1958111740706286, 'gloves': 0.13112183930780735}"
      ]
     },
     "metadata": {},
     "output_type": "display_data"
    },
    {
     "name": "stdout",
     "output_type": "stream",
     "text": [
      "------------------------------------------------------------------------------------------------------------------------------------------------------\n",
      "5. Gloves in soft, supple leather with a zip at the top. Lined.\n"
     ]
    },
    {
     "data": {
      "text/plain": [
       "{'leather': 0.20665850936680918, 'gloves': 0.1214333485597665}"
      ]
     },
     "metadata": {},
     "output_type": "display_data"
    },
    {
     "name": "stdout",
     "output_type": "stream",
     "text": [
      "------------------------------------------------------------------------------------------------------------------------------------------------------\n"
     ]
    }
   ],
   "source": [
    "# Use adjacent tags to make a different query\n",
    "recommender.initial_recommendations(input_document='touchscreen-compatible leather gloves', \n",
    "                                    internal_n_recs=50, show_n_recs=5,\n",
    "                                    n_input_tags=10, n_candidate_tags=5, \n",
    "                                    n_adjacent_tags=10)"
   ]
  },
  {
   "cell_type": "code",
   "execution_count": 16,
   "id": "5b52d056-3016-401b-b6b0-4fd856dbdd9c",
   "metadata": {},
   "outputs": [
    {
     "name": "stdout",
     "output_type": "stream",
     "text": [
      "#########################\n",
      "######### INPUTS ########\n",
      "#########################\n",
      "\n",
      "Input Document: touchscreen-compatible leather gloves\n",
      "\n",
      "Adjacent Tags: ['uppers', 'fingerless', 'finger', 'index', 'thumb', 'separately', 'palms', 'material', 'reveal', 'wrists']\n",
      "\n",
      "Input Tags: [('leather', 34), ('gloves', 34), ('touchscreen-compatible', 4)]\n",
      "\n",
      "#########################\n",
      "#### RECOMMENDATIONS ####\n",
      "#########################\n",
      "\n",
      "1. Water-repellent, softshell gloves with a soft fleece lining and reinforced palms in imitation leather. Elastication at the wrists, reflective details and a plastic hook-and-eye fastening to keep the gloves together. The tops of the thumb and index finger are made from touchscreen-compatible material.\n"
     ]
    },
    {
     "data": {
      "text/plain": [
       "{'leather': 0.19472717214131188,\n",
       " 'gloves': 0.15001561130385516,\n",
       " 'touchscreen-compatible': 0.012376869801815151}"
      ]
     },
     "metadata": {},
     "output_type": "display_data"
    },
    {
     "name": "stdout",
     "output_type": "stream",
     "text": [
      "------------------------------------------------------------------------------------------------------------------------------------------------------\n",
      "2. Leather gloves with the tops of the thumb and index finger in touchscreen-compatible material. Lined.\n"
     ]
    },
    {
     "data": {
      "text/plain": [
       "{'leather': 0.1561100997109584,\n",
       " 'gloves': 0.10653147568587917,\n",
       " 'touchscreen-compatible': 0.010008457553765643}"
      ]
     },
     "metadata": {},
     "output_type": "display_data"
    },
    {
     "name": "stdout",
     "output_type": "stream",
     "text": [
      "------------------------------------------------------------------------------------------------------------------------------------------------------\n",
      "3. Leather gloves. The tops of the thumb, index finger and middle finger have been treated to make them touchscreen-compatible. Lined.\n"
     ]
    },
    {
     "data": {
      "text/plain": [
       "{'leather': 0.14557601091577818,\n",
       " 'gloves': 0.09878422659707824,\n",
       " 'touchscreen-compatible': 0.008980177457843823}"
      ]
     },
     "metadata": {},
     "output_type": "display_data"
    },
    {
     "name": "stdout",
     "output_type": "stream",
     "text": [
      "------------------------------------------------------------------------------------------------------------------------------------------------------\n",
      "4. Fine-knit gloves with touchscreen-compatible material on the thumb, index and middle finger.\n"
     ]
    },
    {
     "data": {
      "text/plain": [
       "{'gloves': 0.10371584273337257, 'touchscreen-compatible': 0.007186697664351248}"
      ]
     },
     "metadata": {},
     "output_type": "display_data"
    },
    {
     "name": "stdout",
     "output_type": "stream",
     "text": [
      "------------------------------------------------------------------------------------------------------------------------------------------------------\n",
      "5. Gloves in soft, supple leather. Lined.\n"
     ]
    },
    {
     "data": {
      "text/plain": [
       "{'leather': 0.2073988527845495, 'gloves': 0.12352022669882463}"
      ]
     },
     "metadata": {},
     "output_type": "display_data"
    },
    {
     "name": "stdout",
     "output_type": "stream",
     "text": [
      "------------------------------------------------------------------------------------------------------------------------------------------------------\n"
     ]
    }
   ],
   "source": [
    "# Re-rank product recommendations based on an input tag\n",
    "recommender.rerank(selected_tags=['touchscreen-compatible'])"
   ]
  },
  {
   "cell_type": "code",
   "execution_count": null,
   "id": "518c97e9-0a20-42a1-9afb-b132f6255c14",
   "metadata": {},
   "outputs": [],
   "source": []
  }
 ],
 "metadata": {
  "kernelspec": {
   "display_name": "Python 3 (ipykernel)",
   "language": "python",
   "name": "python3"
  },
  "language_info": {
   "codemirror_mode": {
    "name": "ipython",
    "version": 3
   },
   "file_extension": ".py",
   "mimetype": "text/x-python",
   "name": "python",
   "nbconvert_exporter": "python",
   "pygments_lexer": "ipython3",
   "version": "3.8.10"
  }
 },
 "nbformat": 4,
 "nbformat_minor": 5
}
