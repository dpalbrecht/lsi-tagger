{
 "cells": [
  {
   "cell_type": "code",
   "execution_count": 1,
   "id": "6845d714-1fe0-43b0-8b7d-9ab583b3d016",
   "metadata": {},
   "outputs": [
    {
     "name": "stderr",
     "output_type": "stream",
     "text": [
      "[nltk_data] Downloading package averaged_perceptron_tagger to\n",
      "[nltk_data]     C:\\Users\\David\\AppData\\Roaming\\nltk_data...\n",
      "[nltk_data]   Package averaged_perceptron_tagger is already up-to-\n",
      "[nltk_data]       date!\n"
     ]
    }
   ],
   "source": [
    "from gensim import corpora, models\n",
    "import pandas as pd\n",
    "import numpy as np\n",
    "import sys\n",
    "from collections import Counter\n",
    "import itertools\n",
    "from lsi_tagger.model import TagExtractor\n",
    "\n",
    "%load_ext autoreload\n",
    "%autoreload 2"
   ]
  },
  {
   "cell_type": "code",
   "execution_count": 2,
   "id": "76b076de-bf48-4685-b0c3-34ca8f9fc35f",
   "metadata": {},
   "outputs": [
    {
     "name": "stdout",
     "output_type": "stream",
     "text": [
      "(105126, 25)\n"
     ]
    },
    {
     "data": {
      "text/html": [
       "<div>\n",
       "<style scoped>\n",
       "    .dataframe tbody tr th:only-of-type {\n",
       "        vertical-align: middle;\n",
       "    }\n",
       "\n",
       "    .dataframe tbody tr th {\n",
       "        vertical-align: top;\n",
       "    }\n",
       "\n",
       "    .dataframe thead th {\n",
       "        text-align: right;\n",
       "    }\n",
       "</style>\n",
       "<table border=\"1\" class=\"dataframe\">\n",
       "  <thead>\n",
       "    <tr style=\"text-align: right;\">\n",
       "      <th></th>\n",
       "      <th>article_id</th>\n",
       "      <th>product_code</th>\n",
       "      <th>prod_name</th>\n",
       "      <th>product_type_no</th>\n",
       "      <th>product_type_name</th>\n",
       "      <th>product_group_name</th>\n",
       "      <th>graphical_appearance_no</th>\n",
       "      <th>graphical_appearance_name</th>\n",
       "      <th>colour_group_code</th>\n",
       "      <th>colour_group_name</th>\n",
       "      <th>...</th>\n",
       "      <th>department_name</th>\n",
       "      <th>index_code</th>\n",
       "      <th>index_name</th>\n",
       "      <th>index_group_no</th>\n",
       "      <th>index_group_name</th>\n",
       "      <th>section_no</th>\n",
       "      <th>section_name</th>\n",
       "      <th>garment_group_no</th>\n",
       "      <th>garment_group_name</th>\n",
       "      <th>detail_desc</th>\n",
       "    </tr>\n",
       "  </thead>\n",
       "  <tbody>\n",
       "    <tr>\n",
       "      <th>0</th>\n",
       "      <td>108775015</td>\n",
       "      <td>108775</td>\n",
       "      <td>Strap top</td>\n",
       "      <td>253</td>\n",
       "      <td>Vest top</td>\n",
       "      <td>Garment Upper body</td>\n",
       "      <td>1010016</td>\n",
       "      <td>Solid</td>\n",
       "      <td>9</td>\n",
       "      <td>Black</td>\n",
       "      <td>...</td>\n",
       "      <td>Jersey Basic</td>\n",
       "      <td>A</td>\n",
       "      <td>Ladieswear</td>\n",
       "      <td>1</td>\n",
       "      <td>Ladieswear</td>\n",
       "      <td>16</td>\n",
       "      <td>Womens Everyday Basics</td>\n",
       "      <td>1002</td>\n",
       "      <td>Jersey Basic</td>\n",
       "      <td>Jersey top with narrow shoulder straps.</td>\n",
       "    </tr>\n",
       "    <tr>\n",
       "      <th>1</th>\n",
       "      <td>108775044</td>\n",
       "      <td>108775</td>\n",
       "      <td>Strap top</td>\n",
       "      <td>253</td>\n",
       "      <td>Vest top</td>\n",
       "      <td>Garment Upper body</td>\n",
       "      <td>1010016</td>\n",
       "      <td>Solid</td>\n",
       "      <td>10</td>\n",
       "      <td>White</td>\n",
       "      <td>...</td>\n",
       "      <td>Jersey Basic</td>\n",
       "      <td>A</td>\n",
       "      <td>Ladieswear</td>\n",
       "      <td>1</td>\n",
       "      <td>Ladieswear</td>\n",
       "      <td>16</td>\n",
       "      <td>Womens Everyday Basics</td>\n",
       "      <td>1002</td>\n",
       "      <td>Jersey Basic</td>\n",
       "      <td>Jersey top with narrow shoulder straps.</td>\n",
       "    </tr>\n",
       "  </tbody>\n",
       "</table>\n",
       "<p>2 rows × 25 columns</p>\n",
       "</div>"
      ],
      "text/plain": [
       "   article_id  product_code  prod_name  product_type_no product_type_name  \\\n",
       "0   108775015        108775  Strap top              253          Vest top   \n",
       "1   108775044        108775  Strap top              253          Vest top   \n",
       "\n",
       "   product_group_name  graphical_appearance_no graphical_appearance_name  \\\n",
       "0  Garment Upper body                  1010016                     Solid   \n",
       "1  Garment Upper body                  1010016                     Solid   \n",
       "\n",
       "   colour_group_code colour_group_name  ...  department_name index_code  \\\n",
       "0                  9             Black  ...     Jersey Basic          A   \n",
       "1                 10             White  ...     Jersey Basic          A   \n",
       "\n",
       "   index_name index_group_no  index_group_name section_no  \\\n",
       "0  Ladieswear              1        Ladieswear         16   \n",
       "1  Ladieswear              1        Ladieswear         16   \n",
       "\n",
       "             section_name garment_group_no  garment_group_name  \\\n",
       "0  Womens Everyday Basics             1002        Jersey Basic   \n",
       "1  Womens Everyday Basics             1002        Jersey Basic   \n",
       "\n",
       "                               detail_desc  \n",
       "0  Jersey top with narrow shoulder straps.  \n",
       "1  Jersey top with narrow shoulder straps.  \n",
       "\n",
       "[2 rows x 25 columns]"
      ]
     },
     "execution_count": 2,
     "metadata": {},
     "output_type": "execute_result"
    }
   ],
   "source": [
    "df = pd.read_csv('data/h&m_kaggle_products.csv')\n",
    "df = df[~df.isnull().any(axis=1)]\n",
    "print(df.shape)\n",
    "df.head(2)"
   ]
  },
  {
   "cell_type": "code",
   "execution_count": 3,
   "id": "c99a224d-a3f7-4000-9533-2b312c93a293",
   "metadata": {},
   "outputs": [
    {
     "name": "stderr",
     "output_type": "stream",
     "text": [
      "Preprocessing text: 100%|█████████████████████████████████████████████████████| 43404/43404 [00:01<00:00, 40663.94it/s]\n",
      "Filtering tokens: 100%|████████████████████████████████████████████████████████| 43404/43404 [00:05<00:00, 8473.37it/s]\n",
      "Making bigrams: 43404it [00:00, 109070.50it/s]\n",
      "Filtering by word count: 100%|███████████████████████████████████████████████| 43404/43404 [00:00<00:00, 140194.50it/s]\n",
      "2022-04-16 11:20:09 INFO     Training TF-IDF...\n",
      "2022-04-16 11:20:09 INFO     adding document #0 to Dictionary(0 unique tokens: [])\n",
      "2022-04-16 11:20:09 INFO     adding document #10000 to Dictionary(1635 unique tokens: ['jersey', 'jersey top', 'narrow', 'narrow shoulder', 'shoulder']...)\n",
      "2022-04-16 11:20:09 INFO     adding document #20000 to Dictionary(1773 unique tokens: ['jersey', 'jersey top', 'narrow', 'narrow shoulder', 'shoulder']...)\n",
      "2022-04-16 11:20:10 INFO     adding document #30000 to Dictionary(1863 unique tokens: ['jersey', 'jersey top', 'narrow', 'narrow shoulder', 'shoulder']...)\n",
      "2022-04-16 11:20:10 INFO     adding document #40000 to Dictionary(1912 unique tokens: ['jersey', 'jersey top', 'narrow', 'narrow shoulder', 'shoulder']...)\n",
      "2022-04-16 11:20:10 INFO     built Dictionary(1932 unique tokens: ['jersey', 'jersey top', 'narrow', 'narrow shoulder', 'shoulder']...) from 43404 documents (total 817599 corpus positions)\n",
      "2022-04-16 11:20:10 INFO     Dictionary lifecycle event {'msg': \"built Dictionary(1932 unique tokens: ['jersey', 'jersey top', 'narrow', 'narrow shoulder', 'shoulder']...) from 43404 documents (total 817599 corpus positions)\", 'datetime': '2022-04-16T11:20:10.435641', 'gensim': '4.1.2', 'python': '3.8.10 (tags/v3.8.10:3d8993a, May  3 2021, 11:48:03) [MSC v.1928 64 bit (AMD64)]', 'platform': 'Windows-10-10.0.19043-SP0', 'event': 'created'}\n",
      "2022-04-16 11:20:11 INFO     collecting document frequencies\n",
      "2022-04-16 11:20:11 INFO     PROGRESS: processing document #0\n",
      "2022-04-16 11:20:11 INFO     PROGRESS: processing document #10000\n",
      "2022-04-16 11:20:11 INFO     PROGRESS: processing document #20000\n",
      "2022-04-16 11:20:11 INFO     PROGRESS: processing document #30000\n",
      "2022-04-16 11:20:11 INFO     PROGRESS: processing document #40000\n",
      "2022-04-16 11:20:11 INFO     TfidfModel lifecycle event {'msg': 'calculated IDF weights for 43404 documents and 1932 features (782854 matrix non-zeros)', 'datetime': '2022-04-16T11:20:11.277931', 'gensim': '4.1.2', 'python': '3.8.10 (tags/v3.8.10:3d8993a, May  3 2021, 11:48:03) [MSC v.1928 64 bit (AMD64)]', 'platform': 'Windows-10-10.0.19043-SP0', 'event': 'initialize'}\n",
      "2022-04-16 11:20:11 INFO     Training LSI...\n",
      "2022-04-16 11:20:11 INFO     using serial LSI version on this node\n",
      "2022-04-16 11:20:11 INFO     updating model with new documents\n",
      "2022-04-16 11:20:13 INFO     preparing a new chunk of documents\n",
      "2022-04-16 11:20:13 INFO     using 100 extra samples and 2 power iterations\n",
      "2022-04-16 11:20:13 INFO     1st phase: constructing (1932, 300) action matrix\n",
      "2022-04-16 11:20:13 INFO     orthonormalizing (1932, 300) action matrix\n",
      "2022-04-16 11:20:14 INFO     2nd phase: running dense svd on (300, 20000) matrix\n",
      "2022-04-16 11:20:15 INFO     computing the final decomposition\n",
      "2022-04-16 11:20:15 INFO     keeping 200 factors (discarding 11.714% of energy spectrum)\n",
      "2022-04-16 11:20:15 INFO     processed documents up to #20000\n",
      "2022-04-16 11:20:15 INFO     topic #0(28.106): 0.168*\"pockets\" + 0.166*\"cuffs\" + 0.165*\"hem\" + 0.158*\"sleeves\" + 0.156*\"top\" + 0.151*\"long\" + 0.149*\"soft\" + 0.147*\"front\" + 0.145*\"back\" + 0.140*\"ribbing\"\n",
      "2022-04-16 11:20:15 INFO     topic #1(20.254): 0.208*\"fly\" + 0.200*\"pockets\" + -0.195*\"ribbing\" + 0.179*\"zip fly\" + -0.173*\"jumper\" + -0.165*\"neckline cuffs\" + -0.156*\"neckline\" + -0.155*\"hem\" + -0.155*\"cuffs\" + 0.155*\"legs\"\n",
      "2022-04-16 11:20:15 INFO     topic #2(19.071): 0.299*\"rubber\" + 0.278*\"rubber soles\" + 0.277*\"soles\" + 0.258*\"imitation\" + 0.246*\"insoles\" + 0.245*\"leather\" + 0.224*\"linings\" + 0.210*\"imitation leather\" + 0.163*\"loop\" + 0.153*\"cm\"\n",
      "2022-04-16 11:20:15 INFO     topic #3(18.230): -0.204*\"sweatshirt\" + -0.203*\"sweatshirt fabric\" + -0.199*\"ribbing\" + 0.171*\"dress\" + 0.169*\"shoulder straps\" + 0.159*\"straps\" + 0.157*\"shoulder\" + 0.154*\"short\" + 0.153*\"seam\" + 0.151*\"narrow\"\n",
      "2022-04-16 11:20:15 INFO     topic #4(16.837): -0.274*\"cotton jersey\" + -0.270*\"jersey\" + 0.199*\"collar\" + 0.161*\"buttons\" + -0.160*\"top\" + -0.153*\"elasticated\" + -0.147*\"cotton\" + -0.135*\"soft\" + -0.134*\"t-shirt\" + 0.131*\"long\"\n",
      "2022-04-16 11:20:17 INFO     preparing a new chunk of documents\n",
      "2022-04-16 11:20:17 INFO     using 100 extra samples and 2 power iterations\n",
      "2022-04-16 11:20:17 INFO     1st phase: constructing (1932, 300) action matrix\n",
      "2022-04-16 11:20:17 INFO     orthonormalizing (1932, 300) action matrix\n",
      "2022-04-16 11:20:18 INFO     2nd phase: running dense svd on (300, 20000) matrix\n",
      "2022-04-16 11:20:19 INFO     computing the final decomposition\n",
      "2022-04-16 11:20:19 INFO     keeping 200 factors (discarding 11.699% of energy spectrum)\n",
      "2022-04-16 11:20:19 INFO     merging projections: (1932, 200) + (1932, 200)\n",
      "2022-04-16 11:20:20 INFO     keeping 200 factors (discarding 4.207% of energy spectrum)\n",
      "2022-04-16 11:20:20 INFO     processed documents up to #40000\n",
      "2022-04-16 11:20:20 INFO     topic #0(39.939): 0.161*\"sleeves\" + 0.159*\"pockets\" + 0.154*\"top\" + 0.154*\"front\" + 0.150*\"long\" + 0.150*\"cuffs\" + 0.149*\"hem\" + 0.147*\"soft\" + 0.145*\"back\" + 0.144*\"short\"\n",
      "2022-04-16 11:20:20 INFO     topic #1(27.567): -0.224*\"pockets\" + -0.211*\"fly\" + 0.191*\"ribbing\" + -0.181*\"zip fly\" + 0.172*\"neckline\" + -0.164*\"legs\" + 0.155*\"hem\" + 0.154*\"neckline cuffs\" + 0.152*\"jumper\" + 0.150*\"cuffs\"\n",
      "2022-04-16 11:20:20 INFO     topic #2(25.678): -0.176*\"pockets\" + 0.168*\"straps\" + 0.165*\"shoulder straps\" + 0.164*\"shoulder\" + -0.160*\"sweatshirt\" + -0.158*\"sweatshirt fabric\" + -0.156*\"ribbing\" + 0.155*\"dress\" + 0.145*\"narrow\" + 0.142*\"seam\"\n",
      "2022-04-16 11:20:20 INFO     topic #3(25.001): -0.272*\"imitation\" + -0.262*\"leather\" + -0.235*\"soles\" + -0.233*\"insoles\" + -0.225*\"imitation leather\" + -0.206*\"linings\" + -0.195*\"cm\" + -0.190*\"rubber\" + -0.163*\"rubber soles\" + -0.160*\"loop\"\n",
      "2022-04-16 11:20:20 INFO     topic #4(23.592): 0.285*\"cotton jersey\" + 0.271*\"jersey\" + -0.190*\"collar\" + -0.159*\"buttons\" + 0.158*\"cotton\" + 0.151*\"organic\" + 0.149*\"organic cotton\" + -0.146*\"long\" + 0.146*\"top\" + -0.139*\"long sleeves\"\n",
      "2022-04-16 11:20:20 INFO     preparing a new chunk of documents\n",
      "2022-04-16 11:20:20 INFO     using 100 extra samples and 2 power iterations\n",
      "2022-04-16 11:20:20 INFO     1st phase: constructing (1932, 300) action matrix\n",
      "2022-04-16 11:20:20 INFO     orthonormalizing (1932, 300) action matrix\n",
      "2022-04-16 11:20:21 INFO     2nd phase: running dense svd on (300, 3404) matrix\n",
      "2022-04-16 11:20:21 INFO     computing the final decomposition\n",
      "2022-04-16 11:20:21 INFO     keeping 200 factors (discarding 10.591% of energy spectrum)\n",
      "2022-04-16 11:20:21 INFO     merging projections: (1932, 200) + (1932, 200)\n",
      "2022-04-16 11:20:21 INFO     keeping 200 factors (discarding 1.896% of energy spectrum)\n",
      "2022-04-16 11:20:21 INFO     processed documents up to #43404\n",
      "2022-04-16 11:20:21 INFO     topic #0(41.623): 0.164*\"sleeves\" + 0.155*\"pockets\" + 0.154*\"long\" + 0.152*\"front\" + 0.152*\"top\" + 0.152*\"cuffs\" + 0.148*\"soft\" + 0.148*\"hem\" + 0.144*\"cotton\" + 0.144*\"short\"\n",
      "2022-04-16 11:20:21 INFO     topic #1(28.553): -0.218*\"pockets\" + -0.203*\"fly\" + 0.191*\"ribbing\" + -0.174*\"zip fly\" + 0.174*\"neckline\" + -0.162*\"legs\" + 0.152*\"neckline cuffs\" + 0.152*\"hem\" + 0.151*\"jumper\" + -0.151*\"zip\"\n",
      "2022-04-16 11:20:21 INFO     topic #2(26.664): -0.186*\"pockets\" + 0.155*\"imitation\" + 0.152*\"straps\" + 0.151*\"leather\" + -0.149*\"sweatshirt\" + 0.149*\"dress\" + 0.149*\"shoulder\" + -0.148*\"sweatshirt fabric\" + 0.147*\"shoulder straps\" + -0.146*\"fly\"\n",
      "2022-04-16 11:20:21 INFO     topic #3(26.110): -0.265*\"imitation\" + -0.257*\"leather\" + -0.224*\"imitation leather\" + -0.223*\"insoles\" + -0.222*\"soles\" + -0.198*\"linings\" + -0.185*\"cm\" + -0.168*\"rubber\" + -0.154*\"loop\" + -0.145*\"rubber soles\"\n",
      "2022-04-16 11:20:21 INFO     topic #4(24.547): 0.286*\"cotton jersey\" + 0.273*\"jersey\" + -0.192*\"collar\" + -0.161*\"buttons\" + 0.158*\"cotton\" + 0.152*\"organic\" + 0.149*\"organic cotton\" + 0.148*\"top\" + -0.147*\"long\" + -0.141*\"cuffs\"\n",
      "2022-04-16 11:20:21 INFO     LsiModel lifecycle event {'msg': 'trained LsiModel(num_terms=1932, num_topics=200, decay=1.0, chunksize=20000) in 10.39s', 'datetime': '2022-04-16T11:20:21.675622', 'gensim': '4.1.2', 'python': '3.8.10 (tags/v3.8.10:3d8993a, May  3 2021, 11:48:03) [MSC v.1928 64 bit (AMD64)]', 'platform': 'Windows-10-10.0.19043-SP0', 'event': 'created'}\n",
      "2022-04-16 11:20:21 INFO     Tag Extractor training is done!\n"
     ]
    }
   ],
   "source": [
    "documents = df['detail_desc'].drop_duplicates().values\n",
    "\n",
    "te = TagExtractor(word_count_min=5, word_length_min=2, num_lsi_topics=200, \n",
    "                  bigram_kwargs={'bigrams_pmi_min_value':1, 'bigrams_min_freq':200})\n",
    "te.fit(documents)"
   ]
  },
  {
   "cell_type": "code",
   "execution_count": 4,
   "id": "d54e3a76-2a4c-4bd8-88d3-1685ca4c5238",
   "metadata": {},
   "outputs": [
    {
     "data": {
      "text/plain": [
       "200"
      ]
     },
     "execution_count": 4,
     "metadata": {},
     "output_type": "execute_result"
    }
   ],
   "source": [
    "len(te.tc.bigrams_dict)"
   ]
  },
  {
   "cell_type": "code",
   "execution_count": 5,
   "id": "b9dff8d1-9029-4a85-8213-e9a75082f9e5",
   "metadata": {},
   "outputs": [
    {
     "data": {
      "text/plain": [
       "([('jersey top', 1),\n",
       "  ('narrow shoulder', 1),\n",
       "  ('shoulder', 1),\n",
       "  ('shoulder straps', 1),\n",
       "  ('straps', 1),\n",
       "  ('narrow', 1),\n",
       "  ('top', 1),\n",
       "  ('jersey', 1)],\n",
       " [{},\n",
       "  {},\n",
       "  {'jersey top': 0.8234521965577675,\n",
       "   'narrow shoulder': 0.7826849124903947,\n",
       "   'shoulder': 0.6071230138053313,\n",
       "   'shoulder straps': 0.606222931645604,\n",
       "   'straps': 0.5936206410229897,\n",
       "   'narrow': 0.5876212913989638,\n",
       "   'top': 0.40098475426395075,\n",
       "   'jersey': 0.353774562951922},\n",
       "  {}])"
      ]
     },
     "execution_count": 5,
     "metadata": {},
     "output_type": "execute_result"
    }
   ],
   "source": [
    "input_tags, candidate_tags = te.transform(input_document='Jersey top with narrow shoulder straps.',\n",
    "                                          candidate_documents=[\n",
    "                                              'Tights with built-in support to lift the bottom. Black in 30 denier and light amber in 15 denier.',\n",
    "                                              'Semi shiny tights that shape the tummy, thighs and calves while also encouraging blood circulation in the legs. Elasticated waist.',\n",
    "                                              'Jersey top with narrow shoulder straps.',\n",
    "                                              'uygnhjkl'\n",
    "                                          ], \n",
    "                                          n_input_tags=10, n_candidate_tags=10)\n",
    "\n",
    "input_tags, candidate_tags"
   ]
  },
  {
   "cell_type": "code",
   "execution_count": 6,
   "id": "afa672f4-d6a2-4175-a3e8-609970d46d52",
   "metadata": {},
   "outputs": [
    {
     "data": {
      "text/plain": [
       "[2, 0, 1, 3]"
      ]
     },
     "execution_count": 6,
     "metadata": {},
     "output_type": "execute_result"
    }
   ],
   "source": [
    "new_candidate_ranking = te.rank(candidate_tags=candidate_tags, selected_tags=['jersey'])\n",
    "new_candidate_ranking"
   ]
  },
  {
   "cell_type": "code",
   "execution_count": 7,
   "id": "a529c3ac-6eba-4b5f-a36f-2672aefaa4b1",
   "metadata": {},
   "outputs": [],
   "source": [
    "te.save()\n",
    "te = TagExtractor()\n",
    "te.load()"
   ]
  },
  {
   "cell_type": "code",
   "execution_count": 8,
   "id": "1f6c546c-d412-42f6-a979-7a5935787a23",
   "metadata": {},
   "outputs": [
    {
     "data": {
      "text/plain": [
       "([('jersey top', 1),\n",
       "  ('narrow shoulder', 1),\n",
       "  ('shoulder', 1),\n",
       "  ('shoulder straps', 1),\n",
       "  ('straps', 1),\n",
       "  ('narrow', 1),\n",
       "  ('top', 1),\n",
       "  ('jersey', 1)],\n",
       " [{},\n",
       "  {},\n",
       "  {'jersey top': 0.8234521965577675,\n",
       "   'narrow shoulder': 0.7826849124903947,\n",
       "   'shoulder': 0.6071230138053313,\n",
       "   'shoulder straps': 0.606222931645604,\n",
       "   'straps': 0.5936206410229897,\n",
       "   'narrow': 0.5876212913989638,\n",
       "   'top': 0.40098475426395075,\n",
       "   'jersey': 0.353774562951922},\n",
       "  {}])"
      ]
     },
     "execution_count": 8,
     "metadata": {},
     "output_type": "execute_result"
    }
   ],
   "source": [
    "input_tags, candidate_tags = te.transform(input_document='Jersey top with narrow shoulder straps.',\n",
    "                                          candidate_documents=[\n",
    "                                              'Tights with built-in support to lift the bottom. Black in 30 denier and light amber in 15 denier.',\n",
    "                                              'Semi shiny tights that shape the tummy, thighs and calves while also encouraging blood circulation in the legs. Elasticated waist.',\n",
    "                                              'Jersey top with narrow shoulder straps.',\n",
    "                                              'uygnhjkl'\n",
    "                                          ], \n",
    "                                          n_input_tags=10, n_candidate_tags=10)\n",
    "\n",
    "input_tags, candidate_tags"
   ]
  },
  {
   "cell_type": "code",
   "execution_count": 9,
   "id": "c5b2c704-054b-4f25-bb05-cf5adce3b55e",
   "metadata": {},
   "outputs": [
    {
     "data": {
      "text/plain": [
       "[2, 0, 1, 3]"
      ]
     },
     "execution_count": 9,
     "metadata": {},
     "output_type": "execute_result"
    }
   ],
   "source": [
    "new_candidate_ranking = te.rank(candidate_tags=candidate_tags, selected_tags=['jersey'])\n",
    "new_candidate_ranking"
   ]
  },
  {
   "cell_type": "code",
   "execution_count": null,
   "id": "55024a9c-7176-4587-a193-036e682640f9",
   "metadata": {},
   "outputs": [],
   "source": []
  },
  {
   "cell_type": "code",
   "execution_count": null,
   "id": "1d186db5-dc5d-423c-bb46-e054a4098da0",
   "metadata": {},
   "outputs": [],
   "source": []
  },
  {
   "cell_type": "code",
   "execution_count": null,
   "id": "6a77f3f4-9cd7-49c3-9cb7-0cebb8f79a23",
   "metadata": {},
   "outputs": [],
   "source": []
  },
  {
   "cell_type": "code",
   "execution_count": 10,
   "id": "c3baf127-eca3-444b-9f47-ed6b8a9f0ddf",
   "metadata": {},
   "outputs": [],
   "source": [
    "from tqdm import tqdm\n",
    "\n",
    "class ContentRecommender:\n",
    "    def __init__(self):\n",
    "        lsi_vecs = np.array([self._lsi_corpus2vec(cl) for cl in tqdm(te.corpus_lsi, desc='Creating LSI Vectors')])\n",
    "        self.lsi_vecs_normed = lsi_vecs/np.linalg.norm(lsi_vecs, axis=1)[:,None]\n",
    "        self.lsi_topic_matrix_T_normed = te.lsi_topic_matrix.T/np.linalg.norm(te.lsi_topic_matrix.T, axis=1)[:,None]\n",
    "        \n",
    "    def _lsi_corpus2vec(self, lsi_corpus_vec):\n",
    "        vec = np.zeros(te.num_lsi_topics)\n",
    "        for ind, value in lsi_corpus_vec:\n",
    "            vec[ind] = value\n",
    "        return vec\n",
    "    \n",
    "    def _adjacent_tags(self, input_tags):\n",
    "        bow = te.dictionary.doc2bow(input_tags)\n",
    "        bow_vec = self._lsi_corpus2vec(te.lsi_model[te.tfidf[bow]])\n",
    "        bow_vec_normed = bow_vec/np.linalg.norm(bow_vec)\n",
    "        sims = bow_vec_normed.dot(self.lsi_topic_matrix_T_normed.T)\n",
    "        top_inds = np.argsort(sims)[::-1]\n",
    "\n",
    "        adj_tags = []\n",
    "        count = 0\n",
    "        for t in top_inds:\n",
    "            tag = te.dictionary[t]\n",
    "            flag = True\n",
    "            for input_tag in input_tags:\n",
    "                if (input_tag in tag) or (tag in input_tag):\n",
    "                    flag = False\n",
    "            if flag:\n",
    "                count += 1\n",
    "                adj_tags.append(tag)\n",
    "            if count == self.n_adjacent_tags:\n",
    "                break\n",
    "        return adj_tags\n",
    "    \n",
    "    def _show(self, candidate_documents, candidate_tags):\n",
    "        print(\"#########################\")\n",
    "        print(\"######### INPUTS ########\")\n",
    "        print(\"#########################\\n\")\n",
    "        print(f\"Input Document: {self.input_document}\")\n",
    "        print(f\"\\nAdjacent Tags: {self.input_adjacent_tags}\")\n",
    "        print(f\"\\nInput Tags: {self.input_tags}\")\n",
    "        \n",
    "        print(\"\\n#########################\")\n",
    "        print(\"#### RECOMMENDATIONS ####\")\n",
    "        print(\"#########################\\n\")\n",
    "        for n, candidate_doc in enumerate(candidate_documents):\n",
    "            print(f\"{n+1}. {candidate_doc}\")\n",
    "            display(candidate_tags[n])\n",
    "            print('-'*150)\n",
    "            if (n+1) == self.show_n_recs:\n",
    "                break\n",
    "                \n",
    "    def _get_content_recommendations(self, input_document):\n",
    "        _, input_corpus_lsi = te._get_vector_representations(input_document)\n",
    "        input_lsi_vec = self._lsi_corpus2vec(input_corpus_lsi)\n",
    "        input_lsi_vec_normed = input_lsi_vec/np.linalg.norm(input_lsi_vec)\n",
    "        sims = input_lsi_vec_normed.dot(self.lsi_vecs_normed.T)\n",
    "        top_inds = np.argsort(sims)[::-1][:(self.internal_n_recs+1)]\n",
    "        self.candidate_documents = [documents[ti] for ti in top_inds if documents[ti]!=input_document]\n",
    "        self.input_tags, self.candidate_tags = te.transform(input_document=input_document,\n",
    "                                                            candidate_documents=self.candidate_documents, \n",
    "                                                            n_input_tags=self.n_input_tags, \n",
    "                                                            n_candidate_tags=self.n_candidate_tags)\n",
    "        self.input_adjacent_tags = self._adjacent_tags(input_tags=[t[0] for t in self.input_tags])\n",
    "    \n",
    "    def initial_recommendations(self, input_document, \n",
    "                                internal_n_recs=50, show_n_recs=5,\n",
    "                                n_input_tags=10, n_candidate_tags=5,\n",
    "                                n_adjacent_tags=10):\n",
    "        self.__dict__.update(locals())\n",
    "        self._get_content_recommendations(self.input_document)\n",
    "        self._show(self.candidate_documents, self.candidate_tags)\n",
    "        \n",
    "    def rerank(self, selected_tags):\n",
    "        ranking = te.rank(candidate_tags=self.candidate_tags, \n",
    "                          selected_tags=selected_tags)\n",
    "        candidate_documents = np.array(self.candidate_documents)[ranking]\n",
    "        candidate_tags = np.array(self.candidate_tags)[ranking]\n",
    "        self._show(candidate_documents, candidate_tags)"
   ]
  },
  {
   "cell_type": "code",
   "execution_count": 11,
   "id": "f946108f-7785-4e45-9af1-66e8b6bce451",
   "metadata": {},
   "outputs": [
    {
     "name": "stderr",
     "output_type": "stream",
     "text": [
      "Creating LSI Vectors: 100%|████████████████████████████████████████████████████| 43404/43404 [00:07<00:00, 5875.28it/s]\n"
     ]
    }
   ],
   "source": [
    "recommender = ContentRecommender()"
   ]
  },
  {
   "cell_type": "code",
   "execution_count": 12,
   "id": "86ab9f88-05b3-4c6f-b37c-6f031be9484e",
   "metadata": {},
   "outputs": [
    {
     "name": "stdout",
     "output_type": "stream",
     "text": [
      "#########################\n",
      "######### INPUTS ########\n",
      "#########################\n",
      "\n",
      "Input Document: Straight-cut, linen-blend jacket in a patterned weave with a shawl collar, padded shoulders and long sleeves with decorative buttons at the cuffs. Buttons at the front and front pockets. Lined.\n",
      "\n",
      "Adjacent Tags: ['two-button', 'single-breasted', 'lapel', 'herringbone', 'stitching', 'taper', 'buttonhole', 'peak', 'narrower', 'resort']\n",
      "\n",
      "Input Tags: [('buttons', 49), ('decorative', 45), ('jacket', 45), ('decorative buttons', 42), ('straight-cut', 26), ('front', 19), ('front pockets', 11), ('long sleeves', 6), ('patterned', 3), ('weave', 2)]\n",
      "\n",
      "#########################\n",
      "#### RECOMMENDATIONS ####\n",
      "#########################\n",
      "\n",
      "1. Straight-cut, double-breasted jacket in a patterned weave with notch lapels and covered buttons at the front. Long sleeves with decorative buttons at the cuffs and welt front pockets with a flap. Lined.\n"
     ]
    },
    {
     "data": {
      "text/plain": [
       "{'buttons': 0.6040084576442799,\n",
       " 'straight-cut': 0.5165327590197821,\n",
       " 'decorative': 0.45251703358402384,\n",
       " 'jacket': 0.3992945718140283,\n",
       " 'decorative buttons': 0.37273231138306073}"
      ]
     },
     "metadata": {},
     "output_type": "display_data"
    },
    {
     "name": "stdout",
     "output_type": "stream",
     "text": [
      "------------------------------------------------------------------------------------------------------------------------------------------------------\n",
      "2. Single-breasted jacket in a viscose weave with peak lapels, jetted front pockets and decorative buttons at the cuffs. Lined.\n"
     ]
    },
    {
     "data": {
      "text/plain": [
       "{'buttons': 0.5159429351454702,\n",
       " 'decorative': 0.4890461578310454,\n",
       " 'jacket': 0.4098731304478827,\n",
       " 'decorative buttons': 0.37317545183368306,\n",
       " 'front': 0.30614840658358006}"
      ]
     },
     "metadata": {},
     "output_type": "display_data"
    },
    {
     "name": "stdout",
     "output_type": "stream",
     "text": [
      "------------------------------------------------------------------------------------------------------------------------------------------------------\n",
      "3. Straight-cut jacket in a patterned linen and viscose weave with notch lapels, buttons at the front, welt front pockets and decorative buttons at the cuffs. Partly lined.\n"
     ]
    },
    {
     "data": {
      "text/plain": [
       "{'buttons': 0.6033670506258286,\n",
       " 'straight-cut': 0.5207388398787527,\n",
       " 'decorative': 0.4616967960328113,\n",
       " 'jacket': 0.42845213258734566,\n",
       " 'decorative buttons': 0.38323580399025403}"
      ]
     },
     "metadata": {},
     "output_type": "display_data"
    },
    {
     "name": "stdout",
     "output_type": "stream",
     "text": [
      "------------------------------------------------------------------------------------------------------------------------------------------------------\n",
      "4. Straight-cut, double-breasted jacket in woven fabric with peak lapels, welt front pockets and decorative buttons at the cuffs. Lined.\n"
     ]
    },
    {
     "data": {
      "text/plain": [
       "{'straight-cut': 0.5401074499530998,\n",
       " 'buttons': 0.5027620009613111,\n",
       " 'decorative': 0.47169966798603746,\n",
       " 'jacket': 0.4029527881709758,\n",
       " 'decorative buttons': 0.36343541787636996}"
      ]
     },
     "metadata": {},
     "output_type": "display_data"
    },
    {
     "name": "stdout",
     "output_type": "stream",
     "text": [
      "------------------------------------------------------------------------------------------------------------------------------------------------------\n",
      "5. Double-breasted jacket in a striped weave with peak lapels, jetted front pockets and decorative buttons at the cuffs. Lined.\n"
     ]
    },
    {
     "data": {
      "text/plain": [
       "{'buttons': 0.49783490212270237,\n",
       " 'decorative': 0.4759950236261371,\n",
       " 'jacket': 0.3891374730972165,\n",
       " 'decorative buttons': 0.3489875038498884,\n",
       " 'front': 0.29364625298233726}"
      ]
     },
     "metadata": {},
     "output_type": "display_data"
    },
    {
     "name": "stdout",
     "output_type": "stream",
     "text": [
      "------------------------------------------------------------------------------------------------------------------------------------------------------\n"
     ]
    }
   ],
   "source": [
    "# Use an existing product description as the input, to find similar products\n",
    "recommender.initial_recommendations(input_document=documents[10000], \n",
    "                                    internal_n_recs=50, show_n_recs=5,\n",
    "                                    n_input_tags=10, n_candidate_tags=5, \n",
    "                                    n_adjacent_tags=10)"
   ]
  },
  {
   "cell_type": "code",
   "execution_count": 13,
   "id": "81318a45-115a-4350-bde6-7442e99a0d8f",
   "metadata": {},
   "outputs": [
    {
     "name": "stdout",
     "output_type": "stream",
     "text": [
      "#########################\n",
      "######### INPUTS ########\n",
      "#########################\n",
      "\n",
      "Input Document: Straight-cut, linen-blend jacket in a patterned weave with a shawl collar, padded shoulders and long sleeves with decorative buttons at the cuffs. Buttons at the front and front pockets. Lined.\n",
      "\n",
      "Adjacent Tags: ['two-button', 'single-breasted', 'lapel', 'herringbone', 'stitching', 'taper', 'buttonhole', 'peak', 'narrower', 'resort']\n",
      "\n",
      "Input Tags: [('buttons', 49), ('decorative', 45), ('jacket', 45), ('decorative buttons', 42), ('straight-cut', 26), ('front', 19), ('front pockets', 11), ('long sleeves', 6), ('patterned', 3), ('weave', 2)]\n",
      "\n",
      "#########################\n",
      "#### RECOMMENDATIONS ####\n",
      "#########################\n",
      "\n",
      "1. Straight-cut shirt in a soft, patterned viscose weave with a collar and buttons down the front. Long sleeves with narrow, buttoned cuffs, and a rounded hem.\n"
     ]
    },
    {
     "data": {
      "text/plain": [
       "{'straight-cut': 0.6369120049209104,\n",
       " 'buttons': 0.524776461659095,\n",
       " 'patterned': 0.46429118032507855,\n",
       " 'long sleeves': 0.36747888514634175,\n",
       " 'weave': 0.3384893294060679}"
      ]
     },
     "metadata": {},
     "output_type": "display_data"
    },
    {
     "name": "stdout",
     "output_type": "stream",
     "text": [
      "------------------------------------------------------------------------------------------------------------------------------------------------------\n",
      "2. Short, straight-cut coat in a patterned weave with a zip down the front, long sleeves and zipped front pockets with a fake flap. Lined.\n"
     ]
    },
    {
     "data": {
      "text/plain": [
       "{'straight-cut': 0.6199036373391155,\n",
       " 'patterned': 0.42808317578043054,\n",
       " 'front pockets': 0.32558433956226557,\n",
       " 'long sleeves': 0.3208542024336082,\n",
       " 'front': 0.3136423010228962}"
      ]
     },
     "metadata": {},
     "output_type": "display_data"
    },
    {
     "name": "stdout",
     "output_type": "stream",
     "text": [
      "------------------------------------------------------------------------------------------------------------------------------------------------------\n",
      "3. Jacket in a linen and cotton weave with notch lapels, buttons at the front, a chest pocket and flap front pockets. Decorative buttons at the cuffs and a single back vent. Patterned lining.\n"
     ]
    },
    {
     "data": {
      "text/plain": [
       "{'buttons': 0.5984048713340762,\n",
       " 'decorative': 0.4568742921278206,\n",
       " 'decorative buttons': 0.40165018632983246,\n",
       " 'patterned': 0.3404270331869367,\n",
       " 'jacket': 0.3392924495797817}"
      ]
     },
     "metadata": {},
     "output_type": "display_data"
    },
    {
     "name": "stdout",
     "output_type": "stream",
     "text": [
      "------------------------------------------------------------------------------------------------------------------------------------------------------\n",
      "4. Two-button jacket in a herringbone linen and cotton weave with a decorative chest pocket, flap front pockets, decorative buttons at the cuffs and a single back vent. Partly lined.\n"
     ]
    },
    {
     "data": {
      "text/plain": [
       "{'decorative': 0.5460576502248433,\n",
       " 'buttons': 0.47909871104270363,\n",
       " 'decorative buttons': 0.3947374169768017,\n",
       " 'jacket': 0.30440142486444155,\n",
       " 'front pockets': 0.27640206630344405}"
      ]
     },
     "metadata": {},
     "output_type": "display_data"
    },
    {
     "name": "stdout",
     "output_type": "stream",
     "text": [
      "------------------------------------------------------------------------------------------------------------------------------------------------------\n",
      "5. Jacket in a viscose weave with a sheen. Shawl collar, covered buttons at the front and long sleeves with wide cuffs. Detachable belt at the waist, and decorative piping at the front and cuffs. Unlined.\n"
     ]
    },
    {
     "data": {
      "text/plain": [
       "{'buttons': 0.4748476734428302,\n",
       " 'decorative': 0.40745794844088895,\n",
       " 'jacket': 0.3321357038470315,\n",
       " 'front': 0.281336075756626,\n",
       " 'long sleeves': 0.27738396346991795}"
      ]
     },
     "metadata": {},
     "output_type": "display_data"
    },
    {
     "name": "stdout",
     "output_type": "stream",
     "text": [
      "------------------------------------------------------------------------------------------------------------------------------------------------------\n"
     ]
    }
   ],
   "source": [
    "# Re-rank product recommendations with emphasis on a few input tags\n",
    "recommender.rerank(selected_tags=['patterned'])"
   ]
  },
  {
   "cell_type": "code",
   "execution_count": 14,
   "id": "78738fec-a12b-423d-99d1-e36fcc24394d",
   "metadata": {},
   "outputs": [
    {
     "name": "stdout",
     "output_type": "stream",
     "text": [
      "#########################\n",
      "######### INPUTS ########\n",
      "#########################\n",
      "\n",
      "Input Document: leather gloves\n",
      "\n",
      "Adjacent Tags: ['fingerless', 'uppers', 'separately', 'touchscreen-compatible', 'index', 'finger', 'reveal', 'thumb', 'palms', 'material']\n",
      "\n",
      "Input Tags: [('leather', 41), ('gloves', 26)]\n",
      "\n",
      "#########################\n",
      "#### RECOMMENDATIONS ####\n",
      "#########################\n",
      "\n",
      "1. Gloves in soft, supple leather. Lined.\n"
     ]
    },
    {
     "data": {
      "text/plain": [
       "{'leather': 0.2697697269627539, 'gloves': 0.16263032272489955}"
      ]
     },
     "metadata": {},
     "output_type": "display_data"
    },
    {
     "name": "stdout",
     "output_type": "stream",
     "text": [
      "------------------------------------------------------------------------------------------------------------------------------------------------------\n",
      "2. Gloves in soft, supple imitation leather. Lined.\n"
     ]
    },
    {
     "data": {
      "text/plain": [
       "{'leather': 0.407979670937061, 'gloves': 0.15655984554677976}"
      ]
     },
     "metadata": {},
     "output_type": "display_data"
    },
    {
     "name": "stdout",
     "output_type": "stream",
     "text": [
      "------------------------------------------------------------------------------------------------------------------------------------------------------\n",
      "3. Knitted gloves with imitation leather uppers and palms, and foldover cuffs. Fleece lining.\n"
     ]
    },
    {
     "data": {
      "text/plain": [
       "{'leather': 0.3269884723326767, 'gloves': 0.19394106644352957}"
      ]
     },
     "metadata": {},
     "output_type": "display_data"
    },
    {
     "name": "stdout",
     "output_type": "stream",
     "text": [
      "------------------------------------------------------------------------------------------------------------------------------------------------------\n",
      "4. Gloves in soft leather with a wool-blend lining.\n"
     ]
    },
    {
     "data": {
      "text/plain": [
       "{'leather': 0.2569530068776335, 'gloves': 0.1676026789596508}"
      ]
     },
     "metadata": {},
     "output_type": "display_data"
    },
    {
     "name": "stdout",
     "output_type": "stream",
     "text": [
      "------------------------------------------------------------------------------------------------------------------------------------------------------\n",
      "5. Gloves in soft, supple leather with a zip at the top. Lined.\n"
     ]
    },
    {
     "data": {
      "text/plain": [
       "{'leather': 0.26862292643613206, 'gloves': 0.16104456185196314}"
      ]
     },
     "metadata": {},
     "output_type": "display_data"
    },
    {
     "name": "stdout",
     "output_type": "stream",
     "text": [
      "------------------------------------------------------------------------------------------------------------------------------------------------------\n"
     ]
    }
   ],
   "source": [
    "# Use free-text to find products that match the description best\n",
    "recommender.initial_recommendations(input_document='leather gloves', \n",
    "                                    internal_n_recs=50, show_n_recs=5,\n",
    "                                    n_input_tags=10, n_candidate_tags=5, \n",
    "                                    n_adjacent_tags=10)"
   ]
  },
  {
   "cell_type": "code",
   "execution_count": 15,
   "id": "8d77a99d-3f37-4460-a0ba-528e6a452b7f",
   "metadata": {},
   "outputs": [
    {
     "name": "stdout",
     "output_type": "stream",
     "text": [
      "#########################\n",
      "######### INPUTS ########\n",
      "#########################\n",
      "\n",
      "Input Document: touchscreen-compatible leather gloves\n",
      "\n",
      "Adjacent Tags: ['fingerless', 'uppers', 'index', 'separately', 'finger', 'thumb', 'reveal', 'palms', 'material', 'wrists']\n",
      "\n",
      "Input Tags: [('leather', 36), ('gloves', 31), ('touchscreen-compatible', 4)]\n",
      "\n",
      "#########################\n",
      "#### RECOMMENDATIONS ####\n",
      "#########################\n",
      "\n",
      "1. Gloves in soft, supple leather. Lined.\n"
     ]
    },
    {
     "data": {
      "text/plain": [
       "{'leather': 0.2108169906886095, 'gloves': 0.13305906973152337}"
      ]
     },
     "metadata": {},
     "output_type": "display_data"
    },
    {
     "name": "stdout",
     "output_type": "stream",
     "text": [
      "------------------------------------------------------------------------------------------------------------------------------------------------------\n",
      "2. Knitted gloves with imitation leather uppers and palms, and foldover cuffs. Fleece lining.\n"
     ]
    },
    {
     "data": {
      "text/plain": [
       "{'leather': 0.26803573605853226, 'gloves': 0.1643698134501534}"
      ]
     },
     "metadata": {},
     "output_type": "display_data"
    },
    {
     "name": "stdout",
     "output_type": "stream",
     "text": [
      "------------------------------------------------------------------------------------------------------------------------------------------------------\n",
      "3. Gloves in soft, supple imitation leather. Lined.\n"
     ]
    },
    {
     "data": {
      "text/plain": [
       "{'leather': 0.3490269346629167, 'gloves': 0.12698859255340358}"
      ]
     },
     "metadata": {},
     "output_type": "display_data"
    },
    {
     "name": "stdout",
     "output_type": "stream",
     "text": [
      "------------------------------------------------------------------------------------------------------------------------------------------------------\n",
      "4. Gloves in soft leather with a wool-blend lining.\n"
     ]
    },
    {
     "data": {
      "text/plain": [
       "{'leather': 0.19800027060348913, 'gloves': 0.13803142596627463}"
      ]
     },
     "metadata": {},
     "output_type": "display_data"
    },
    {
     "name": "stdout",
     "output_type": "stream",
     "text": [
      "------------------------------------------------------------------------------------------------------------------------------------------------------\n",
      "5. Gloves in soft, supple leather with a zip at the top. Lined.\n"
     ]
    },
    {
     "data": {
      "text/plain": [
       "{'leather': 0.20967019016198774, 'gloves': 0.13147330885858696}"
      ]
     },
     "metadata": {},
     "output_type": "display_data"
    },
    {
     "name": "stdout",
     "output_type": "stream",
     "text": [
      "------------------------------------------------------------------------------------------------------------------------------------------------------\n"
     ]
    }
   ],
   "source": [
    "# Use adjacent tags to make a different query\n",
    "recommender.initial_recommendations(input_document='touchscreen-compatible leather gloves', \n",
    "                                    internal_n_recs=50, show_n_recs=5,\n",
    "                                    n_input_tags=10, n_candidate_tags=5, \n",
    "                                    n_adjacent_tags=10)"
   ]
  },
  {
   "cell_type": "code",
   "execution_count": 16,
   "id": "5b52d056-3016-401b-b6b0-4fd856dbdd9c",
   "metadata": {},
   "outputs": [
    {
     "name": "stdout",
     "output_type": "stream",
     "text": [
      "#########################\n",
      "######### INPUTS ########\n",
      "#########################\n",
      "\n",
      "Input Document: touchscreen-compatible leather gloves\n",
      "\n",
      "Adjacent Tags: ['fingerless', 'uppers', 'index', 'separately', 'finger', 'thumb', 'reveal', 'palms', 'material', 'wrists']\n",
      "\n",
      "Input Tags: [('leather', 36), ('gloves', 31), ('touchscreen-compatible', 4)]\n",
      "\n",
      "#########################\n",
      "#### RECOMMENDATIONS ####\n",
      "#########################\n",
      "\n",
      "1. Water-repellent, softshell gloves with a soft fleece lining and reinforced palms in imitation leather. Elastication at the wrists, reflective details and a plastic hook-and-eye fastening to keep the gloves together. The tops of the thumb and index finger are made from touchscreen-compatible material.\n"
     ]
    },
    {
     "data": {
      "text/plain": [
       "{'leather': 0.195319265840494,\n",
       " 'gloves': 0.1487566578707491,\n",
       " 'touchscreen-compatible': 0.01263168234071435}"
      ]
     },
     "metadata": {},
     "output_type": "display_data"
    },
    {
     "name": "stdout",
     "output_type": "stream",
     "text": [
      "------------------------------------------------------------------------------------------------------------------------------------------------------\n",
      "2. Leather gloves with the tops of the thumb and index finger in touchscreen-compatible material. Lined.\n"
     ]
    },
    {
     "data": {
      "text/plain": [
       "{'leather': 0.15712906056563583,\n",
       " 'gloves': 0.11228477478436617,\n",
       " 'touchscreen-compatible': 0.01070671719353608}"
      ]
     },
     "metadata": {},
     "output_type": "display_data"
    },
    {
     "name": "stdout",
     "output_type": "stream",
     "text": [
      "------------------------------------------------------------------------------------------------------------------------------------------------------\n",
      "3. Leather gloves. The tops of the thumb, index finger and middle finger have been treated to make them touchscreen-compatible. Lined.\n"
     ]
    },
    {
     "data": {
      "text/plain": [
       "{'leather': 0.14667848273180378,\n",
       " 'gloves': 0.10407852766372036,\n",
       " 'touchscreen-compatible': 0.00958206773754007}"
      ]
     },
     "metadata": {},
     "output_type": "display_data"
    },
    {
     "name": "stdout",
     "output_type": "stream",
     "text": [
      "------------------------------------------------------------------------------------------------------------------------------------------------------\n",
      "4. Fine-knit gloves with touchscreen-compatible material on the thumb, index and middle finger.\n"
     ]
    },
    {
     "data": {
      "text/plain": [
       "{'gloves': 0.10867224682309784, 'touchscreen-compatible': 0.007508300795305566}"
      ]
     },
     "metadata": {},
     "output_type": "display_data"
    },
    {
     "name": "stdout",
     "output_type": "stream",
     "text": [
      "------------------------------------------------------------------------------------------------------------------------------------------------------\n",
      "5. Gloves in soft, supple leather. Lined.\n"
     ]
    },
    {
     "data": {
      "text/plain": [
       "{'leather': 0.2108169906886095, 'gloves': 0.13305906973152337}"
      ]
     },
     "metadata": {},
     "output_type": "display_data"
    },
    {
     "name": "stdout",
     "output_type": "stream",
     "text": [
      "------------------------------------------------------------------------------------------------------------------------------------------------------\n"
     ]
    }
   ],
   "source": [
    "# Re-rank product recommendations based on an input tag\n",
    "recommender.rerank(selected_tags=['touchscreen-compatible'])"
   ]
  },
  {
   "cell_type": "code",
   "execution_count": null,
   "id": "49d57cb7-debf-4165-afd1-9cb9adec7bbd",
   "metadata": {},
   "outputs": [],
   "source": []
  },
  {
   "cell_type": "code",
   "execution_count": null,
   "id": "cc5e53a8-42b6-4d22-837a-952194e69894",
   "metadata": {},
   "outputs": [],
   "source": []
  }
 ],
 "metadata": {
  "kernelspec": {
   "display_name": "Python 3 (ipykernel)",
   "language": "python",
   "name": "python3"
  },
  "language_info": {
   "codemirror_mode": {
    "name": "ipython",
    "version": 3
   },
   "file_extension": ".py",
   "mimetype": "text/x-python",
   "name": "python",
   "nbconvert_exporter": "python",
   "pygments_lexer": "ipython3",
   "version": "3.8.10"
  }
 },
 "nbformat": 4,
 "nbformat_minor": 5
}
