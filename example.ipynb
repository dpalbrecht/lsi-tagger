{
 "cells": [
  {
   "cell_type": "code",
   "execution_count": 1,
   "id": "6845d714-1fe0-43b0-8b7d-9ab583b3d016",
   "metadata": {},
   "outputs": [
    {
     "name": "stderr",
     "output_type": "stream",
     "text": [
      "[nltk_data] Downloading package averaged_perceptron_tagger to\n",
      "[nltk_data]     C:\\Users\\David\\AppData\\Roaming\\nltk_data...\n",
      "[nltk_data]   Package averaged_perceptron_tagger is already up-to-\n",
      "[nltk_data]       date!\n"
     ]
    }
   ],
   "source": [
    "from gensim import corpora, models\n",
    "import pandas as pd\n",
    "import numpy as np\n",
    "import sys\n",
    "from collections import Counter\n",
    "import itertools\n",
    "from lsi_tagger.model import TagExtractor\n",
    "\n",
    "%load_ext autoreload\n",
    "%autoreload 2"
   ]
  },
  {
   "cell_type": "code",
   "execution_count": 2,
   "id": "76b076de-bf48-4685-b0c3-34ca8f9fc35f",
   "metadata": {},
   "outputs": [
    {
     "name": "stdout",
     "output_type": "stream",
     "text": [
      "(105126, 25)\n"
     ]
    },
    {
     "data": {
      "text/html": [
       "<div>\n",
       "<style scoped>\n",
       "    .dataframe tbody tr th:only-of-type {\n",
       "        vertical-align: middle;\n",
       "    }\n",
       "\n",
       "    .dataframe tbody tr th {\n",
       "        vertical-align: top;\n",
       "    }\n",
       "\n",
       "    .dataframe thead th {\n",
       "        text-align: right;\n",
       "    }\n",
       "</style>\n",
       "<table border=\"1\" class=\"dataframe\">\n",
       "  <thead>\n",
       "    <tr style=\"text-align: right;\">\n",
       "      <th></th>\n",
       "      <th>article_id</th>\n",
       "      <th>product_code</th>\n",
       "      <th>prod_name</th>\n",
       "      <th>product_type_no</th>\n",
       "      <th>product_type_name</th>\n",
       "      <th>product_group_name</th>\n",
       "      <th>graphical_appearance_no</th>\n",
       "      <th>graphical_appearance_name</th>\n",
       "      <th>colour_group_code</th>\n",
       "      <th>colour_group_name</th>\n",
       "      <th>...</th>\n",
       "      <th>department_name</th>\n",
       "      <th>index_code</th>\n",
       "      <th>index_name</th>\n",
       "      <th>index_group_no</th>\n",
       "      <th>index_group_name</th>\n",
       "      <th>section_no</th>\n",
       "      <th>section_name</th>\n",
       "      <th>garment_group_no</th>\n",
       "      <th>garment_group_name</th>\n",
       "      <th>detail_desc</th>\n",
       "    </tr>\n",
       "  </thead>\n",
       "  <tbody>\n",
       "    <tr>\n",
       "      <th>0</th>\n",
       "      <td>108775015</td>\n",
       "      <td>108775</td>\n",
       "      <td>Strap top</td>\n",
       "      <td>253</td>\n",
       "      <td>Vest top</td>\n",
       "      <td>Garment Upper body</td>\n",
       "      <td>1010016</td>\n",
       "      <td>Solid</td>\n",
       "      <td>9</td>\n",
       "      <td>Black</td>\n",
       "      <td>...</td>\n",
       "      <td>Jersey Basic</td>\n",
       "      <td>A</td>\n",
       "      <td>Ladieswear</td>\n",
       "      <td>1</td>\n",
       "      <td>Ladieswear</td>\n",
       "      <td>16</td>\n",
       "      <td>Womens Everyday Basics</td>\n",
       "      <td>1002</td>\n",
       "      <td>Jersey Basic</td>\n",
       "      <td>Jersey top with narrow shoulder straps.</td>\n",
       "    </tr>\n",
       "    <tr>\n",
       "      <th>1</th>\n",
       "      <td>108775044</td>\n",
       "      <td>108775</td>\n",
       "      <td>Strap top</td>\n",
       "      <td>253</td>\n",
       "      <td>Vest top</td>\n",
       "      <td>Garment Upper body</td>\n",
       "      <td>1010016</td>\n",
       "      <td>Solid</td>\n",
       "      <td>10</td>\n",
       "      <td>White</td>\n",
       "      <td>...</td>\n",
       "      <td>Jersey Basic</td>\n",
       "      <td>A</td>\n",
       "      <td>Ladieswear</td>\n",
       "      <td>1</td>\n",
       "      <td>Ladieswear</td>\n",
       "      <td>16</td>\n",
       "      <td>Womens Everyday Basics</td>\n",
       "      <td>1002</td>\n",
       "      <td>Jersey Basic</td>\n",
       "      <td>Jersey top with narrow shoulder straps.</td>\n",
       "    </tr>\n",
       "  </tbody>\n",
       "</table>\n",
       "<p>2 rows × 25 columns</p>\n",
       "</div>"
      ],
      "text/plain": [
       "   article_id  product_code  prod_name  product_type_no product_type_name  \\\n",
       "0   108775015        108775  Strap top              253          Vest top   \n",
       "1   108775044        108775  Strap top              253          Vest top   \n",
       "\n",
       "   product_group_name  graphical_appearance_no graphical_appearance_name  \\\n",
       "0  Garment Upper body                  1010016                     Solid   \n",
       "1  Garment Upper body                  1010016                     Solid   \n",
       "\n",
       "   colour_group_code colour_group_name  ...  department_name index_code  \\\n",
       "0                  9             Black  ...     Jersey Basic          A   \n",
       "1                 10             White  ...     Jersey Basic          A   \n",
       "\n",
       "   index_name index_group_no  index_group_name section_no  \\\n",
       "0  Ladieswear              1        Ladieswear         16   \n",
       "1  Ladieswear              1        Ladieswear         16   \n",
       "\n",
       "             section_name garment_group_no  garment_group_name  \\\n",
       "0  Womens Everyday Basics             1002        Jersey Basic   \n",
       "1  Womens Everyday Basics             1002        Jersey Basic   \n",
       "\n",
       "                               detail_desc  \n",
       "0  Jersey top with narrow shoulder straps.  \n",
       "1  Jersey top with narrow shoulder straps.  \n",
       "\n",
       "[2 rows x 25 columns]"
      ]
     },
     "execution_count": 2,
     "metadata": {},
     "output_type": "execute_result"
    }
   ],
   "source": [
    "df = pd.read_csv('data/h&m_kaggle_products.csv')\n",
    "df = df[~df.isnull().any(axis=1)]\n",
    "print(df.shape)\n",
    "df.head(2)"
   ]
  },
  {
   "cell_type": "code",
   "execution_count": 3,
   "id": "c99a224d-a3f7-4000-9533-2b312c93a293",
   "metadata": {},
   "outputs": [
    {
     "name": "stderr",
     "output_type": "stream",
     "text": [
      "Preprocessing text: 100%|█████████████████████████████████████████████████████| 43404/43404 [00:03<00:00, 14037.50it/s]\n",
      "Filtering tokens: 100%|████████████████████████████████████████████████████████| 43404/43404 [00:12<00:00, 3453.21it/s]\n",
      "Making bigrams: 43404it [00:01, 41499.68it/s]\n",
      "Filtering by word count: 100%|████████████████████████████████████████████████| 43404/43404 [00:00<00:00, 58857.55it/s]\n",
      "2022-04-09 22:09:20 INFO     Training TF-IDF...\n",
      "2022-04-09 22:09:20 INFO     adding document #0 to Dictionary(0 unique tokens: [])\n",
      "2022-04-09 22:09:21 INFO     adding document #10000 to Dictionary(1741 unique tokens: ['jersey', 'jersey top', 'narrow', 'narrow shoulder', 'shoulder']...)\n",
      "2022-04-09 22:09:22 INFO     adding document #20000 to Dictionary(1937 unique tokens: ['jersey', 'jersey top', 'narrow', 'narrow shoulder', 'shoulder']...)\n",
      "2022-04-09 22:09:22 INFO     adding document #30000 to Dictionary(2069 unique tokens: ['jersey', 'jersey top', 'narrow', 'narrow shoulder', 'shoulder']...)\n",
      "2022-04-09 22:09:23 INFO     adding document #40000 to Dictionary(2180 unique tokens: ['jersey', 'jersey top', 'narrow', 'narrow shoulder', 'shoulder']...)\n",
      "2022-04-09 22:09:23 INFO     built Dictionary(2225 unique tokens: ['jersey', 'jersey top', 'narrow', 'narrow shoulder', 'shoulder']...) from 43404 documents (total 865207 corpus positions)\n",
      "2022-04-09 22:09:23 INFO     Dictionary lifecycle event {'msg': \"built Dictionary(2225 unique tokens: ['jersey', 'jersey top', 'narrow', 'narrow shoulder', 'shoulder']...) from 43404 documents (total 865207 corpus positions)\", 'datetime': '2022-04-09T22:09:23.935077', 'gensim': '4.1.2', 'python': '3.8.10 (tags/v3.8.10:3d8993a, May  3 2021, 11:48:03) [MSC v.1928 64 bit (AMD64)]', 'platform': 'Windows-10-10.0.19043-SP0', 'event': 'created'}\n",
      "2022-04-09 22:09:25 INFO     collecting document frequencies\n",
      "2022-04-09 22:09:25 INFO     PROGRESS: processing document #0\n",
      "2022-04-09 22:09:25 INFO     PROGRESS: processing document #10000\n",
      "2022-04-09 22:09:25 INFO     PROGRESS: processing document #20000\n",
      "2022-04-09 22:09:25 INFO     PROGRESS: processing document #30000\n",
      "2022-04-09 22:09:26 INFO     PROGRESS: processing document #40000\n",
      "2022-04-09 22:09:26 INFO     TfidfModel lifecycle event {'msg': 'calculated IDF weights for 43404 documents and 2225 features (826403 matrix non-zeros)', 'datetime': '2022-04-09T22:09:26.056222', 'gensim': '4.1.2', 'python': '3.8.10 (tags/v3.8.10:3d8993a, May  3 2021, 11:48:03) [MSC v.1928 64 bit (AMD64)]', 'platform': 'Windows-10-10.0.19043-SP0', 'event': 'initialize'}\n",
      "2022-04-09 22:09:26 INFO     Training LSI...\n",
      "2022-04-09 22:09:26 INFO     using serial LSI version on this node\n",
      "2022-04-09 22:09:26 INFO     updating model with new documents\n",
      "2022-04-09 22:09:30 INFO     preparing a new chunk of documents\n",
      "2022-04-09 22:09:30 INFO     using 100 extra samples and 2 power iterations\n",
      "2022-04-09 22:09:30 INFO     1st phase: constructing (2225, 300) action matrix\n",
      "2022-04-09 22:09:31 INFO     orthonormalizing (2225, 300) action matrix\n",
      "2022-04-09 22:09:33 INFO     2nd phase: running dense svd on (300, 20000) matrix\n",
      "2022-04-09 22:09:35 INFO     computing the final decomposition\n",
      "2022-04-09 22:09:35 INFO     keeping 200 factors (discarding 11.366% of energy spectrum)\n",
      "2022-04-09 22:09:35 INFO     processed documents up to #20000\n",
      "2022-04-09 22:09:35 INFO     topic #0(29.116): 0.166*\"long\" + 0.165*\"hem\" + 0.164*\"cuffs\" + 0.155*\"top\" + 0.154*\"sleeves\" + 0.151*\"soft\" + 0.151*\"pockets\" + 0.141*\"ribbing\" + 0.140*\"front\" + 0.137*\"back\"\n",
      "2022-04-09 22:09:35 INFO     topic #1(20.944): -0.231*\"knit\" + -0.209*\"jumper\" + -0.199*\"ribbing\" + 0.192*\"pockets\" + -0.178*\"neckline cuffs\" + 0.173*\"fly\" + -0.162*\"neckline\" + -0.158*\"fine\" + 0.148*\"zip fly\" + -0.148*\"fine knit\"\n",
      "2022-04-09 22:09:35 INFO     topic #2(19.047): 0.281*\"rubber\" + 0.263*\"rubber soles\" + 0.261*\"soles\" + 0.240*\"imitation\" + 0.232*\"insoles\" + 0.229*\"leather\" + 0.211*\"linings\" + 0.195*\"imitation leather\" + 0.151*\"loop\" + 0.142*\"cm\"\n",
      "2022-04-09 22:09:35 INFO     topic #3(18.673): 0.179*\"ribbing\" + -0.174*\"neck\" + -0.168*\"dress\" + 0.159*\"sweatshirt\" + 0.158*\"sweatshirt fabric\" + -0.158*\"short\" + 0.150*\"rubber\" + -0.148*\"seam\" + -0.142*\"shoulder\" + 0.141*\"rubber soles\"\n",
      "2022-04-09 22:09:35 INFO     topic #4(16.962): 0.263*\"knit\" + -0.263*\"sweatshirt\" + -0.262*\"sweatshirt fabric\" + 0.209*\"jumper\" + 0.199*\"fine\" + -0.195*\"fabric\" + 0.189*\"fine knit\" + -0.159*\"jersey\" + -0.157*\"inside\" + -0.157*\"brushed\"\n",
      "2022-04-09 22:09:40 INFO     preparing a new chunk of documents\n",
      "2022-04-09 22:09:40 INFO     using 100 extra samples and 2 power iterations\n",
      "2022-04-09 22:09:40 INFO     1st phase: constructing (2225, 300) action matrix\n",
      "2022-04-09 22:09:41 INFO     orthonormalizing (2225, 300) action matrix\n",
      "2022-04-09 22:09:43 INFO     2nd phase: running dense svd on (300, 20000) matrix\n",
      "2022-04-09 22:09:46 INFO     computing the final decomposition\n",
      "2022-04-09 22:09:46 INFO     keeping 200 factors (discarding 11.527% of energy spectrum)\n",
      "2022-04-09 22:09:46 INFO     merging projections: (2225, 200) + (2225, 200)\n",
      "2022-04-09 22:09:46 INFO     keeping 200 factors (discarding 3.929% of energy spectrum)\n",
      "2022-04-09 22:09:46 INFO     processed documents up to #40000\n",
      "2022-04-09 22:09:46 INFO     topic #0(41.320): 0.160*\"long\" + 0.157*\"sleeves\" + 0.153*\"top\" + 0.148*\"hem\" + 0.148*\"soft\" + 0.147*\"cuffs\" + 0.147*\"front\" + 0.145*\"short\" + 0.144*\"pockets\" + 0.140*\"cotton\"\n",
      "2022-04-09 22:09:46 INFO     topic #1(28.427): 0.211*\"knit\" + 0.203*\"ribbing\" + -0.203*\"pockets\" + 0.185*\"jumper\" + -0.175*\"fly\" + 0.175*\"neckline\" + 0.168*\"neckline cuffs\" + 0.159*\"long\" + 0.152*\"hem\" + -0.150*\"zip fly\"\n",
      "2022-04-09 22:09:46 INFO     topic #2(26.229): -0.191*\"pockets\" + 0.187*\"neck\" + 0.186*\"dress\" + 0.167*\"seam\" + 0.162*\"v neck\" + -0.161*\"ribbing\" + -0.159*\"sweatshirt\" + -0.157*\"sweatshirt fabric\" + 0.155*\"shoulder straps\" + 0.153*\"shoulder\"\n",
      "2022-04-09 22:09:46 INFO     topic #3(25.022): -0.299*\"imitation\" + -0.288*\"leather\" + -0.259*\"soles\" + -0.258*\"insoles\" + -0.248*\"imitation leather\" + -0.227*\"linings\" + -0.210*\"cm\" + -0.209*\"rubber\" + -0.180*\"rubber soles\" + -0.172*\"loop\"\n",
      "2022-04-09 22:09:46 INFO     topic #4(23.242): 0.304*\"cotton jersey\" + 0.280*\"jersey\" + -0.167*\"knit\" + 0.166*\"organic\" + 0.165*\"top\" + 0.164*\"organic cotton\" + 0.153*\"cotton\" + -0.141*\"jumper\" + -0.140*\"buttons\" + 0.127*\"shoulder\"\n",
      "2022-04-09 22:09:47 INFO     preparing a new chunk of documents\n",
      "2022-04-09 22:09:47 INFO     using 100 extra samples and 2 power iterations\n",
      "2022-04-09 22:09:47 INFO     1st phase: constructing (2225, 300) action matrix\n",
      "2022-04-09 22:09:47 INFO     orthonormalizing (2225, 300) action matrix\n",
      "2022-04-09 22:09:49 INFO     2nd phase: running dense svd on (300, 3404) matrix\n",
      "2022-04-09 22:09:50 INFO     computing the final decomposition\n",
      "2022-04-09 22:09:50 INFO     keeping 200 factors (discarding 10.296% of energy spectrum)\n",
      "2022-04-09 22:09:50 INFO     merging projections: (2225, 200) + (2225, 200)\n",
      "2022-04-09 22:09:51 INFO     keeping 200 factors (discarding 1.766% of energy spectrum)\n",
      "2022-04-09 22:09:51 INFO     processed documents up to #43404\n",
      "2022-04-09 22:09:51 INFO     topic #0(43.034): 0.163*\"long\" + 0.159*\"sleeves\" + 0.151*\"top\" + 0.149*\"cuffs\" + 0.148*\"soft\" + 0.147*\"hem\" + 0.146*\"front\" + 0.144*\"short\" + 0.142*\"cotton\" + 0.141*\"pockets\"\n",
      "2022-04-09 22:09:51 INFO     topic #1(29.422): 0.206*\"knit\" + 0.203*\"ribbing\" + -0.198*\"pockets\" + 0.182*\"jumper\" + 0.176*\"neckline\" + -0.170*\"fly\" + 0.165*\"neckline cuffs\" + 0.159*\"long\" + 0.150*\"hem\" + -0.145*\"zip fly\"\n",
      "2022-04-09 22:09:51 INFO     topic #2(27.202): -0.195*\"pockets\" + 0.191*\"dress\" + 0.186*\"neck\" + 0.169*\"seam\" + -0.162*\"sweatshirt\" + -0.160*\"sweatshirt fabric\" + 0.159*\"v neck\" + -0.157*\"ribbing\" + 0.145*\"shoulder straps\" + 0.142*\"shoulder\"\n",
      "2022-04-09 22:09:51 INFO     topic #3(26.137): -0.308*\"imitation\" + -0.298*\"leather\" + -0.259*\"imitation leather\" + -0.259*\"insoles\" + -0.258*\"soles\" + -0.229*\"linings\" + -0.212*\"cm\" + -0.194*\"rubber\" + -0.172*\"loop\" + -0.168*\"rubber soles\"\n",
      "2022-04-09 22:09:51 INFO     topic #4(24.137): 0.306*\"cotton jersey\" + 0.283*\"jersey\" + 0.169*\"organic\" + 0.167*\"top\" + 0.165*\"organic cotton\" + 0.158*\"cotton\" + -0.154*\"knit\" + -0.148*\"buttons\" + -0.134*\"jumper\" + -0.134*\"collar\"\n",
      "2022-04-09 22:09:51 INFO     LsiModel lifecycle event {'msg': 'trained LsiModel(num_terms=2225, num_topics=200, decay=1.0, chunksize=20000) in 25.04s', 'datetime': '2022-04-09T22:09:51.110332', 'gensim': '4.1.2', 'python': '3.8.10 (tags/v3.8.10:3d8993a, May  3 2021, 11:48:03) [MSC v.1928 64 bit (AMD64)]', 'platform': 'Windows-10-10.0.19043-SP0', 'event': 'created'}\n",
      "2022-04-09 22:09:51 INFO     Tag Extractor training is done!\n"
     ]
    }
   ],
   "source": [
    "documents = df['detail_desc'].drop_duplicates().values\n",
    "\n",
    "te = TagExtractor(word_count_min=2, word_length_min=2, num_lsi_topics=200, \n",
    "                  bigram_kwargs={'bigrams_pmi_min_value':1, 'bigrams_min_freq':200})\n",
    "te.fit(documents)"
   ]
  },
  {
   "cell_type": "code",
   "execution_count": 4,
   "id": "d54e3a76-2a4c-4bd8-88d3-1685ca4c5238",
   "metadata": {},
   "outputs": [
    {
     "data": {
      "text/plain": [
       "212"
      ]
     },
     "execution_count": 4,
     "metadata": {},
     "output_type": "execute_result"
    }
   ],
   "source": [
    "len(te.tc.bigrams_dict)"
   ]
  },
  {
   "cell_type": "code",
   "execution_count": 5,
   "id": "b9dff8d1-9029-4a85-8213-e9a75082f9e5",
   "metadata": {},
   "outputs": [
    {
     "data": {
      "text/plain": [
       "([('jersey top', 1),\n",
       "  ('narrow shoulder', 1),\n",
       "  ('narrow', 1),\n",
       "  ('shoulder straps', 1),\n",
       "  ('straps', 1),\n",
       "  ('shoulder', 1),\n",
       "  ('top', 1),\n",
       "  ('jersey', 1)],\n",
       " [{},\n",
       "  {},\n",
       "  {'jersey top': 0.8549823742572913,\n",
       "   'narrow shoulder': 0.8035616500295002,\n",
       "   'narrow': 0.6223701917320685,\n",
       "   'shoulder straps': 0.6127424222074097,\n",
       "   'straps': 0.5812710634781413,\n",
       "   'shoulder': 0.566411030702969,\n",
       "   'top': 0.37643360773759155,\n",
       "   'jersey': 0.36462090012732523},\n",
       "  {}])"
      ]
     },
     "execution_count": 5,
     "metadata": {},
     "output_type": "execute_result"
    }
   ],
   "source": [
    "input_tags, candidate_tags = te.transform(input_document='Jersey top with narrow shoulder straps.',\n",
    "                                          candidate_documents=[\n",
    "                                              'Tights with built-in support to lift the bottom. Black in 30 denier and light amber in 15 denier.',\n",
    "                                              'Semi shiny tights that shape the tummy, thighs and calves while also encouraging blood circulation in the legs. Elasticated waist.',\n",
    "                                              'Jersey top with narrow shoulder straps.',\n",
    "                                              'uygnhjkl'\n",
    "                                          ], \n",
    "                                          n_input_tags=10, n_candidate_tags=10)\n",
    "\n",
    "input_tags, candidate_tags"
   ]
  },
  {
   "cell_type": "code",
   "execution_count": 6,
   "id": "afa672f4-d6a2-4175-a3e8-609970d46d52",
   "metadata": {},
   "outputs": [
    {
     "data": {
      "text/plain": [
       "[2, 0, 1, 3]"
      ]
     },
     "execution_count": 6,
     "metadata": {},
     "output_type": "execute_result"
    }
   ],
   "source": [
    "new_candidate_ranking = te.rank(candidate_tags=candidate_tags, selected_tags=['jersey'])\n",
    "new_candidate_ranking"
   ]
  },
  {
   "cell_type": "code",
   "execution_count": 7,
   "id": "a529c3ac-6eba-4b5f-a36f-2672aefaa4b1",
   "metadata": {},
   "outputs": [],
   "source": [
    "te.save()\n",
    "te = TagExtractor()\n",
    "te.load()"
   ]
  },
  {
   "cell_type": "code",
   "execution_count": 8,
   "id": "1f6c546c-d412-42f6-a979-7a5935787a23",
   "metadata": {},
   "outputs": [
    {
     "data": {
      "text/plain": [
       "([('jersey top', 1),\n",
       "  ('narrow shoulder', 1),\n",
       "  ('shoulder straps', 1),\n",
       "  ('straps', 1),\n",
       "  ('narrow', 1),\n",
       "  ('shoulder', 1),\n",
       "  ('top', 1),\n",
       "  ('jersey', 1)],\n",
       " [{},\n",
       "  {},\n",
       "  {'jersey top': 0.8772317763823081,\n",
       "   'narrow shoulder': 0.7785568909779876,\n",
       "   'shoulder straps': 0.6355535130824466,\n",
       "   'straps': 0.6059983392044233,\n",
       "   'narrow': 0.6053735593033779,\n",
       "   'shoulder': 0.5555633523654915,\n",
       "   'top': 0.36434324889827213,\n",
       "   'jersey': 0.35461624727365776},\n",
       "  {}])"
      ]
     },
     "execution_count": 8,
     "metadata": {},
     "output_type": "execute_result"
    }
   ],
   "source": [
    "input_tags, candidate_tags = te.transform(input_document='Jersey top with narrow shoulder straps.',\n",
    "                                          candidate_documents=[\n",
    "                                              'Tights with built-in support to lift the bottom. Black in 30 denier and light amber in 15 denier.',\n",
    "                                              'Semi shiny tights that shape the tummy, thighs and calves while also encouraging blood circulation in the legs. Elasticated waist.',\n",
    "                                              'Jersey top with narrow shoulder straps.',\n",
    "                                              'uygnhjkl'\n",
    "                                          ], \n",
    "                                          n_input_tags=10, n_candidate_tags=10)\n",
    "\n",
    "input_tags, candidate_tags"
   ]
  },
  {
   "cell_type": "code",
   "execution_count": 9,
   "id": "c5b2c704-054b-4f25-bb05-cf5adce3b55e",
   "metadata": {},
   "outputs": [
    {
     "data": {
      "text/plain": [
       "[2, 0, 1, 3]"
      ]
     },
     "execution_count": 9,
     "metadata": {},
     "output_type": "execute_result"
    }
   ],
   "source": [
    "new_candidate_ranking = te.rank(candidate_tags=candidate_tags, selected_tags=['jersey'])\n",
    "new_candidate_ranking"
   ]
  },
  {
   "cell_type": "code",
   "execution_count": null,
   "id": "55024a9c-7176-4587-a193-036e682640f9",
   "metadata": {},
   "outputs": [],
   "source": []
  },
  {
   "cell_type": "code",
   "execution_count": null,
   "id": "1d186db5-dc5d-423c-bb46-e054a4098da0",
   "metadata": {},
   "outputs": [],
   "source": []
  },
  {
   "cell_type": "code",
   "execution_count": null,
   "id": "6a77f3f4-9cd7-49c3-9cb7-0cebb8f79a23",
   "metadata": {},
   "outputs": [],
   "source": []
  },
  {
   "cell_type": "code",
   "execution_count": 107,
   "id": "1bdabd8d-7797-4d53-949e-39247a050ec8",
   "metadata": {},
   "outputs": [],
   "source": [
    "# # TODO: Can give the user options of adjacent tags so that they can get new queries entirely?\n",
    "# # They can remove tags from the input document and add in other tags, like swapping out pants for jeans, etc.\n",
    "# # This results in a \"new\" input document\n",
    "\n",
    "# lsi_topic_matrix_T_normed = te.lsi_topic_matrix.T/np.linalg.norm(te.lsi_topic_matrix.T, axis=1)[:,None]\n",
    "\n",
    "# def lsi_corpus2vec(lsi_corpus_vec):\n",
    "#     vec = np.zeros(200)\n",
    "#     for ind, value in lsi_corpus_vec:\n",
    "#         vec[ind] = value\n",
    "#     return vec\n",
    "\n",
    "# tags = te.tc.transform([df['detail_desc'].drop_duplicates().values[779]])[0]\n",
    "# print(tags)\n",
    "# bow = te.dictionary.doc2bow(tags)\n",
    "# bow_vec = lsi_corpus2vec(te.lsi_model[te.tfidf[bow]])\n",
    "# bow_vec_normed = bow_vec/np.linalg.norm(bow_vec)\n",
    "# sims = bow_vec_normed.dot(lsi_topic_matrix_T_normed.T)\n",
    "# top_inds = np.argsort(-sims)\n",
    "# count = 0\n",
    "# for t in top_inds:\n",
    "#     tag = te.dictionary[t]\n",
    "#     if tag not in tags:\n",
    "#         print(tag)\n",
    "#         count += 1\n",
    "#     if count == 5:\n",
    "#         break"
   ]
  },
  {
   "cell_type": "code",
   "execution_count": null,
   "id": "5bd29cb2-8eaf-43f6-bfee-285f0d7147e2",
   "metadata": {},
   "outputs": [],
   "source": []
  },
  {
   "cell_type": "code",
   "execution_count": null,
   "id": "c3baf127-eca3-444b-9f47-ed6b8a9f0ddf",
   "metadata": {},
   "outputs": [],
   "source": []
  },
  {
   "cell_type": "code",
   "execution_count": 30,
   "id": "f3490a83-4423-4838-af43-78e13960d8f5",
   "metadata": {},
   "outputs": [],
   "source": [
    "def lsi_corpus2vec(lsi_corpus_vec):\n",
    "    vec = np.zeros(te.num_lsi_topics)\n",
    "    for ind, value in lsi_corpus_vec:\n",
    "        vec[ind] = value\n",
    "    return vec\n",
    "\n",
    "lsi_vecs = np.array([lsi_corpus2vec(cl) for cl in te.corpus_lsi])\n",
    "lsi_vecs_normed = lsi_vecs/np.linalg.norm(lsi_vecs, axis=1)[:,None]"
   ]
  },
  {
   "cell_type": "code",
   "execution_count": 102,
   "id": "04e3969f-46a1-451f-80e7-d1f8ca2b6270",
   "metadata": {},
   "outputs": [],
   "source": [
    "lsi_topic_matrix_T_normed = te.lsi_topic_matrix.T/np.linalg.norm(te.lsi_topic_matrix.T, axis=1)[:,None]\n",
    "\n",
    "def adjacent_tags(input_tags, n_adjacent_tags=10):\n",
    "    bow = te.dictionary.doc2bow(input_tags)\n",
    "    bow_vec = lsi_corpus2vec(te.lsi_model[te.tfidf[bow]])\n",
    "    bow_vec_normed = bow_vec/np.linalg.norm(bow_vec)\n",
    "    sims = bow_vec_normed.dot(lsi_topic_matrix_T_normed.T)\n",
    "    top_inds = np.argsort(sims)[::-1]\n",
    "    \n",
    "    adj_tags = []\n",
    "    count = 0\n",
    "    for t in top_inds:\n",
    "        tag = te.dictionary[t]\n",
    "        if tag not in input_tags:\n",
    "            count += 1\n",
    "            adj_tags.append(tag)\n",
    "        if count == n_adjacent_tags:\n",
    "            break\n",
    "    return adj_tags"
   ]
  },
  {
   "cell_type": "code",
   "execution_count": 105,
   "id": "d3cde079-b8fc-4203-8b1d-29a3af252079",
   "metadata": {},
   "outputs": [],
   "source": [
    "def show_recommendations_with_tags(input_document, \n",
    "                                   internal_n_recs=50, show_n_recs=5,\n",
    "                                   n_input_tags=10, n_candidate_tags=5,\n",
    "                                   n_adjacent_tags=10,\n",
    "                                   selected_tags=[]):\n",
    "    _, input_corpus_lsi = te._get_vector_representations(input_document)\n",
    "    input_lsi_vec = lsi_corpus2vec(input_corpus_lsi)\n",
    "    input_lsi_vec_normed = input_lsi_vec/np.linalg.norm(input_lsi_vec)\n",
    "    sims = input_lsi_vec_normed.dot(lsi_vecs_normed.T)\n",
    "    top_inds = np.argsort(sims)[::-1][:(internal_n_recs+1)]\n",
    "    candidate_documents = [documents[ti] for ti in top_inds if documents[ti]!=input_document]\n",
    "    input_tags, candidate_tags = te.transform(input_document=input_document,\n",
    "                                              candidate_documents=candidate_documents, \n",
    "                                              n_input_tags=n_input_tags, \n",
    "                                              n_candidate_tags=n_candidate_tags)\n",
    "    input_adjacent_tags = adjacent_tags(input_tags=[t[0] for t in input_tags],\n",
    "                                        n_adjacent_tags=n_adjacent_tags)\n",
    "    if len(selected_tags) > 0:\n",
    "        ranking = te.rank(candidate_tags=candidate_tags, \n",
    "                          selected_tags=selected_tags)\n",
    "        candidate_documents = np.array(candidate_documents)[ranking]\n",
    "        candidate_tags = np.array(candidate_tags)[ranking]\n",
    "\n",
    "    print(input_document)\n",
    "    print(f\"Input Tags: {input_tags}\")\n",
    "    print(f\"Adjacent Tags: {input_adjacent_tags}\")\n",
    "    print('='*150)\n",
    "    print()\n",
    "\n",
    "    for n, candidate_doc in enumerate(candidate_documents):\n",
    "        print(candidate_doc)\n",
    "        display(candidate_tags[n])\n",
    "        print('-'*150)\n",
    "        if (n+1) == show_n_recs:\n",
    "            break"
   ]
  },
  {
   "cell_type": "code",
   "execution_count": null,
   "id": "a532d158-1fda-493e-a31f-e48ac44e24c2",
   "metadata": {},
   "outputs": [],
   "source": [
    "# Adjacent tags are for adding tokens/tags or replacing them to create a new input \"document\" to get new recommendations and pairs of tags"
   ]
  },
  {
   "cell_type": "code",
   "execution_count": 106,
   "id": "7eead9a5-8367-46e1-a6d0-0f78d6e74fc6",
   "metadata": {},
   "outputs": [
    {
     "name": "stdout",
     "output_type": "stream",
     "text": [
      "Jersey top with narrow shoulder straps.\n",
      "Input Tags: [('shoulder straps', 486), ('straps', 486), ('narrow', 478), ('shoulder', 473), ('narrow shoulder', 450), ('top', 39), ('jersey top', 36), ('jersey', 25)]\n",
      "Adjacent Tags: ['ballon', 'join', 'swimsuits', 'knots', 'cross', 'sock', 'bodies', 'narrow cut', 'tankini', 'bustier']\n",
      "======================================================================================================================================================\n",
      "\n",
      "Fitted jersey top with narrow shoulder straps.\n"
     ]
    },
    {
     "data": {
      "text/plain": [
       "{'jersey top': 0.7778493927084533,\n",
       " 'narrow shoulder': 0.7443624326659819,\n",
       " 'shoulder straps': 0.6084045654463418,\n",
       " 'narrow': 0.5992542723284608,\n",
       " 'straps': 0.5735725438985558}"
      ]
     },
     "metadata": {},
     "output_type": "display_data"
    },
    {
     "name": "stdout",
     "output_type": "stream",
     "text": [
      "------------------------------------------------------------------------------------------------------------------------------------------------------\n",
      "Jersey top with a V-neck and narrow shoulder straps.\n"
     ]
    },
    {
     "data": {
      "text/plain": [
       "{'jersey top': 0.7895180995988038,\n",
       " 'narrow shoulder': 0.7424408172030121,\n",
       " 'shoulder straps': 0.6128653136562148,\n",
       " 'narrow': 0.5997496712896061,\n",
       " 'straps': 0.5798600112898259}"
      ]
     },
     "metadata": {},
     "output_type": "display_data"
    },
    {
     "name": "stdout",
     "output_type": "stream",
     "text": [
      "------------------------------------------------------------------------------------------------------------------------------------------------------\n",
      "Short, fitted jersey top with narrow shoulder straps.\n"
     ]
    },
    {
     "data": {
      "text/plain": [
       "{'jersey top': 0.7678761456693017,\n",
       " 'narrow shoulder': 0.7364699526486589,\n",
       " 'shoulder straps': 0.6037793648169301,\n",
       " 'narrow': 0.5950904710267855,\n",
       " 'straps': 0.5664648497161655}"
      ]
     },
     "metadata": {},
     "output_type": "display_data"
    },
    {
     "name": "stdout",
     "output_type": "stream",
     "text": [
      "------------------------------------------------------------------------------------------------------------------------------------------------------\n",
      "Pleated jersey top with a metallic coating, narrow shoulder straps and a V-neck at the front.\n"
     ]
    },
    {
     "data": {
      "text/plain": [
       "{'jersey top': 0.6874856961237855,\n",
       " 'narrow shoulder': 0.635401918399671,\n",
       " 'shoulder straps': 0.5243586911490498,\n",
       " 'narrow': 0.5180327519143767,\n",
       " 'straps': 0.4970202451085512}"
      ]
     },
     "metadata": {},
     "output_type": "display_data"
    },
    {
     "name": "stdout",
     "output_type": "stream",
     "text": [
      "------------------------------------------------------------------------------------------------------------------------------------------------------\n",
      "Jersey top in a soft silk and cotton blend with narrow shoulder straps.\n"
     ]
    },
    {
     "data": {
      "text/plain": [
       "{'jersey top': 0.7100134061329838,\n",
       " 'narrow shoulder': 0.6886866103953119,\n",
       " 'shoulder straps': 0.5609481587147457,\n",
       " 'narrow': 0.539734304551692,\n",
       " 'straps': 0.5325082234881369}"
      ]
     },
     "metadata": {},
     "output_type": "display_data"
    },
    {
     "name": "stdout",
     "output_type": "stream",
     "text": [
      "------------------------------------------------------------------------------------------------------------------------------------------------------\n"
     ]
    }
   ],
   "source": [
    "show_recommendations_with_tags(input_document=documents[0], \n",
    "                               internal_n_recs=500, show_n_recs=5,\n",
    "                               n_input_tags=10, n_candidate_tags=5, \n",
    "                               n_adjacent_tags=10,\n",
    "                               selected_tags=[])"
   ]
  },
  {
   "cell_type": "code",
   "execution_count": null,
   "id": "2749a757-e6f0-4750-a87d-d6c240108a04",
   "metadata": {},
   "outputs": [],
   "source": []
  }
 ],
 "metadata": {
  "kernelspec": {
   "display_name": "Python 3 (ipykernel)",
   "language": "python",
   "name": "python3"
  },
  "language_info": {
   "codemirror_mode": {
    "name": "ipython",
    "version": 3
   },
   "file_extension": ".py",
   "mimetype": "text/x-python",
   "name": "python",
   "nbconvert_exporter": "python",
   "pygments_lexer": "ipython3",
   "version": "3.8.10"
  }
 },
 "nbformat": 4,
 "nbformat_minor": 5
}
